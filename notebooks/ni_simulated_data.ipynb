{
 "cells": [
  {
   "cell_type": "code",
   "execution_count": 20,
   "metadata": {
    "collapsed": true
   },
   "outputs": [],
   "source": [
    "import niwidgets"
   ]
  },
  {
   "cell_type": "code",
   "execution_count": 21,
   "metadata": {
    "collapsed": true
   },
   "outputs": [],
   "source": [
    "import nilearn\n"
   ]
  },
  {
   "cell_type": "markdown",
   "metadata": {},
   "source": [
    "## Example from nilearn"
   ]
  },
  {
   "cell_type": "code",
   "execution_count": 22,
   "metadata": {},
   "outputs": [
    {
     "name": "stderr",
     "output_type": "stream",
     "text": [
      "[Parallel(n_jobs=1)]: Done   3 out of   3 | elapsed:    0.5s finished\n"
     ]
    },
    {
     "name": "stdout",
     "output_type": "stream",
     "text": [
      "[GroupSparseCovarianceCV.fit] [GroupSparseCovarianceCV] Done refinement  1 out of 4\n"
     ]
    },
    {
     "name": "stderr",
     "output_type": "stream",
     "text": [
      "[Parallel(n_jobs=1)]: Done   3 out of   3 | elapsed:    0.5s finished\n"
     ]
    },
    {
     "name": "stdout",
     "output_type": "stream",
     "text": [
      "[GroupSparseCovarianceCV.fit] [GroupSparseCovarianceCV] Done refinement  2 out of 4\n"
     ]
    },
    {
     "name": "stderr",
     "output_type": "stream",
     "text": [
      "[Parallel(n_jobs=1)]: Done   3 out of   3 | elapsed:    0.5s finished\n"
     ]
    },
    {
     "name": "stdout",
     "output_type": "stream",
     "text": [
      "[GroupSparseCovarianceCV.fit] [GroupSparseCovarianceCV] Done refinement  3 out of 4\n"
     ]
    },
    {
     "name": "stderr",
     "output_type": "stream",
     "text": [
      "[Parallel(n_jobs=1)]: Done   3 out of   3 | elapsed:    0.5s finished\n",
      "/opt/conda/envs/neuro/lib/python3.6/site-packages/nilearn/connectome/group_sparse_cov.py:245: UserWarning: input signals do not all have unit variance. This can lead to numerical instability.\n",
      "  warnings.warn(\"input signals do not all have unit variance. This \"\n"
     ]
    },
    {
     "name": "stdout",
     "output_type": "stream",
     "text": [
      "[GroupSparseCovarianceCV.fit] [GroupSparseCovarianceCV] Done refinement  4 out of 4\n",
      "[GroupSparseCovarianceCV.fit] Final optimization\n"
     ]
    },
    {
     "name": "stderr",
     "output_type": "stream",
     "text": [
      "[Parallel(n_jobs=1)]: Done   3 out of   3 | elapsed:    0.1s finished\n",
      "[Parallel(n_jobs=1)]: Done   3 out of   3 | elapsed:    0.1s finished\n",
      "[Parallel(n_jobs=1)]: Done   3 out of   3 | elapsed:    0.0s finished\n",
      "[Parallel(n_jobs=1)]: Done   3 out of   3 | elapsed:    0.1s finished\n"
     ]
    },
    {
     "name": "stdout",
     "output_type": "stream",
     "text": [
      "[GraphLassoCV] Done refinement  1 out of 4:   0s\n",
      "[GraphLassoCV] Done refinement  2 out of 4:   0s\n",
      "[GraphLassoCV] Done refinement  3 out of 4:   0s\n",
      "[GraphLassoCV] Done refinement  4 out of 4:   0s\n"
     ]
    },
    {
     "name": "stderr",
     "output_type": "stream",
     "text": [
      "[Parallel(n_jobs=1)]: Done   3 out of   3 | elapsed:    0.1s finished\n",
      "[Parallel(n_jobs=1)]: Done   3 out of   3 | elapsed:    0.0s finished\n",
      "[Parallel(n_jobs=1)]: Done   3 out of   3 | elapsed:    0.0s finished\n",
      "[Parallel(n_jobs=1)]: Done   3 out of   3 | elapsed:    0.0s finished\n"
     ]
    },
    {
     "name": "stdout",
     "output_type": "stream",
     "text": [
      "[GraphLassoCV] Done refinement  1 out of 4:   0s\n",
      "[GraphLassoCV] Done refinement  2 out of 4:   0s\n",
      "[GraphLassoCV] Done refinement  3 out of 4:   0s\n",
      "[GraphLassoCV] Done refinement  4 out of 4:   0s\n"
     ]
    },
    {
     "name": "stderr",
     "output_type": "stream",
     "text": [
      "[Parallel(n_jobs=1)]: Done   3 out of   3 | elapsed:    0.1s finished\n",
      "[Parallel(n_jobs=1)]: Done   3 out of   3 | elapsed:    0.0s finished\n",
      "[Parallel(n_jobs=1)]: Done   3 out of   3 | elapsed:    0.1s finished\n",
      "[Parallel(n_jobs=1)]: Done   3 out of   3 | elapsed:    0.1s finished\n"
     ]
    },
    {
     "name": "stdout",
     "output_type": "stream",
     "text": [
      "[GraphLassoCV] Done refinement  1 out of 4:   0s\n",
      "[GraphLassoCV] Done refinement  2 out of 4:   0s\n",
      "[GraphLassoCV] Done refinement  3 out of 4:   0s\n",
      "[GraphLassoCV] Done refinement  4 out of 4:   0s\n"
     ]
    },
    {
     "name": "stderr",
     "output_type": "stream",
     "text": [
      "[Parallel(n_jobs=1)]: Done   3 out of   3 | elapsed:    0.0s finished\n",
      "[Parallel(n_jobs=1)]: Done   3 out of   3 | elapsed:    0.1s finished\n",
      "[Parallel(n_jobs=1)]: Done   3 out of   3 | elapsed:    0.0s finished\n",
      "[Parallel(n_jobs=1)]: Done   3 out of   3 | elapsed:    0.0s finished\n"
     ]
    },
    {
     "name": "stdout",
     "output_type": "stream",
     "text": [
      "[GraphLassoCV] Done refinement  1 out of 4:   0s\n",
      "[GraphLassoCV] Done refinement  2 out of 4:   0s\n",
      "[GraphLassoCV] Done refinement  3 out of 4:   0s\n",
      "[GraphLassoCV] Done refinement  4 out of 4:   0s\n"
     ]
    },
    {
     "data": {
      "image/png": "[encoded data removed]",
      "text/plain": [
       "<matplotlib.figure.Figure at 0x7f57d41b3f28>"
      ]
     },
     "metadata": {},
     "output_type": "display_data"
    }
   ],
   "source": [
    "import matplotlib.pyplot as plt\n",
    "\n",
    "\n",
    "def plot_matrix(m, ylabel=\"\"):\n",
    "    abs_max = abs(m).max()\n",
    "    plt.imshow(m, cmap=plt.cm.RdBu_r, interpolation=\"nearest\",\n",
    "               vmin=-abs_max, vmax=abs_max)\n",
    "\n",
    "\n",
    "# Generate synthetic data\n",
    "from nilearn._utils.testing import generate_group_sparse_gaussian_graphs\n",
    "\n",
    "n_subjects = 20  # number of subjects\n",
    "n_displayed = 3  # number of subjects displayed\n",
    "subjects, precisions, topology = generate_group_sparse_gaussian_graphs(\n",
    "    n_subjects=n_subjects, n_features=10, min_n_samples=30, max_n_samples=50,\n",
    "    density=0.1)\n",
    "\n",
    "fig = plt.figure(figsize=(10, 7))\n",
    "plt.subplots_adjust(hspace=0.4)\n",
    "for n in range(n_displayed):\n",
    "    plt.subplot(n_displayed, 4, 4 * n + 1)\n",
    "    plot_matrix(precisions[n])\n",
    "    if n == 0:\n",
    "        plt.title(\"ground truth\")\n",
    "    plt.ylabel(\"subject %d\" % n)\n",
    "\n",
    "\n",
    "# Run group-sparse covariance on all subjects\n",
    "from nilearn.connectome import GroupSparseCovarianceCV\n",
    "gsc = GroupSparseCovarianceCV(max_iter=50, verbose=1)\n",
    "gsc.fit(subjects)\n",
    "\n",
    "for n in range(n_displayed):\n",
    "    plt.subplot(n_displayed, 4, 4 * n + 2)\n",
    "    plot_matrix(gsc.precisions_[..., n])\n",
    "    if n == 0:\n",
    "        plt.title(\"group-sparse\\n$\\\\alpha=%.2f$\" % gsc.alpha_)\n",
    "\n",
    "\n",
    "# Fit one graph lasso per subject\n",
    "from sklearn.covariance import GraphLassoCV\n",
    "gl = GraphLassoCV(verbose=1)\n",
    "\n",
    "for n, subject in enumerate(subjects[:n_displayed]):\n",
    "    gl.fit(subject)\n",
    "\n",
    "    plt.subplot(n_displayed, 4, 4 * n + 3)\n",
    "    plot_matrix(gl.precision_)\n",
    "    if n == 0:\n",
    "        plt.title(\"graph lasso\")\n",
    "    plt.ylabel(\"$\\\\alpha=%.2f$\" % gl.alpha_)\n",
    "\n",
    "\n",
    "# Fit one graph lasso for all subjects at once\n",
    "import numpy as np\n",
    "gl.fit(np.concatenate(subjects))\n",
    "\n",
    "plt.subplot(n_displayed, 4, 4)\n",
    "plot_matrix(gl.precision_)\n",
    "plt.title(\"graph lasso, all subjects\\n$\\\\alpha=%.2f$\" % gl.alpha_)\n",
    "\n",
    "plt.show()"
   ]
  },
  {
   "cell_type": "code",
   "execution_count": 23,
   "metadata": {},
   "outputs": [
    {
     "data": {
      "text/plain": [
       "(10, 11, 12, 17)"
      ]
     },
     "execution_count": 23,
     "metadata": {},
     "output_type": "execute_result"
    }
   ],
   "source": [
    "from nilearn._utils.testing import generate_fake_fmri\n",
    "im1,mask1 = generate_fake_fmri()\n",
    "im1.shape, mask1.shape\n",
    "nx, ny, nz, nt = im1.shape\n",
    "nx, ny, nz, nt"
   ]
  },
  {
   "cell_type": "markdown",
   "metadata": {},
   "source": [
    "## Question: can I map this back to a brain image?"
   ]
  },
  {
   "cell_type": "markdown",
   "metadata": {},
   "source": [
    "This is called _coregistration_, and we can find an example of it here: [example_preprocessing.ipynb](http://localhost:8888/notebooks/notebooks/example_preprocessing.ipynb#)\n",
    "\n",
    "The FSL documentation can be found here: [FMRIB Software Library](https://fsl.fmrib.ox.ac.uk/fsl/fslwiki/FSL)\n",
    "- [BET](): Brain Extraction Transform ?? gets a brain/skull mask and other stuff\n",
    "- ExtractROI: gets Region Of Interest from Brain\n",
    "- [FAST](https://fsl.fmrib.ox.ac.uk/fsl/fslwiki/FAST) (FMRIB's Automated Segmentation Tool) segments a 3D image of the brain\n",
    "- [FLIRT](https://fsl.fmrib.ox.ac.uk/fsl/fslwiki/FLIRT) (FMRIB's Linear Image Registration Tool) is a fully automated robust and accurate tool for linear (affine) intra- and inter-modal brain image registration.\n",
    "- "
   ]
  },
  {
   "cell_type": "code",
   "execution_count": 24,
   "metadata": {
    "collapsed": true
   },
   "outputs": [],
   "source": [
    "%matplotlib inline\n",
    "from os.path import join as opj\n",
    "import os\n",
    "import json\n",
    "from nipype.interfaces.fsl import (BET, ExtractROI, FAST, FLIRT, ImageMaths,\n",
    "                                   MCFLIRT, SliceTimer, Threshold)\n",
    "#BET: Brain Extraction Transform ?? gets a brain/skull mask and other stuff\n",
    "# ExtractROI: gets Region Of Interest from Brain\n",
    "# FAST (FMRIB's Automated Segmentation Tool) segments a 3D image of the brain\n",
    "# FLIRT (FMRIB's Linear Image Registration Tool) is a fully automated robust and accurate tool for linear (affine) intra- and inter-modal brain image registration.\n",
    "from nipype.interfaces.spm import Smooth\n",
    "from nipype.interfaces.utility import IdentityInterface\n",
    "from nipype.interfaces.io import SelectFiles, DataSink\n",
    "from nipype.algorithms.rapidart import ArtifactDetect\n",
    "from nipype.pipeline.engine import Workflow, Node"
   ]
  },
  {
   "cell_type": "markdown",
   "metadata": {},
   "source": [
    "# Experiment parameters\n",
    "It's always a good idea to specify all parameters that migt change between experiments at the beginning of your scirpt. We will use one functional image for fingerfootlips task for ten subjects."
   ]
  },
  {
   "cell_type": "code",
   "execution_count": 25,
   "metadata": {
    "collapsed": true
   },
   "outputs": [],
   "source": [
    "experiment_dir = '/output'\n",
    "output_dir = 'datasink'\n",
    "working_dir = 'workingdir'\n",
    "\n",
    "# list of subject identifiers\n",
    "subject_list = ['sub-01', 'sub-02', 'sub-03', 'sub-04', 'sub-05',\n",
    "                'sub-06', 'sub-07', 'sub-08', 'sub-09', 'sub-10']\n",
    "\n",
    "# list of session identifiersT\n",
    "task_list = ['fingerfootlips']\n",
    "\n",
    "# Smoothing widths to apply\n",
    "fwhm = [4, 8]\n",
    "\n",
    "# TR of functional images\n",
    "with open('/data/ds000114/task-fingerfootlips_bold.json', 'rt') as fp:\n",
    "    task_info = json.load(fp)\n",
    "TR = task_info['RepetitionTime']\n",
    "\n",
    "# Isometric resample of functional images to voxel size (in mm)\n",
    "iso_size = 4"
   ]
  },
  {
   "cell_type": "code",
   "execution_count": 26,
   "metadata": {},
   "outputs": [],
   "source": [
    "# BET - Skullstrip anatomical Image\n",
    "bet_anat = Node(BET(frac=0.5,\n",
    "                    robust=True,\n",
    "                    output_type='NIFTI_GZ'),\n",
    "                name=\"bet_anat\")\n",
    "\n",
    "# FAST - Image Segmentation - into grey, white, CSF \n",
    "segmentation = Node(FAST(output_type='NIFTI_GZ'),\n",
    "                name=\"segmentation\")\n",
    "\n",
    "# Select WM segmentation file from segmentation output - WM would be white matter\n",
    "def get_wm(files):\n",
    "    return files[-1]\n",
    "\n",
    "# Threshold - Threshold WM probability image\n",
    "threshold = Node(Threshold(thresh=0.5,\n",
    "                           args='-bin',\n",
    "                           output_type='NIFTI_GZ'),\n",
    "                name=\"threshold\")\n",
    "\n",
    "# FLIRT - pre-alignment of functional images to anatomical images\n",
    "coreg_pre = Node(FLIRT(dof=6, output_type='NIFTI_GZ'),\n",
    "                 name=\"coreg_pre\")\n",
    "\n",
    "# FLIRT - coregistration of functional images to anatomical images with BBR\n",
    "coreg_bbr = Node(FLIRT(dof=6,\n",
    "                       cost='bbr',\n",
    "                       schedule=opj(os.getenv('FSLDIR'),\n",
    "                                    'etc/flirtsch/bbr.sch'),\n",
    "                       output_type='NIFTI_GZ'),\n",
    "                 name=\"coreg_bbr\")\n",
    "\n",
    "# Apply coregistration warp to functional images\n",
    "applywarp = Node(FLIRT(interp='spline',\n",
    "                       apply_isoxfm=iso_size,\n",
    "                       output_type='NIFTI'),\n",
    "                 name=\"applywarp\")\n",
    "\n",
    "# Apply coregistration warp to mean file\n",
    "applywarp_mean = Node(FLIRT(interp='spline',\n",
    "                            apply_isoxfm=iso_size,\n",
    "                            output_type='NIFTI_GZ'),\n",
    "                 name=\"applywarp_mean\")\n",
    "\n",
    "# Create a coregistration workflow\n",
    "coregwf = Workflow(name='coregwf')\n",
    "coregwf.base_dir = opj(experiment_dir, working_dir)\n",
    "\n",
    "# Connect all components of the coregistration workflow\n",
    "coregwf.connect([(bet_anat, segmentation, [('out_file', 'in_files')]),\n",
    "                 (segmentation, threshold, [(('partial_volume_files', get_wm),\n",
    "                                             'in_file')]),\n",
    "                 (bet_anat, coreg_pre, [('out_file', 'reference')]),\n",
    "                 (threshold, coreg_bbr, [('out_file', 'wm_seg')]),\n",
    "                 (coreg_pre, coreg_bbr, [('out_matrix_file', 'in_matrix_file')]),\n",
    "                 (coreg_bbr, applywarp, [('out_matrix_file', 'in_matrix_file')]),\n",
    "                 (bet_anat, applywarp, [('out_file', 'reference')]),\n",
    "                 (coreg_bbr, applywarp_mean, [('out_matrix_file', 'in_matrix_file')]),\n",
    "                 (bet_anat, applywarp_mean, [('out_file', 'reference')]),\n",
    "                 ])"
   ]
  },
  {
   "cell_type": "markdown",
   "metadata": {},
   "source": [
    "## plotting of sample data generate by nilearn"
   ]
  },
  {
   "cell_type": "code",
   "execution_count": 27,
   "metadata": {},
   "outputs": [
    {
     "data": {
      "image/png": "[encoded data removed]",
      "text/plain": [
       "<matplotlib.figure.Figure at 0x7f579c1ba240>"
      ]
     },
     "metadata": {},
     "output_type": "display_data"
    }
   ],
   "source": [
    "# Q: why does mask vary with time?? \n",
    "# R: it doesn't, its a 3D mask. not 4.\n",
    "fig = plt.figure(figsize=(20, 17))\n",
    "\n",
    "for ts in range(nt):\n",
    "    for zs in range(nz):\n",
    "        plt.subplot(nt, nz, ts*nz + zs + 1)\n",
    "        fig_s = plt.imshow(im1.get_data()[:,:,zs,ts], cmap='Greys_r')\n",
    "        fig_s.axes.set_xticks([])\n",
    "        fig_s.axes.set_yticks([])\n",
    "#     plt.imshow(im1.get_data()[...,i], cmap='Greys_r')\n",
    "#     show()"
   ]
  },
  {
   "cell_type": "code",
   "execution_count": 28,
   "metadata": {},
   "outputs": [
    {
     "data": {
      "text/plain": [
       "(12,)"
      ]
     },
     "execution_count": 28,
     "metadata": {},
     "output_type": "execute_result"
    }
   ],
   "source": [
    "im1.dataobj.mean(axis=(0,1,3)).shape"
   ]
  },
  {
   "cell_type": "code",
   "execution_count": 29,
   "metadata": {},
   "outputs": [
    {
     "data": {
      "text/plain": [
       "array([[   0.,    0.,    0.,    0.,    0.,    0.,    0.,    0.,    0.,\n",
       "           0.,    0.],\n",
       "       [   0.,    0.,    0.,    0.,    0.,    0.,    0.,    0.,    0.,\n",
       "           0.,    0.],\n",
       "       [   0.,    0.,  164.,  255.,  152.,  100.,  199.,    0.,    0.,\n",
       "           0.,    0.],\n",
       "       [   0.,    0.,   92.,  195.,   16.,    0.,   13.,    0.,    0.,\n",
       "           0.,    0.],\n",
       "       [   0.,    0.,   54.,  162.,   59.,  235.,  133.,    0.,    0.,\n",
       "           0.,    0.],\n",
       "       [   0.,    0.,  189.,   89.,  136.,  107.,   75.,    0.,    0.,\n",
       "           0.,    0.],\n",
       "       [   0.,    0.,  187.,  232.,  167.,  137.,  131.,    0.,    0.,\n",
       "           0.,    0.],\n",
       "       [   0.,    0.,    0.,    0.,    0.,    0.,    0.,    0.,    0.,\n",
       "           0.,    0.],\n",
       "       [   0.,    0.,    0.,    0.,    0.,    0.,    0.,    0.,    0.,\n",
       "           0.,    0.],\n",
       "       [   0.,    0.,    0.,    0.,    0.,    0.,    0.,    0.,    0.,\n",
       "           0.,    0.]])"
      ]
     },
     "execution_count": 29,
     "metadata": {},
     "output_type": "execute_result"
    }
   ],
   "source": [
    "im1.dataobj[:,:, 5, 0]"
   ]
  },
  {
   "cell_type": "code",
   "execution_count": 30,
   "metadata": {
    "collapsed": true
   },
   "outputs": [],
   "source": [
    "def normalize_j(a):\n",
    "    m = a.flatten().mean()\n",
    "    return (a - m)/ m"
   ]
  },
  {
   "cell_type": "code",
   "execution_count": 31,
   "metadata": {
    "collapsed": true
   },
   "outputs": [],
   "source": [
    "def demean_over_time(a):\n",
    "    m = a.mean(axis=(0,1,2))\n",
    "    return (a - m)"
   ]
  },
  {
   "cell_type": "code",
   "execution_count": 32,
   "metadata": {},
   "outputs": [
    {
     "ename": "NameError",
     "evalue": "name 'a' is not defined",
     "output_type": "error",
     "traceback": [
      "\u001b[0;31m---------------------------------------------------------------------------\u001b[0m",
      "\u001b[0;31mNameError\u001b[0m                                 Traceback (most recent call last)",
      "\u001b[0;32m<ipython-input-32-98d70a45b16d>\u001b[0m in \u001b[0;36m<module>\u001b[0;34m()\u001b[0m\n\u001b[0;32m----> 1\u001b[0;31m \u001b[0mnp\u001b[0m\u001b[0;34m.\u001b[0m\u001b[0mc_\u001b[0m\u001b[0;34m[\u001b[0m\u001b[0ma\u001b[0m\u001b[0;34m[\u001b[0m\u001b[0;36m2\u001b[0m\u001b[0;34m:\u001b[0m\u001b[0;36m5\u001b[0m\u001b[0;34m,\u001b[0m\u001b[0;36m2\u001b[0m\u001b[0;34m:\u001b[0m\u001b[0;36m5\u001b[0m\u001b[0;34m,\u001b[0m\u001b[0;36m3\u001b[0m\u001b[0;34m:\u001b[0m\u001b[0;36m5\u001b[0m\u001b[0;34m,\u001b[0m\u001b[0;36m0\u001b[0m\u001b[0;34m]\u001b[0m\u001b[0;34m,\u001b[0m \u001b[0mdemean_over_time\u001b[0m\u001b[0;34m(\u001b[0m\u001b[0ma\u001b[0m\u001b[0;34m[\u001b[0m\u001b[0;36m2\u001b[0m\u001b[0;34m:\u001b[0m\u001b[0;36m5\u001b[0m\u001b[0;34m,\u001b[0m\u001b[0;36m2\u001b[0m\u001b[0;34m:\u001b[0m\u001b[0;36m5\u001b[0m\u001b[0;34m,\u001b[0m\u001b[0;36m3\u001b[0m\u001b[0;34m:\u001b[0m\u001b[0;36m5\u001b[0m\u001b[0;34m,\u001b[0m\u001b[0;36m0\u001b[0m\u001b[0;34m]\u001b[0m\u001b[0;34m)\u001b[0m\u001b[0;34m]\u001b[0m\u001b[0;34m\u001b[0m\u001b[0m\n\u001b[0m",
      "\u001b[0;31mNameError\u001b[0m: name 'a' is not defined"
     ]
    }
   ],
   "source": [
    "np.c_[a[2:5,2:5,3:5,0], demean_over_time(a[2:5,2:5,3:5,0])]"
   ]
  },
  {
   "cell_type": "code",
   "execution_count": null,
   "metadata": {},
   "outputs": [],
   "source": [
    "np.r_[a[2:5,2:5,3:5,0], demean_over_time(a[2:5,2:5,3:5,0])]"
   ]
  },
  {
   "cell_type": "code",
   "execution_count": null,
   "metadata": {},
   "outputs": [],
   "source": [
    "a_d = demean_over_time(a[2:5,2:5,3:5,0])\n",
    "a_d.sum(axis=1)"
   ]
  },
  {
   "cell_type": "code",
   "execution_count": 15,
   "metadata": {},
   "outputs": [
    {
     "ename": "NameError",
     "evalue": "name 'plot' is not defined",
     "output_type": "error",
     "traceback": [
      "\u001b[0;31m---------------------------------------------------------------------------\u001b[0m",
      "\u001b[0;31mNameError\u001b[0m                                 Traceback (most recent call last)",
      "\u001b[0;32m<ipython-input-15-4975be62cb88>\u001b[0m in \u001b[0;36m<module>\u001b[0;34m()\u001b[0m\n\u001b[1;32m      1\u001b[0m \u001b[0;31m# average of total volume over time\u001b[0m\u001b[0;34m\u001b[0m\u001b[0;34m\u001b[0m\u001b[0m\n\u001b[1;32m      2\u001b[0m \u001b[0mvolume_mean\u001b[0m \u001b[0;34m=\u001b[0m \u001b[0mim1\u001b[0m\u001b[0;34m.\u001b[0m\u001b[0mdataobj\u001b[0m\u001b[0;34m.\u001b[0m\u001b[0mflatten\u001b[0m\u001b[0;34m(\u001b[0m\u001b[0;34m)\u001b[0m\u001b[0;34m.\u001b[0m\u001b[0mmean\u001b[0m\u001b[0;34m(\u001b[0m\u001b[0;34m)\u001b[0m\u001b[0;34m\u001b[0m\u001b[0m\n\u001b[0;32m----> 3\u001b[0;31m \u001b[0mplot\u001b[0m\u001b[0;34m(\u001b[0m\u001b[0;34m(\u001b[0m\u001b[0mim1\u001b[0m\u001b[0;34m.\u001b[0m\u001b[0mdataobj\u001b[0m\u001b[0;34m.\u001b[0m\u001b[0mmean\u001b[0m\u001b[0;34m(\u001b[0m\u001b[0maxis\u001b[0m\u001b[0;34m=\u001b[0m\u001b[0;34m(\u001b[0m\u001b[0;36m0\u001b[0m\u001b[0;34m,\u001b[0m\u001b[0;36m1\u001b[0m\u001b[0;34m,\u001b[0m\u001b[0;36m2\u001b[0m\u001b[0;34m)\u001b[0m\u001b[0;34m)\u001b[0m \u001b[0;34m-\u001b[0m \u001b[0mvolume_mean\u001b[0m \u001b[0;34m)\u001b[0m\u001b[0;34m/\u001b[0m \u001b[0mvolume_mean\u001b[0m\u001b[0;34m)\u001b[0m\u001b[0;34m\u001b[0m\u001b[0m\n\u001b[0m",
      "\u001b[0;31mNameError\u001b[0m: name 'plot' is not defined"
     ]
    }
   ],
   "source": [
    "# average of total volume over time\n",
    "volume_mean = im1.dataobj.flatten().mean()\n",
    "plot((im1.dataobj.mean(axis=(0,1,2)) - volume_mean )/ volume_mean)"
   ]
  },
  {
   "cell_type": "code",
   "execution_count": 105,
   "metadata": {},
   "outputs": [
    {
     "data": {
      "text/plain": [
       "[<matplotlib.lines.Line2D at 0x7febbfa0a828>]"
      ]
     },
     "execution_count": 105,
     "metadata": {},
     "output_type": "execute_result"
    },
    {
     "data": {
      "image/png": "[encoded data removed]",
      "text/plain": [
       "<matplotlib.figure.Figure at 0x7febc090dc50>"
      ]
     },
     "metadata": {},
     "output_type": "display_data"
    }
   ],
   "source": [
    "# average of total volume over time\n",
    "plot(im1.dataobj.mean(axis=(0,1,3)))"
   ]
  },
  {
   "cell_type": "code",
   "execution_count": null,
   "metadata": {
    "collapsed": true
   },
   "outputs": [],
   "source": [
    "plot(im1.dataobj[:])"
   ]
  },
  {
   "cell_type": "code",
   "execution_count": 17,
   "metadata": {
    "collapsed": true
   },
   "outputs": [],
   "source": [
    "import nibabel as nib"
   ]
  },
  {
   "cell_type": "code",
   "execution_count": 16,
   "metadata": {
    "collapsed": true
   },
   "outputs": [],
   "source": [
    "import pylab as plt"
   ]
  },
  {
   "cell_type": "code",
   "execution_count": 18,
   "metadata": {},
   "outputs": [
    {
     "ename": "NameError",
     "evalue": "name 'i1' is not defined",
     "output_type": "error",
     "traceback": [
      "\u001b[0;31m---------------------------------------------------------------------------\u001b[0m",
      "\u001b[0;31mNameError\u001b[0m                                 Traceback (most recent call last)",
      "\u001b[0;32m<ipython-input-18-ed4ac07643f6>\u001b[0m in \u001b[0;36m<module>\u001b[0;34m()\u001b[0m\n\u001b[1;32m      1\u001b[0m \u001b[0;31m# get 5th volume\u001b[0m\u001b[0;34m\u001b[0m\u001b[0;34m\u001b[0m\u001b[0m\n\u001b[0;32m----> 2\u001b[0;31m \u001b[0mt1\u001b[0m \u001b[0;34m=\u001b[0m \u001b[0mi1\u001b[0m\u001b[0;34m.\u001b[0m\u001b[0mget_data\u001b[0m\u001b[0;34m(\u001b[0m\u001b[0;34m)\u001b[0m\u001b[0;34m[\u001b[0m\u001b[0;34m:\u001b[0m\u001b[0;34m,\u001b[0m\u001b[0;34m:\u001b[0m\u001b[0;34m,\u001b[0m\u001b[0;34m:\u001b[0m\u001b[0;34m,\u001b[0m\u001b[0;36m5\u001b[0m\u001b[0;34m]\u001b[0m\u001b[0;34m\u001b[0m\u001b[0m\n\u001b[0m",
      "\u001b[0;31mNameError\u001b[0m: name 'i1' is not defined"
     ]
    }
   ],
   "source": [
    "# get 5th volume\n",
    "t1 = i1.get_data()[:,:,:,5]"
   ]
  },
  {
   "cell_type": "code",
   "execution_count": 52,
   "metadata": {},
   "outputs": [
    {
     "name": "stdout",
     "output_type": "stream",
     "text": [
      "Populating the interactive namespace from numpy and matplotlib\n"
     ]
    },
    {
     "name": "stderr",
     "output_type": "stream",
     "text": [
      "/opt/conda/envs/neuro/lib/python3.6/site-packages/IPython/core/magics/pylab.py:160: UserWarning: pylab import has clobbered these variables: ['plt']\n",
      "`%matplotlib` prevents importing * from pylab and numpy\n",
      "  \"\\n`%matplotlib` prevents importing * from pylab and numpy\"\n"
     ]
    }
   ],
   "source": [
    "%pylab inline"
   ]
  },
  {
   "cell_type": "code",
   "execution_count": 19,
   "metadata": {},
   "outputs": [
    {
     "ename": "NameError",
     "evalue": "name 'i1' is not defined",
     "output_type": "error",
     "traceback": [
      "\u001b[0;31m---------------------------------------------------------------------------\u001b[0m",
      "\u001b[0;31mNameError\u001b[0m                                 Traceback (most recent call last)",
      "\u001b[0;32m<ipython-input-19-737054b04dab>\u001b[0m in \u001b[0;36m<module>\u001b[0;34m()\u001b[0m\n\u001b[0;32m----> 1\u001b[0;31m \u001b[0mdata\u001b[0m \u001b[0;34m=\u001b[0m \u001b[0mi1\u001b[0m\u001b[0;34m.\u001b[0m\u001b[0mget_data\u001b[0m\u001b[0;34m(\u001b[0m\u001b[0;34m)\u001b[0m\u001b[0;34m\u001b[0m\u001b[0m\n\u001b[0m\u001b[1;32m      2\u001b[0m \u001b[0mfig\u001b[0m \u001b[0;34m=\u001b[0m \u001b[0mplt\u001b[0m\u001b[0;34m.\u001b[0m\u001b[0mimshow\u001b[0m\u001b[0;34m(\u001b[0m\u001b[0mdata\u001b[0m\u001b[0;34m[\u001b[0m\u001b[0;34m:\u001b[0m\u001b[0;34m,\u001b[0m\u001b[0;34m:\u001b[0m\u001b[0;34m,\u001b[0m\u001b[0mdata\u001b[0m\u001b[0;34m.\u001b[0m\u001b[0mshape\u001b[0m\u001b[0;34m[\u001b[0m\u001b[0;36m2\u001b[0m\u001b[0;34m]\u001b[0m \u001b[0;34m//\u001b[0m \u001b[0;36m2\u001b[0m\u001b[0;34m,\u001b[0m \u001b[0;36m10\u001b[0m\u001b[0;34m]\u001b[0m\u001b[0;34m.\u001b[0m\u001b[0mT\u001b[0m\u001b[0;34m,\u001b[0m \u001b[0mcmap\u001b[0m\u001b[0;34m=\u001b[0m\u001b[0;34m'Greys_r'\u001b[0m\u001b[0;34m)\u001b[0m\u001b[0;34m\u001b[0m\u001b[0m\n\u001b[1;32m      3\u001b[0m \u001b[0mfig\u001b[0m\u001b[0;34m.\u001b[0m\u001b[0maxes\u001b[0m\u001b[0;34m.\u001b[0m\u001b[0mset_xticks\u001b[0m\u001b[0;34m(\u001b[0m\u001b[0;34m[\u001b[0m\u001b[0;34m]\u001b[0m\u001b[0;34m)\u001b[0m\u001b[0;34m\u001b[0m\u001b[0m\n\u001b[1;32m      4\u001b[0m \u001b[0m_\u001b[0m \u001b[0;34m=\u001b[0m \u001b[0mfig\u001b[0m\u001b[0;34m.\u001b[0m\u001b[0maxes\u001b[0m\u001b[0;34m.\u001b[0m\u001b[0mset_yticks\u001b[0m\u001b[0;34m(\u001b[0m\u001b[0;34m[\u001b[0m\u001b[0;34m]\u001b[0m\u001b[0;34m)\u001b[0m\u001b[0;34m\u001b[0m\u001b[0m\n",
      "\u001b[0;31mNameError\u001b[0m: name 'i1' is not defined"
     ]
    }
   ],
   "source": [
    "data = i1.get_data()\n",
    "fig = plt.imshow(data[:,:,data.shape[2] // 2, 10].T, cmap='Greys_r')\n",
    "fig.axes.set_xticks([])\n",
    "_ = fig.axes.set_yticks([])"
   ]
  },
  {
   "cell_type": "code",
   "execution_count": 67,
   "metadata": {},
   "outputs": [
    {
     "data": {
      "text/plain": [
       "array([[   0.,    0.,    0.,    0.,    0.,    0.,    0.,    0.,    0.,\n",
       "           0.],\n",
       "       [   0.,    0.,    0.,    0.,    0.,    0.,    0.,    0.,    0.,\n",
       "           0.],\n",
       "       [   0.,    0.,  169.,  242.,  250.,   43.,  161.,    0.,    0.,\n",
       "           0.],\n",
       "       [   0.,    0.,  240.,  114.,   48.,   26.,  159.,    0.,    0.,\n",
       "           0.],\n",
       "       [   0.,    0.,  171.,   61.,   58.,  146.,  157.,    0.,    0.,\n",
       "           0.],\n",
       "       [   0.,    0.,   88.,  140.,  159.,  162.,   96.,    0.,    0.,\n",
       "           0.],\n",
       "       [   0.,    0.,  225.,   36.,  155.,  107.,   69.,    0.,    0.,\n",
       "           0.],\n",
       "       [   0.,    0.,    0.,    0.,    0.,    0.,    0.,    0.,    0.,\n",
       "           0.],\n",
       "       [   0.,    0.,    0.,    0.,    0.,    0.,    0.,    0.,    0.,\n",
       "           0.],\n",
       "       [   0.,    0.,    0.,    0.,    0.,    0.,    0.,    0.,    0.,\n",
       "           0.],\n",
       "       [   0.,    0.,    0.,    0.,    0.,    0.,    0.,    0.,    0.,\n",
       "           0.]])"
      ]
     },
     "execution_count": 67,
     "metadata": {},
     "output_type": "execute_result"
    }
   ],
   "source": [
    "data[:,:,data.shape[2] // 2, 10].T"
   ]
  },
  {
   "cell_type": "code",
   "execution_count": null,
   "metadata": {
    "collapsed": true
   },
   "outputs": [],
   "source": []
  }
 ],
 "metadata": {
  "kernelspec": {
   "display_name": "Python 3",
   "language": "python",
   "name": "python3"
  },
  "language_info": {
   "codemirror_mode": {
    "name": "ipython",
    "version": 3
   },
   "file_extension": ".py",
   "mimetype": "text/x-python",
   "name": "python",
   "nbconvert_exporter": "python",
   "pygments_lexer": "ipython3",
   "version": "3.6.2"
  }
 },
 "nbformat": 4,
 "nbformat_minor": 2
}
