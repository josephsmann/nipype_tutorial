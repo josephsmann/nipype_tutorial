{
 "cells": [
  {
   "cell_type": "markdown",
   "metadata": {},
   "source": [
    "# Data Input\n",
    "\n",
    "To do any computation, you need to have data. Getting the data in the framework of a workflow is therefore the first step of every analysis. Nipype provides many different modules to grab or select the data:\n",
    "\n",
    "    DataFinder\n",
    "    DataGrabber\n",
    "    FreeSurferSource\n",
    "    JSONFileGrabber\n",
    "    S3DataGrabber\n",
    "    SSHDataGrabber\n",
    "    SelectFiles\n",
    "    XNATSource\n",
    "\n",
    "This tutorial will only cover some of them. For the rest, see the section [``interfaces.io``](http://nipype.readthedocs.io/en/latest/interfaces/generated/nipype.interfaces.io.html) on the official homepage."
   ]
  },
  {
   "cell_type": "markdown",
   "metadata": {},
   "source": [
    "# Dataset structure\n",
    "\n",
    "To be able to import data, you first need to be aware about the structure of your dataset. The structure of the dataset for this tutorial is according to BIDS, and looks as follows:\n",
    "\n",
    "    ds000114\n",
    "    ├── CHANGES\n",
    "    ├── dataset_description.json\n",
    "    ├── derivatives\n",
    "    │   ├── fmriprep\n",
    "    │   │   └── sub01...sub10\n",
    "    │   │        └── ...\n",
    "    │   ├── freesurfer\n",
    "    │       ├── fsaverage\n",
    "    │       ├── fsaverage5\n",
    "    │   │   └── sub01...sub10\n",
    "    │   │        └── ...\n",
    "    ├── dwi.bval\n",
    "    ├── dwi.bvec\n",
    "    ├── sub-01\n",
    "    │   ├── ses-retest    \n",
    "    │       ├── anat\n",
    "    │       │   └── sub-01_ses-retest_T1w.nii.gz\n",
    "    │       ├──func\n",
    "    │           ├── sub-01_ses-retest_task-covertverbgeneration_bold.nii.gz\n",
    "    │           ├── sub-01_ses-retest_task-fingerfootlips_bold.nii.gz\n",
    "    │           ├── sub-01_ses-retest_task-linebisection_bold.nii.gz\n",
    "    │           ├── sub-01_ses-retest_task-linebisection_events.tsv\n",
    "    │           ├── sub-01_ses-retest_task-overtverbgeneration_bold.nii.gz\n",
    "    │           └── sub-01_ses-retest_task-overtwordrepetition_bold.nii.gz\n",
    "    │       └── dwi\n",
    "    │           └── sub-01_ses-retest_dwi.nii.gz\n",
    "    │   ├── ses-test    \n",
    "    │       ├── anat\n",
    "    │       │   └── sub-01_ses-test_T1w.nii.gz\n",
    "    │       ├──func\n",
    "    │           ├── sub-01_ses-test_task-covertverbgeneration_bold.nii.gz\n",
    "    │           ├── sub-01_ses-test_task-fingerfootlips_bold.nii.gz\n",
    "    │           ├── sub-01_ses-test_task-linebisection_bold.nii.gz\n",
    "    │           ├── sub-01_ses-test_task-linebisection_events.tsv\n",
    "    │           ├── sub-01_ses-test_task-overtverbgeneration_bold.nii.gz\n",
    "    │           └── sub-01_ses-test_task-overtwordrepetition_bold.nii.gz\n",
    "    │       └── dwi\n",
    "    │           └── sub-01_ses-retest_dwi.nii.gz\n",
    "    ├── sub-02..sub-10\n",
    "    │   └── ...\n",
    "    ├── task-covertverbgeneration_bold.json\n",
    "    ├── task-covertverbgeneration_events.tsv\n",
    "    ├── task-fingerfootlips_bold.json\n",
    "    ├── task-fingerfootlips_events.tsv\n",
    "    ├── task-linebisection_bold.json\n",
    "    ├── task-overtverbgeneration_bold.json\n",
    "    ├── task-overtverbgeneration_events.tsv\n",
    "    ├── task-overtwordrepetition_bold.json\n",
    "    └── task-overtwordrepetition_events.tsv"
   ]
  },
  {
   "cell_type": "markdown",
   "metadata": {},
   "source": [
    "# DataGrabber\n",
    "\n",
    "``DataGrabber`` is a generic data grabber module that wraps around ``glob`` to select your neuroimaging data in an intelligent way. As an example, let's assume we want to grab the anatomical and functional images of a certain subject.\n",
    "\n",
    "First, we need to create the ``DataGrabber`` node. This node needs to have some input fields for all dynamic parameters (e.g. subject identifier, task identifier), as well as the two desired output fields ``anat`` and ``func``."
   ]
  },
  {
   "cell_type": "code",
   "execution_count": 1,
   "metadata": {
    "collapsed": true
   },
   "outputs": [],
   "source": [
    "from nipype import DataGrabber, Node\n",
    "\n",
    "# Create DataGrabber node\n",
    "dg = Node(DataGrabber(infields=['subject_id', 'ses_name', 'task_name'],\n",
    "                      outfields=['anat', 'func']),\n",
    "          name='datagrabber')\n",
    "\n",
    "# Location of the dataset folder\n",
    "dg.inputs.base_directory = '/data/ds000114'\n",
    "\n",
    "# Necessary default parameters\n",
    "dg.inputs.template = '*'\n",
    "dg.inputs.sort_filelist = True"
   ]
  },
  {
   "cell_type": "markdown",
   "metadata": {},
   "source": [
    "Second, we know that the two files we desire are the the following location:\n",
    "\n",
    "    anat = /data/ds000114/sub-01/ses-test/anat/sub-01_ses-test_T1w.nii.gz\n",
    "    func = /data/ds000114/sub-01/ses-test/func/sub-01_ses-test_task-fingerfootlips_bold.nii.gz\n",
    "\n",
    "We see that the two files only have three dynamic parameters between subjects and task names:\n",
    "\n",
    "    subject_id: in this case 'sub-01'\n",
    "    task_name: in this case fingerfootlips\n",
    "    ses_name: test\n",
    "\n",
    "This means that we can rewrite the paths as follows:\n",
    "\n",
    "    anat = /data/ds102/[subject_id]/ses-[ses_name]/anat/sub-[subject_id]_ses-[ses_name]_T1w.nii.gz\n",
    "    func = /data/ds102/[subject_id]/ses-[ses_name]/func/sub-[subject_id]_ses-[ses_name]_task-[task_name]_bold.nii.gz\n",
    "\n",
    "Therefore, we need the parameters ``subject_id`` and ``ses_name`` for the anatomical image and the parameters ``subject_id``, ``ses_name`` and ``task_name`` for the functional image. In the context of DataGabber, this is specified as follows:"
   ]
  },
  {
   "cell_type": "code",
   "execution_count": 2,
   "metadata": {
    "collapsed": true
   },
   "outputs": [],
   "source": [
    "dg.inputs.template_args = {'anat': [['subject_id', 'ses_name']],\n",
    "                           'func': [['subject_id', 'ses_name', 'task_name']]}"
   ]
  },
  {
   "cell_type": "markdown",
   "metadata": {},
   "source": [
    "Now, comes the most important part of DataGrabber. We need to specify the template structure to find the specific data. This can be done as follows."
   ]
  },
  {
   "cell_type": "code",
   "execution_count": 3,
   "metadata": {
    "collapsed": true
   },
   "outputs": [],
   "source": [
    "dg.inputs.field_template = {'anat': 'sub-%02d/ses-%s/anat/*_T1w.nii.gz',\n",
    "                            'func': 'sub-%02d/ses-%s/func/*task-%s_bold.nii.gz'}"
   ]
  },
  {
   "cell_type": "markdown",
   "metadata": {},
   "source": [
    "You'll notice that we use ``%s``, ``%02d`` and ``*`` for placeholders in the data paths. ``%s`` is a placeholder for a string and is filled out by ``task_name`` or ``ses_name``. ``%02d`` is a placeholder for a integer number and is filled out by ``subject_id``. ``*`` is used as a wild card, e.g. a placeholder for any possible string combination. This is all to set up the ``DataGrabber`` node."
   ]
  },
  {
   "cell_type": "markdown",
   "metadata": {},
   "source": [
    "Now it is up to you how you want to feed the dynamic parameters into the node. You can either do this by using another node (e.g. ``IdentityInterface``) and feed ``subject_id``, ``ses_name`` and ``task_name`` as connections to the ``DataGrabber`` node or specify them directly as node inputs."
   ]
  },
  {
   "cell_type": "code",
   "execution_count": 16,
   "metadata": {
    "collapsed": true
   },
   "outputs": [],
   "source": [
    "# Using the IdentityInterface\n",
    "from nipype import IdentityInterface\n",
    "infosource = Node(IdentityInterface(fields=['subject_id', 'task_name']),\n",
    "                  name=\"infosource\")\n",
    "infosource.inputs.task_name = \"fingerfootlips\"\n",
    "infosource.inputs.ses_name = \"test\"\n",
    "subject_id_list = [1, 2]\n",
    "infosource.iterables = [('subject_id', subject_id_list)]"
   ]
  },
  {
   "cell_type": "code",
   "execution_count": 14,
   "metadata": {
    "collapsed": true
   },
   "outputs": [],
   "source": [
    "infosource.inputs.foo = 'what'"
   ]
  },
  {
   "cell_type": "code",
   "execution_count": 17,
   "metadata": {},
   "outputs": [
    {
     "data": {
      "text/plain": [
       "\n",
       "ses_name = test\n",
       "subject_id = <undefined>\n",
       "task_name = fingerfootlips"
      ]
     },
     "execution_count": 17,
     "metadata": {},
     "output_type": "execute_result"
    }
   ],
   "source": [
    "# infosource.outputs,\n",
    "infosource.inputs"
   ]
  },
  {
   "cell_type": "code",
   "execution_count": 18,
   "metadata": {},
   "outputs": [
    {
     "data": {
      "text/plain": [
       "\n",
       "subject_id = <undefined>\n",
       "task_name = <undefined>"
      ]
     },
     "execution_count": 18,
     "metadata": {},
     "output_type": "execute_result"
    }
   ],
   "source": [
    "infosource.outputs"
   ]
  },
  {
   "cell_type": "markdown",
   "metadata": {},
   "source": [
    "Now you only have to connect ``infosource`` with your ``DataGrabber`` and run the workflow to iterate over subjects 1 and 2."
   ]
  },
  {
   "cell_type": "markdown",
   "metadata": {},
   "source": [
    "You can also provide the inputs to the ``DataGrabber`` node directly, for one subject you can do this as follows:"
   ]
  },
  {
   "cell_type": "code",
   "execution_count": 5,
   "metadata": {
    "collapsed": true
   },
   "outputs": [],
   "source": [
    "# Specifying the input fields of DataGrabber directly\n",
    "dg.inputs.subject_id = 1\n",
    "dg.inputs.ses_name = \"test\"\n",
    "dg.inputs.task_name = \"fingerfootlips\""
   ]
  },
  {
   "cell_type": "markdown",
   "metadata": {},
   "source": [
    "Now let's run the ``DataGrabber`` node and let's look at the output:"
   ]
  },
  {
   "cell_type": "code",
   "execution_count": 19,
   "metadata": {},
   "outputs": [
    {
     "name": "stdout",
     "output_type": "stream",
     "text": [
      "171029-00:17:39,849 workflow INFO:\n",
      "\t Executing node datagrabber in dir: /tmp/tmph9t7582a/datagrabber\n"
     ]
    },
    {
     "data": {
      "text/plain": [
       "\n",
       "anat = /data/ds000114/sub-01/ses-test/anat/sub-01_ses-test_T1w.nii.gz\n",
       "func = /data/ds000114/sub-01/ses-test/func/sub-01_ses-test_task-fingerfootlips_bold.nii.gz"
      ]
     },
     "execution_count": 19,
     "metadata": {},
     "output_type": "execute_result"
    }
   ],
   "source": [
    "dg.run().outputs"
   ]
  },
  {
   "cell_type": "markdown",
   "metadata": {},
   "source": [
    "# SelectFiles\n",
    "\n",
    "`SelectFiles` is a more flexible alternative to `DataGrabber`. It uses the {}-based string formating syntax to plug values into string templates and collect the data. These templates can also be combined with glob wild cards. The field names in the formatting template (i.e. the terms in braces) will become inputs fields on the interface, and the keys in the templates dictionary will form the output fields.\n",
    "\n",
    "Let's focus again on the data we want to import:\n",
    "\n",
    "    anat = /data/ds000114/sub-01/ses-test/anat/sub-01_ses-test_T1w.nii.gz\n",
    "    func = /data/ds000114/sub-01/ses-test/func/sub-01_ses-test_task-fingerfootlips_bold.nii.gz\n",
    "    \n",
    "Now, we can replace those paths with the accoridng {}-based strings.\n",
    "\n",
    "    anat = /data/ds000114/sub-{subject_id}/ses-{ses_name}/anat/sub-{subject_id}_ses-{ses_name}_T1w.nii.gz\n",
    "    func = /data/ds000114/sub-{subject_id}/ses-{ses_name}/func/ \\\n",
    "            sub-{subject_id}_ses-{ses_name}_task-{task_name}_bold.nii.gz\n",
    "\n",
    "How would this look like as a `SelectFiles` node?"
   ]
  },
  {
   "cell_type": "code",
   "execution_count": 20,
   "metadata": {
    "collapsed": true
   },
   "outputs": [],
   "source": [
    "from nipype import SelectFiles, Node\n",
    "\n",
    "# String template with {}-based strings\n",
    "templates = {'anat': 'sub-{subject_id}/ses-{ses_name}/anat/sub-{subject_id}_ses-{ses_name}_T1w.nii.gz',\n",
    "             'func': 'sub-{subject_id}/ses-{ses_name}/func/sub-{subject_id}_ses-{ses_name}_task-{task_name}_bold.nii.gz'}\n",
    "\n",
    "# Create SelectFiles node\n",
    "sf = Node(SelectFiles(templates),\n",
    "          name='selectfiles')\n",
    "\n",
    "# Location of the dataset folder\n",
    "sf.inputs.base_directory = '/data/ds000114'\n",
    "\n",
    "# Feed {}-based placeholder strings with values\n",
    "sf.inputs.subject_id = '01'\n",
    "sf.inputs.ses_name = \"test\"\n",
    "sf.inputs.task_name = 'fingerfootlips'"
   ]
  },
  {
   "cell_type": "markdown",
   "metadata": {},
   "source": [
    "Let's check if we get what we wanted."
   ]
  },
  {
   "cell_type": "code",
   "execution_count": 21,
   "metadata": {},
   "outputs": [
    {
     "name": "stdout",
     "output_type": "stream",
     "text": [
      "171029-00:19:21,158 workflow INFO:\n",
      "\t Executing node selectfiles in dir: /tmp/tmp74ffu1dt/selectfiles\n"
     ]
    },
    {
     "data": {
      "text/plain": [
       "\n",
       "anat = /data/ds000114/sub-01/ses-test/anat/sub-01_ses-test_T1w.nii.gz\n",
       "func = /data/ds000114/sub-01/ses-test/func/sub-01_ses-test_task-fingerfootlips_bold.nii.gz"
      ]
     },
     "execution_count": 21,
     "metadata": {},
     "output_type": "execute_result"
    }
   ],
   "source": [
    "sf.run().outputs"
   ]
  },
  {
   "cell_type": "markdown",
   "metadata": {},
   "source": [
    "Perfect! But why is `SelectFiles` more flexible than `DataGrabber`? First, you perhaps noticed that with the {}-based string, we can reuse the same input (e.g. `subject_id`) multiple time in the same string, without feeding it multiple times into the template.\n",
    "\n",
    "Additionally, you can also select multiple files without the need of an iterable node. For example, let's assume we want to select both anatomical images (`'sub-01'` and `'sub-02'`) at once. We can do this by using the following file template:\n",
    "\n",
    "    'sub-0[1,2]/anat/sub-0[1,2]_T1w.nii.gz'\n",
    "\n",
    "Let's see how this works:"
   ]
  },
  {
   "cell_type": "code",
   "execution_count": null,
   "metadata": {
    "collapsed": true
   },
   "outputs": [],
   "source": [
    "from nipype import SelectFiles, Node\n",
    "from os.path import abspath as opap\n",
    "\n",
    "# String template with {}-based strings\n",
    "templates = {'anat': 'sub-0[1,2]/ses-{ses_name}/anat/sub-0[1,2]_ses-{ses_name}_T1w.nii.gz'}\n",
    "\n",
    "\n",
    "# Create SelectFiles node\n",
    "sf = Node(SelectFiles(templates),\n",
    "          name='selectfiles')\n",
    "\n",
    "# Location of the dataset folder\n",
    "sf.inputs.base_directory = '/data/ds000114'\n",
    "\n",
    "# Feed {}-based placeholder strings with values\n",
    "sf.inputs.ses_name = 'test'\n",
    "\n",
    "# Print SelectFiles output\n",
    "sf.run().outputs"
   ]
  },
  {
   "cell_type": "markdown",
   "metadata": {},
   "source": [
    "As you can see, now `anat` contains two file paths, one for the first and one for the second subject. As a side node, you could have also gotten them same thing with the wild card `*`:\n",
    "\n",
    "    'sub-0*/ses-test/anat/sub-0*_ses-test_T1w.nii.gz'"
   ]
  },
  {
   "cell_type": "markdown",
   "metadata": {},
   "source": [
    "## FreeSurferSource\n",
    "\n",
    "`FreeSurferSource` is a specific case of a file grabber that felicitates the data import of outputs from the FreeSurfer recon-all algorithm. This of course requires that you've already run `recon-all` on your subject."
   ]
  },
  {
   "cell_type": "markdown",
   "metadata": {},
   "source": [
    "For the tutorial dataset ``ds000114``, `recon-all` was already run. So, let's make sure that you have the anatomy output of one subject on your system:"
   ]
  },
  {
   "cell_type": "code",
   "execution_count": 22,
   "metadata": {},
   "outputs": [
    {
     "name": "stdout",
     "output_type": "stream",
     "text": [
      "[\u001b[1;37mINFO   \u001b[0m] Installing <Dataset path=/data/ds000114/derivatives/freesurfer> underneath /data/ds000114/derivatives/freesurfer/sub-01 recursively \n",
      "[\u001b[1;37mINFO   \u001b[0m] Actually getting 303 files \n",
      "Total (3 ok out of 303)  0%|             | 6.86K/238M [00:01<28:31:42, 2.32KB/s]\n",
      "Total (3 ok out of 303)  0%|              | 838K/238M [00:02<19:54:26, 3.31KB/s]\u001b[A\n",
      "Total (4 ok out of 303)  0%|              | 838K/238M [00:02<19:54:26, 3.31KB/s]\u001b[A\n",
      "                                                                                \u001b[A\n",
      "sub-01/labe .. aparc.annot:   0%|                    | 0.00/830K [00:00<?, ?B/s]\u001b[A\n",
      "\n",
      "Total (5 ok out of 303)  1%|             | 1.78M/238M [00:02<13:53:35, 4.73KB/s]\u001b[A\u001b[A\n",
      "\n",
      "Total (6 ok out of 303)  1%|             | 1.78M/238M [00:02<13:53:35, 4.73KB/s]\u001b[A\u001b[A\n",
      "\n",
      "Total (6 ok out of 303)  1%|1             | 2.61M/238M [00:02<9:41:38, 6.75KB/s]\u001b[A\u001b[A\n",
      "Total (7 ok out of 303)  1%|1             | 2.61M/238M [00:02<9:41:38, 6.75KB/s]\u001b[A\n",
      "Total (15 ok out of 303)  1%|1            | 3.35M/238M [00:05<6:49:43, 9.55KB/s]\u001b[A\n",
      "Total (16 ok out of 303)  1%|1            | 3.39M/238M [00:06<6:49:39, 9.55KB/s]\u001b[A\n",
      "Total (17 ok out of 303)  1%|1            | 3.49M/238M [00:06<6:49:29, 9.55KB/s]\u001b[A\n",
      "Total (18 ok out of 303)  1%|1            | 3.52M/238M [00:06<6:49:26, 9.55KB/s]\u001b[A\n",
      "sub-01/labe .. xvivo.label:   0%|                    | 0.00/165K [00:00<?, ?B/s]\u001b[A\n",
      "Total (19 ok out of 303)  2%|2            | 3.69M/238M [00:06<6:49:08, 9.55KB/s]\u001b[A\n",
      "Total (25 ok out of 303)  2%|2            | 5.35M/238M [00:08<3:21:57, 19.2KB/s]\u001b[A\n",
      "Total (27 ok out of 303)  4%|5            | 10.4M/238M [00:09<1:37:41, 38.9KB/s]\u001b[A\n",
      "Total (28 ok out of 303)  4%|5            | 10.5M/238M [00:09<1:37:38, 38.9KB/s]\u001b[A\n",
      "Total (33 ok out of 303)  5%|5            | 10.7M/238M [00:11<1:37:32, 38.9KB/s]\u001b[A\n",
      "sub-01/labe .. xvivo.label:   0%|                    | 0.00/168K [00:00<?, ?B/s]\u001b[A\n",
      "Total (34 ok out of 303)  5%|5            | 10.9M/238M [00:11<1:37:28, 38.9KB/s]\u001b[A\n",
      "Total (37 ok out of 303)  5%|6            | 11.4M/238M [00:12<1:37:16, 38.9KB/s]\u001b[A\n",
      "sub-01/labe .. 2009s.annot:   0%|                    | 0.00/839K [00:00<?, ?B/s]\u001b[A\n",
      "Total (38 ok out of 303)  5%|6            | 12.2M/238M [00:12<1:36:54, 38.9KB/s]\u001b[A\n",
      "                                                                                \u001b[A\n",
      "Total (39 ok out of 303)  5%|7            | 13.1M/238M [00:13<1:09:06, 54.3KB/s]\u001b[A\n",
      "Total (40 ok out of 303)  6%|7            | 13.9M/238M [00:13<1:08:50, 54.3KB/s]\u001b[A\n",
      "Total (45 ok out of 303)  6%|7            | 14.4M/238M [00:14<1:08:42, 54.3KB/s]\u001b[A\n",
      "sub-01/labe .. hresh.label:   0%|                   | 0.00/42.3K [00:00<?, ?B/s]\u001b[A\n",
      "Total (46 ok out of 303)  6%|7            | 14.4M/238M [00:15<1:08:41, 54.3KB/s]\u001b[A\n",
      "Total (59 ok out of 303)  7%|#              | 16.6M/238M [00:18<49:53, 74.0KB/s]\u001b[A\n",
      "Total (59 ok out of 303)  7%|#1              | 17.5M/238M [00:18<35:28, 104KB/s]\u001b[A\n",
      "Total (60 ok out of 303)  7%|#1              | 17.5M/238M [00:18<35:28, 104KB/s]\u001b[A\n",
      "                                                                                \u001b[A\n",
      "Total (61 ok out of 303)  8%|#3              | 20.2M/238M [00:19<24:44, 147KB/s]\u001b[A\n",
      "Total (62 ok out of 303)  9%|#3              | 20.3M/238M [00:19<24:43, 147KB/s]\u001b[A\n",
      "Total (63 ok out of 303)  9%|#4              | 21.8M/238M [00:19<24:33, 147KB/s]\u001b[A\n",
      "Total (72 ok out of 303) 10%|#5              | 22.9M/238M [00:22<18:21, 195KB/s]\u001b[A\n",
      "sub-01/mri/ .. 9s+aseg.mgz:   0%|                    | 0.00/368K [00:00<?, ?B/s]\u001b[A\n",
      "Total (73 ok out of 303) 10%|#5              | 23.3M/238M [00:23<18:19, 195KB/s]\u001b[A\n",
      "Total (76 ok out of 303) 10%|#5              | 23.8M/238M [00:23<18:16, 195KB/s]\u001b[A\n",
      "sub-01/mri/ .. noccseg.mgz:   0%|                    | 0.00/197K [00:00<?, ?B/s]\u001b[A\n",
      "Total (77 ok out of 303) 10%|#6              | 24.0M/238M [00:24<18:15, 195KB/s]\u001b[A\n",
      "Total (81 ok out of 303) 11%|#7              | 25.7M/238M [00:25<13:56, 254KB/s]\u001b[A\n",
      "Total (82 ok out of 303) 11%|#8              | 27.1M/238M [00:25<13:50, 254KB/s]\u001b[A\n",
      "Total (83 ok out of 303) 12%|#8              | 28.1M/238M [00:26<13:46, 254KB/s]\u001b[A\n",
      "                                                                                \u001b[A\n",
      "Total (83 ok out of 303) 12%|#9              | 29.6M/238M [00:26<09:42, 358KB/s]\u001b[A\n",
      "Total (84 ok out of 303) 12%|#9              | 29.6M/238M [00:26<09:42, 358KB/s]\u001b[A\n",
      "Total (87 ok out of 303) 13%|##              | 29.8M/238M [00:27<09:41, 358KB/s]\u001b[A\n",
      "Total (88 ok out of 303) 13%|##              | 29.8M/238M [00:28<09:41, 358KB/s]\u001b[A\n",
      "Total (89 ok out of 303) 13%|##              | 30.3M/238M [00:28<09:40, 358KB/s]\u001b[A\n",
      "                                                                                \u001b[A\n",
      "sub-01/mri/orig.mgz:   0%|                          | 0.00/4.50M [00:00<?, ?B/s]\u001b[A\n",
      "\n",
      "Total (89 ok out of 303) 15%|##3             | 34.7M/238M [00:29<07:15, 467KB/s]\u001b[A\u001b[A\n",
      "\n",
      "Total (90 ok out of 303) 15%|##3             | 34.7M/238M [00:29<07:15, 467KB/s]\u001b[A\u001b[A\n",
      "\n",
      "                                                                                \u001b[A\u001b[A\n",
      "sub-01/mri/orig.mgz:  32%|#####4           | 1.44M/4.50M [00:00<00:01, 2.86MB/s]\u001b[A\n",
      "\n",
      "Total (90 ok out of 303) 16%|##6             | 39.2M/238M [00:30<05:06, 650KB/s]\u001b[A\u001b[A\n",
      "Total (91 ok out of 303) 16%|##6             | 39.2M/238M [00:30<05:06, 650KB/s]\u001b[A\n",
      "                                                                                \u001b[A\n",
      "Total (91 ok out of 303) 20%|###1            | 47.1M/238M [00:30<03:29, 910KB/s]\u001b[A\n",
      "Total (91 ok out of 303) 22%|###2           | 52.4M/238M [00:31<02:28, 1.25MB/s]\u001b[A\n",
      "Total (92 ok out of 303) 22%|###3           | 52.5M/238M [00:31<02:28, 1.25MB/s]\u001b[A\n",
      "Total (92 ok out of 303) 26%|###9           | 62.5M/238M [00:32<01:43, 1.70MB/s]\u001b[A\n",
      "sub-01/mri/orig/001.mgz:  67%|########7    | 23.2M/34.6M [00:02<00:01, 8.67MB/s]\u001b[A\n",
      "Total (93 ok out of 303) 30%|####5          | 71.9M/238M [00:33<01:13, 2.25MB/s]\u001b[A\n",
      "Total (94 ok out of 303) 31%|####6          | 74.1M/238M [00:33<01:12, 2.25MB/s]\u001b[A\n",
      "Total (96 ok out of 303) 31%|####6          | 74.1M/238M [00:35<01:12, 2.25MB/s]\u001b[A\n",
      "Total (99 ok out of 303) 31%|####6          | 74.2M/238M [00:38<01:12, 2.25MB/s]\u001b[A\n",
      "Total (100 ok out of 303) 32%|####4         | 76.5M/238M [00:39<01:11, 2.25MB/s]\u001b[A\n",
      "Total (101 ok out of 303) 33%|####6         | 78.4M/238M [00:39<01:11, 2.25MB/s]\u001b[A\n",
      "Total (102 ok out of 303) 33%|####6         | 78.4M/238M [00:39<01:11, 2.25MB/s]\u001b[A\n",
      "Total (103 ok out of 303) 35%|####9         | 83.4M/238M [00:41<01:20, 1.93MB/s]\u001b[A\n",
      "sub-01/mri/ .. lairach.m3z:  15%|#5        | 4.96M/32.2M [00:00<00:02, 9.74MB/s]\u001b[A\n",
      "sub-01/mri/ .. lairach.m3z:  28%|##7       | 8.89M/32.2M [00:01<00:02, 9.04MB/s]\u001b[A\n",
      "\n",
      "sub-01/mri/ .. ach_avi.log:   0%|                   | 0.00/94.4K [00:00<?, ?B/s]\u001b[A\u001b[A\n",
      "sub-01/mri/ .. lairach.m3z:  40%|####      | 13.0M/32.2M [00:01<00:02, 8.69MB/s]\u001b[A\n",
      "\n",
      "Total (104 ok out of 303) 38%|#####3        | 91.5M/238M [00:42<01:16, 1.93MB/s]\u001b[A\u001b[A\n",
      "\n",
      "Total (104 ok out of 303) 40%|#####6        | 96.0M/238M [00:42<00:56, 2.51MB/s]\u001b[A\u001b[A\n",
      "sub-01/mri/ .. lairach.m3z:  54%|#####4    | 17.5M/32.2M [00:02<00:01, 8.75MB/s]\u001b[A\n",
      "Total (105 ok out of 303) 42%|#####8        | 99.7M/238M [00:43<00:55, 2.51MB/s]\u001b[A\n",
      "Total (105 ok out of 303) 45%|######7        | 107M/238M [00:44<00:41, 3.13MB/s]\u001b[A\n",
      "Total (107 ok out of 303) 46%|######9        | 111M/238M [00:45<00:40, 3.13MB/s]\u001b[A\n",
      "Total (116 ok out of 303) 47%|#######        | 112M/238M [00:50<00:40, 3.13MB/s]\u001b[A\n",
      "Total (117 ok out of 303) 47%|#######        | 112M/238M [00:52<00:40, 3.13MB/s]\u001b[A\n",
      "Total (118 ok out of 303) 47%|#######        | 112M/238M [00:52<00:40, 3.13MB/s]\u001b[A\n",
      "Total (128 ok out of 303) 47%|#######        | 113M/238M [00:56<00:40, 3.13MB/s]\u001b[A\n",
      "sub-01/scri .. con-all.log:   0%|                    | 0.00/394K [00:00<?, ?B/s]\u001b[A\n",
      "Total (129 ok out of 303) 47%|#######1       | 113M/238M [00:57<00:40, 3.13MB/s]\u001b[A\n",
      "Total (147 ok out of 303) 47%|#######5        | 113M/238M [01:05<02:14, 928KB/s]\u001b[A\n",
      "sub-01/surf/lh.area:   0%|                           | 0.00/414K [00:00<?, ?B/s]\u001b[A\n",
      "Total (148 ok out of 303) 48%|#######6        | 114M/238M [01:06<02:14, 928KB/s]\u001b[A\n",
      "Total (151 ok out of 303) 48%|#######7        | 115M/238M [01:08<02:12, 928KB/s]\u001b[A\n"
     ]
    },
    {
     "name": "stdout",
     "output_type": "stream",
     "text": [
      "sub-01/surf/lh.curv:   0%|                           | 0.00/414K [00:00<?, ?B/s]\u001b[A\n",
      "Total (152 ok out of 303) 48%|#######7        | 115M/238M [01:08<02:12, 928KB/s]\u001b[A\n",
      "Total (153 ok out of 303) 49%|#######7        | 116M/238M [01:09<02:12, 928KB/s]\u001b[A\n",
      "sub-01/surf .. ect_borders:   0%|                    | 0.00/419K [00:00<?, ?B/s]\u001b[A\n",
      "Total (154 ok out of 303) 49%|#######7        | 116M/238M [01:10<02:11, 928KB/s]\u001b[A\n",
      "                                                                                \u001b[A\n",
      "sub-01/surf .. efect_chull:   0%|                    | 0.00/419K [00:00<?, ?B/s]\u001b[A\n",
      "Total (155 ok out of 303) 49%|#######8        | 116M/238M [01:10<02:11, 928KB/s]\u001b[A\n",
      "                                                                                \u001b[A\n",
      "Total (155 ok out of 303) 49%|#######8        | 117M/238M [01:12<03:28, 583KB/s]\u001b[A\n",
      "sub-01/surf/lh.inflated:   6%|9              | 242K/3.73M [00:00<00:07, 477KB/s]\u001b[A\n",
      "Total (156 ok out of 303) 51%|########1       | 121M/238M [01:20<03:38, 538KB/s]\u001b[A\n",
      "Total (157 ok out of 303) 51%|########1       | 121M/238M [01:20<03:38, 538KB/s]\u001b[A\n",
      "                                                                                \u001b[A\n",
      "sub-01/surf/lh.inflated.h:   0%|                     | 0.00/414K [00:00<?, ?B/s]\u001b[A\n",
      "Total (158 ok out of 303) 51%|########1       | 121M/238M [01:21<03:37, 538KB/s]\u001b[A\n",
      "                                                                                \u001b[A\n",
      "sub-01/surf/lh.inflated.k:   0%|                     | 0.00/414K [00:00<?, ?B/s]\u001b[A\n",
      "Total (159 ok out of 303) 51%|########1       | 121M/238M [01:22<03:37, 538KB/s]\u001b[A\n",
      "                                                                                \u001b[A\n",
      "sub-01/surf .. obian_white:   0%|                    | 0.00/414K [00:00<?, ?B/s]\u001b[A\n",
      "Total (160 ok out of 303) 51%|########1       | 122M/238M [01:23<03:36, 538KB/s]\u001b[A\n",
      "                                                                                \u001b[A\n",
      "Total (160 ok out of 303) 52%|########3       | 125M/238M [01:23<02:53, 653KB/s]\u001b[A\n",
      "Total (161 ok out of 303) 53%|########4       | 126M/238M [01:24<02:52, 653KB/s]\u001b[A\n",
      "                                                                                \u001b[A\n",
      "sub-01/surf .. idthickness:   0%|                   | 0.00/3.73M [00:00<?, ?B/s]\u001b[A\n",
      "Total (161 ok out of 303) 54%|########6       | 129M/238M [01:25<02:08, 847KB/s]\u001b[A\n",
      "Total (162 ok out of 303) 54%|########6       | 129M/238M [01:25<02:08, 847KB/s]\u001b[A\n",
      "                                                                                \u001b[A\n",
      "sub-01/surf/lh.orig:   0%|                          | 0.00/3.73M [00:00<?, ?B/s]\u001b[A\n",
      "Total (163 ok out of 303) 56%|########9       | 133M/238M [01:25<02:04, 847KB/s]\u001b[A\n",
      "                                                                                \u001b[A\n",
      "sub-01/surf/lh.orig.nofix:   0%|                    | 0.00/3.77M [00:00<?, ?B/s]\u001b[A\n",
      "\n",
      "Total (163 ok out of 303) 57%|########4      | 135M/238M [01:27<01:34, 1.10MB/s]\u001b[A\u001b[A\n",
      "sub-01/surf/lh.orig.nofix:  44%|####8      | 1.67M/3.77M [00:00<00:00, 3.32MB/s]\u001b[A\n",
      "Total (164 ok out of 303) 57%|########6      | 137M/238M [01:27<01:32, 1.10MB/s]\u001b[A\n",
      "                                                                                \u001b[A\n",
      "sub-01/surf/lh.pial:  11%|##1                | 422K/3.73M [00:00<00:03, 835KB/s]\u001b[A\n",
      "Total (164 ok out of 303) 59%|########8      | 140M/238M [01:28<01:11, 1.38MB/s]\u001b[A\n",
      "sub-01/surf/lh.pial:  80%|#############5   | 2.98M/3.73M [00:01<00:00, 1.26MB/s]\u001b[A\n",
      "Total (165 ok out of 303) 59%|########8      | 141M/238M [01:28<01:10, 1.38MB/s]\u001b[A\n",
      "                                                                                \u001b[A\n",
      "sub-01/surf .. phere.nofix:   0%|                   | 0.00/3.77M [00:00<?, ?B/s]\u001b[A\n",
      "Total (166 ok out of 303) 61%|#########      | 144M/238M [01:29<01:07, 1.38MB/s]\u001b[A\n",
      "                                                                                \u001b[A\n",
      "Total (166 ok out of 303) 62%|#########3     | 148M/238M [01:30<00:52, 1.72MB/s]\u001b[A\n",
      "Total (167 ok out of 303) 62%|#########3     | 148M/238M [01:30<00:52, 1.72MB/s]\u001b[A\n",
      "                                                                                \u001b[A\n",
      "sub-01/surf .. thwm.be.crv:   0%|                    | 0.00/414K [00:00<?, ?B/s]\u001b[A\n",
      "Total (168 ok out of 303) 62%|#########3     | 148M/238M [01:31<00:52, 1.72MB/s]\u001b[A\n",
      "                                                                                \u001b[A\n",
      "sub-01/surf .. othwm.c.crv:   0%|                    | 0.00/414K [00:00<?, ?B/s]\u001b[A\n",
      "Total (169 ok out of 303) 63%|#########3     | 149M/238M [01:32<00:52, 1.72MB/s]\u001b[A\n",
      "Total (170 ok out of 303) 63%|#########4     | 149M/238M [01:32<00:51, 1.72MB/s]\u001b[A\n",
      "sub-01/surf .. othwm.h.crv:   0%|                    | 0.00/414K [00:00<?, ?B/s]\u001b[A\n",
      "Total (171 ok out of 303) 63%|#########4     | 150M/238M [01:33<00:51, 1.72MB/s]\u001b[A\n",
      "                                                                                \u001b[A\n",
      "sub-01/surf .. othwm.k.crv:   0%|                    | 0.00/414K [00:00<?, ?B/s]\u001b[A\n",
      "Total (172 ok out of 303) 63%|#########4     | 150M/238M [01:33<00:51, 1.72MB/s]\u001b[A\n",
      "Total (175 ok out of 303) 64%|#########5     | 151M/238M [01:36<00:50, 1.72MB/s]\u001b[A\n",
      "Total (175 ok out of 303) 65%|#########7     | 155M/238M [01:36<00:55, 1.50MB/s]\u001b[A\n",
      "Total (176 ok out of 303) 65%|#########7     | 155M/238M [01:36<00:55, 1.50MB/s]\u001b[A\n",
      "                                                                                \u001b[A\n",
      "sub-01/surf/lh.sphere:   0%|                        | 0.00/3.73M [00:00<?, ?B/s]\u001b[A\n",
      "\n",
      "sub-01/surf/lh.sphere.reg:   0%|                    | 0.00/3.73M [00:00<?, ?B/s]\u001b[A\u001b[A\n",
      "sub-01/surf/lh.sphere:  68%|##########2    | 2.55M/3.73M [00:00<00:00, 5.04MB/s]\u001b[A\n",
      "Total (177 ok out of 303) 67%|##########     | 159M/238M [01:38<00:52, 1.50MB/s]\u001b[A\n",
      "Total (177 ok out of 303) 68%|##########2    | 163M/238M [01:38<00:41, 1.82MB/s]\u001b[A\n",
      "Total (178 ok out of 303) 68%|##########2    | 163M/238M [01:38<00:41, 1.82MB/s]\u001b[A\n",
      "                                                                                \u001b[A\n",
      "sub-01/surf/lh.thickness:   0%|                      | 0.00/414K [00:00<?, ?B/s]\u001b[A\n",
      "Total (179 ok out of 303) 68%|##########2    | 163M/238M [01:40<00:41, 1.82MB/s]\u001b[A\n",
      "Total (180 ok out of 303) 69%|##########2    | 163M/238M [01:40<00:41, 1.82MB/s]\u001b[A\n",
      "Total (181 ok out of 303) 69%|##########3    | 164M/238M [01:41<00:40, 1.82MB/s]\u001b[A\n",
      "Total (182 ok out of 303) 69%|##########3    | 164M/238M [01:41<00:40, 1.82MB/s]\u001b[A\n",
      "                                                                                \u001b[A\n",
      "Total (183 ok out of 303) 69%|##########3    | 165M/238M [01:42<00:40, 1.82MB/s]\u001b[A\n",
      "Total (184 ok out of 303) 71%|##########6    | 168M/238M [01:43<00:38, 1.82MB/s]\u001b[A\n",
      "Total (185 ok out of 303) 71%|##########6    | 169M/238M [01:44<00:38, 1.82MB/s]\u001b[A\n",
      "Total (185 ok out of 303) 72%|##########8    | 173M/238M [01:45<00:37, 1.74MB/s]\u001b[A\n",
      "Total (186 ok out of 303) 72%|##########8    | 173M/238M [01:45<00:37, 1.74MB/s]\u001b[A\n",
      "Total (187 ok out of 303) 73%|##########8    | 173M/238M [01:45<00:37, 1.74MB/s]\u001b[A\n",
      "sub-01/surf/rh.area.mid:   0%|                       | 0.00/418K [00:00<?, ?B/s]\u001b[A\n",
      "Total (188 ok out of 303) 73%|##########9    | 173M/238M [01:46<00:37, 1.74MB/s]\u001b[A\n",
      "                                                                                \u001b[A\n",
      "sub-01/surf/rh.area.pial:   0%|                      | 0.00/418K [00:00<?, ?B/s]\u001b[A\n",
      "Total (189 ok out of 303) 73%|##########9    | 174M/238M [01:46<00:36, 1.74MB/s]\u001b[A\n",
      "                                                                                \u001b[A\n",
      "sub-01/surf/rh.avg_curv:   0%|                       | 0.00/418K [00:00<?, ?B/s]\u001b[A\n",
      "Total (190 ok out of 303) 73%|##########9    | 174M/238M [01:47<00:36, 1.74MB/s]\u001b[A\n",
      "                                                                                \u001b[A\n",
      "sub-01/surf/rh.curv:   0%|                           | 0.00/418K [00:00<?, ?B/s]\u001b[A\n",
      "Total (191 ok out of 303) 73%|##########9    | 175M/238M [01:48<00:36, 1.74MB/s]\u001b[A\n",
      "                                                                                \u001b[A\n",
      "sub-01/surf/rh.curv.pial:   0%|                      | 0.00/418K [00:00<?, ?B/s]\u001b[A\n",
      "Total (192 ok out of 303) 73%|###########    | 175M/238M [01:48<00:36, 1.74MB/s]\u001b[A\n"
     ]
    },
    {
     "name": "stdout",
     "output_type": "stream",
     "text": [
      "                                                                                \u001b[A\n",
      "sub-01/surf .. ect_borders:   0%|                    | 0.00/421K [00:00<?, ?B/s]\u001b[A\n",
      "Total (193 ok out of 303) 74%|###########    | 175M/238M [01:49<00:35, 1.74MB/s]\u001b[A\n",
      "                                                                                \u001b[A\n",
      "sub-01/surf .. efect_chull:   0%|                    | 0.00/421K [00:00<?, ?B/s]\u001b[A\n",
      "Total (194 ok out of 303) 74%|###########    | 176M/238M [01:49<00:35, 1.74MB/s]\u001b[A\n",
      "                                                                                \u001b[A\n",
      "sub-01/surf .. fect_labels:   0%|                    | 0.00/421K [00:00<?, ?B/s]\u001b[A\n",
      "Total (195 ok out of 303) 74%|###########1   | 176M/238M [01:50<00:35, 1.74MB/s]\u001b[A\n",
      "                                                                                \u001b[A\n",
      "sub-01/surf/rh.inflated:   0%|                      | 0.00/3.77M [00:00<?, ?B/s]\u001b[A\n",
      "\n",
      "sub-01/surf/rh.inflated.h:   0%|                     | 0.00/418K [00:00<?, ?B/s]\u001b[A\u001b[A\n",
      "Total (196 ok out of 303) 76%|###########3   | 180M/238M [01:51<00:33, 1.74MB/s]\u001b[A\n",
      "Total (196 ok out of 303) 76%|###########3   | 180M/238M [01:51<00:37, 1.56MB/s]\u001b[A\n",
      "Total (197 ok out of 303) 76%|###########3   | 180M/238M [01:51<00:37, 1.56MB/s]\u001b[A\n",
      "                                                                                \u001b[A\n",
      "Total (198 ok out of 303) 76%|###########3   | 181M/238M [01:52<00:36, 1.56MB/s]\u001b[A\n",
      "sub-01/surf .. lated.nofix:  34%|###4      | 1.29M/3.79M [00:00<00:00, 2.55MB/s]\u001b[A\n",
      "Total (199 ok out of 303) 78%|###########6   | 185M/238M [01:53<00:34, 1.56MB/s]\u001b[A\n",
      "                                                                                \u001b[A\n",
      "sub-01/surf .. obian_white:   0%|                    | 0.00/418K [00:00<?, ?B/s]\u001b[A\n",
      "Total (200 ok out of 303) 78%|###########6   | 185M/238M [01:53<00:34, 1.56MB/s]\u001b[A\n",
      "                                                                                \u001b[A\n",
      "sub-01/surf .. idthickness:   0%|                   | 0.00/3.76M [00:00<?, ?B/s]\u001b[A\n",
      "\n",
      "Total (200 ok out of 303) 79%|###########8   | 189M/238M [01:55<00:29, 1.66MB/s]\u001b[A\u001b[A\n",
      "Total (201 ok out of 303) 79%|###########8   | 189M/238M [01:55<00:29, 1.66MB/s]\u001b[A\n",
      "                                                                                \u001b[A\n",
      "sub-01/surf/rh.orig:  49%|########2        | 1.83M/3.76M [00:00<00:00, 3.61MB/s]\u001b[A\n",
      "Total (202 ok out of 303) 81%|############1  | 193M/238M [01:56<00:27, 1.66MB/s]\u001b[A\n",
      "                                                                                \u001b[A\n",
      "sub-01/surf/rh.orig.nofix:   0%|                    | 0.00/3.79M [00:00<?, ?B/s]\u001b[A\n",
      "Total (203 ok out of 303) 82%|############3  | 196M/238M [01:57<00:25, 1.66MB/s]\u001b[A\n",
      "                                                                                \u001b[A\n",
      "Total (203 ok out of 303) 84%|############6  | 200M/238M [01:58<00:18, 2.06MB/s]\u001b[A\n",
      "Total (204 ok out of 303) 84%|############6  | 200M/238M [01:58<00:18, 2.06MB/s]\u001b[A\n",
      "                                                                                \u001b[A\n",
      "sub-01/surf/rh.smoothwm:   0%|                      | 0.00/3.76M [00:00<?, ?B/s]\u001b[A\n",
      "\n",
      "sub-01/surf .. phere.nofix:   0%|                   | 0.00/3.79M [00:00<?, ?B/s]\u001b[A\u001b[A\n",
      "sub-01/surf/rh.smoothwm:  60%|#######7     | 2.24M/3.76M [00:00<00:00, 4.36MB/s]\u001b[A\n",
      "\n",
      "sub-01/surf .. phere.nofix:  59%|#####9    | 2.24M/3.79M [00:00<00:00, 4.43MB/s]\u001b[A\u001b[A\n",
      "sub-01/surf/rh.smoothwm:  90%|###########6 | 3.39M/3.76M [00:01<00:00, 3.40MB/s]\u001b[A\n",
      "\n",
      "Total (205 ok out of 303) 87%|#############  | 207M/238M [02:00<00:15, 2.06MB/s]\u001b[A\u001b[A\n",
      "Total (206 ok out of 303) 87%|#############  | 208M/238M [02:00<00:14, 2.06MB/s]\u001b[A\n",
      "                                                                                \u001b[A\n",
      "Total (207 ok out of 303) 87%|#############1 | 208M/238M [02:01<00:14, 2.06MB/s]\u001b[A\n",
      "Total (208 ok out of 303) 88%|#############1 | 209M/238M [02:01<00:14, 2.06MB/s]\u001b[A\n",
      "                                                                                \u001b[A\n",
      "Total (209 ok out of 303) 88%|#############1 | 209M/238M [02:02<00:14, 2.05MB/s]\u001b[A\n",
      "Total (210 ok out of 303) 88%|#############1 | 209M/238M [02:02<00:14, 2.05MB/s]\u001b[A\n",
      "Total (212 ok out of 303) 88%|#############2 | 210M/238M [02:04<00:13, 2.05MB/s]\u001b[A\n",
      "sub-01/surf .. othwm.nofix:   0%|                   | 0.00/3.79M [00:00<?, ?B/s]\u001b[A\n",
      "\n",
      "sub-01/surf .. thwm.k2.crv:   0%|                    | 0.00/418K [00:00<?, ?B/s]\u001b[A\u001b[A\n",
      "\n",
      "Total (213 ok out of 303) 88%|#############2 | 211M/238M [02:05<00:13, 2.05MB/s]\u001b[A\u001b[A\n",
      "\n",
      "                                                                                \u001b[A\u001b[A\n",
      "sub-01/surf .. othwm.nofix:  59%|#####8    | 2.22M/3.79M [00:00<00:00, 4.39MB/s]\u001b[A\n",
      "Total (214 ok out of 303) 90%|#############5 | 214M/238M [02:06<00:11, 2.05MB/s]\u001b[A\n",
      "Total (215 ok out of 303) 90%|#############5 | 215M/238M [02:06<00:11, 2.05MB/s]\u001b[A\n",
      "Total (215 ok out of 303) 92%|#############7 | 219M/238M [02:07<00:09, 1.98MB/s]\u001b[A\n",
      "Total (216 ok out of 303) 92%|#############7 | 219M/238M [02:07<00:09, 1.98MB/s]\u001b[A\n",
      "                                                                                \u001b[A\n",
      "sub-01/surf/rh.sphere.reg:   0%|                    | 0.00/3.77M [00:00<?, ?B/s]\u001b[A\n",
      "Total (217 ok out of 303) 93%|############## | 222M/238M [02:08<00:07, 1.98MB/s]\u001b[A\n",
      "                                                                                \u001b[A\n",
      "sub-01/surf/rh.sulc:   0%|                           | 0.00/418K [00:00<?, ?B/s]\u001b[A\n",
      "Total (218 ok out of 303) 94%|############## | 223M/238M [02:08<00:07, 1.98MB/s]\u001b[A\n",
      "                                                                                \u001b[A\n",
      "sub-01/surf/rh.thickness:   0%|                      | 0.00/418K [00:00<?, ?B/s]\u001b[A\n",
      "Total (219 ok out of 303) 94%|############## | 223M/238M [02:09<00:07, 1.98MB/s]\u001b[A\n",
      "                                                                                \u001b[A\n",
      "Total (220 ok out of 303) 94%|############## | 224M/238M [02:11<00:07, 1.98MB/s]\u001b[A\n",
      "Total (221 ok out of 303) 94%|##############1| 224M/238M [02:11<00:07, 1.98MB/s]\u001b[A\n",
      "Total (222 ok out of 303) 94%|##############1| 225M/238M [02:12<00:06, 1.98MB/s]\u001b[A\n",
      "Total (222 ok out of 303) 96%|##############3| 228M/238M [02:13<00:05, 1.89MB/s]\u001b[A\n",
      "Total (223 ok out of 303) 96%|##############3| 228M/238M [02:13<00:05, 1.89MB/s]\u001b[A\n",
      "                                                                                \u001b[A\n",
      "sub-01/surf/rh.white.k:   0%|                        | 0.00/418K [00:00<?, ?B/s]\u001b[A\n",
      "Total (224 ok out of 303) 96%|##############4| 229M/238M [02:14<00:05, 1.89MB/s]\u001b[A\n",
      "                                                                                \u001b[A\n",
      "sub-01/surf .. te.preaparc:   0%|                   | 0.00/3.76M [00:00<?, ?B/s]\u001b[A\n",
      "Total (225 ok out of 303) 98%|##############6| 232M/238M [02:15<00:03, 1.89MB/s]\u001b[A\n",
      "Total (301 ok out of 303) 98%|############6| 233M/238M [03:10<1:29:40, 1.05KB/s]\u001b[A\n",
      "Total (301 ok out of 303) 98%|##############7| 234M/238M [03:47<52:20, 1.47KB/s]\u001b[A\n",
      "Total (302 ok out of 303) 98%|##############7| 234M/238M [03:47<52:20, 1.47KB/s]\u001b[A\n",
      "Total (302 ok out of 303) 98%|##############7| 234M/238M [04:00<52:20, 1.47KB/s]\u001b[A\n",
      "Total (302 ok out of 303)100%|##############9| 238M/238M [10:59<04:30, 1.97KB/s]\u001b[A\n",
      "Total (303 ok out of 303)100%|###############| 238M/238M [10:59<00:00, 2.81KB/s]\u001b[A\n",
      "\u001b[1;1mget\u001b[0m(\u001b[1;32mok\u001b[0m): /data/ds000114/derivatives/freesurfer/sub-01/label/aparc.annot.ctab (\u001b[1;35mfile\u001b[0m)\n",
      "\u001b[1;1mget\u001b[0m(\u001b[1;32mok\u001b[0m): /data/ds000114/derivatives/freesurfer/sub-01/label/ba_exvivo.ctab (\u001b[1;35mfile\u001b[0m)\n",
      "\u001b[1;1mget\u001b[0m(\u001b[1;32mok\u001b[0m): /data/ds000114/derivatives/freesurfer/sub-01/label/aparc.annot.a2009s.ctab (\u001b[1;35mfile\u001b[0m)\n",
      "\u001b[1;1mget\u001b[0m(\u001b[1;32mok\u001b[0m): /data/ds000114/derivatives/freesurfer/sub-01/label/lh.aparc.a2009s.annot (\u001b[1;35mfile\u001b[0m)\n",
      "\u001b[1;1mget\u001b[0m(\u001b[1;32mok\u001b[0m): /data/ds000114/derivatives/freesurfer/sub-01/label/lh.ba1_exvivo.label (\u001b[1;35mfile\u001b[0m)\n",
      "\u001b[1;1mget\u001b[0m(\u001b[1;32mok\u001b[0m): /data/ds000114/derivatives/freesurfer/sub-01/label/lh.aparc.dktatlas.annot (\u001b[1;35mfile\u001b[0m)\n",
      "\u001b[1;1mget\u001b[0m(\u001b[1;32mok\u001b[0m): /data/ds000114/derivatives/freesurfer/sub-01/label/lh.aparc.annot (\u001b[1;35mfile\u001b[0m)\n",
      "\u001b[1;1mget\u001b[0m(\u001b[1;32mok\u001b[0m): /data/ds000114/derivatives/freesurfer/sub-01/label/lh.ba1_exvivo.thresh.label (\u001b[1;35mfile\u001b[0m)\n",
      "\u001b[1;1mget\u001b[0m(\u001b[1;32mok\u001b[0m): /data/ds000114/derivatives/freesurfer/sub-01/label/lh.ba2_exvivo.thresh.label (\u001b[1;35mfile\u001b[0m)\n",
      "\u001b[1;1mget\u001b[0m(\u001b[1;32mok\u001b[0m): /data/ds000114/derivatives/freesurfer/sub-01/label/lh.ba2_exvivo.label (\u001b[1;35mfile\u001b[0m)\n",
      "\u001b[1;1mget\u001b[0m(\u001b[1;32mok\u001b[0m): /data/ds000114/derivatives/freesurfer/sub-01/label/lh.ba3a_exvivo.thresh.label (\u001b[1;35mfile\u001b[0m)\n",
      "\u001b[1;1mget\u001b[0m(\u001b[1;32mok\u001b[0m): /data/ds000114/derivatives/freesurfer/sub-01/label/lh.ba3a_exvivo.label (\u001b[1;35mfile\u001b[0m)\n",
      "\u001b[1;1mget\u001b[0m(\u001b[1;32mok\u001b[0m): /data/ds000114/derivatives/freesurfer/sub-01/label/lh.ba3b_exvivo.thresh.label (\u001b[1;35mfile\u001b[0m)\n",
      "\u001b[1;1mget\u001b[0m(\u001b[1;32mok\u001b[0m): /data/ds000114/derivatives/freesurfer/sub-01/label/lh.ba3b_exvivo.label (\u001b[1;35mfile\u001b[0m)\n",
      "\u001b[1;1mget\u001b[0m(\u001b[1;32mok\u001b[0m): /data/ds000114/derivatives/freesurfer/sub-01/label/lh.ba45_exvivo.label (\u001b[1;35mfile\u001b[0m)\n",
      "\u001b[1;1mget\u001b[0m(\u001b[1;32mok\u001b[0m): /data/ds000114/derivatives/freesurfer/sub-01/label/lh.ba44_exvivo.thresh.label (\u001b[1;35mfile\u001b[0m)\n",
      "\u001b[1;1mget\u001b[0m(\u001b[1;32mok\u001b[0m): /data/ds000114/derivatives/freesurfer/sub-01/label/lh.ba44_exvivo.label (\u001b[1;35mfile\u001b[0m)\n",
      "\u001b[1;1mget\u001b[0m(\u001b[1;32mok\u001b[0m): /data/ds000114/derivatives/freesurfer/sub-01/label/lh.ba45_exvivo.thresh.label (\u001b[1;35mfile\u001b[0m)\n",
      "\u001b[1;1mget\u001b[0m(\u001b[1;32mok\u001b[0m): /data/ds000114/derivatives/freesurfer/sub-01/label/lh.ba4a_exvivo.label (\u001b[1;35mfile\u001b[0m)\n",
      "\u001b[1;1mget\u001b[0m(\u001b[1;32mok\u001b[0m): /data/ds000114/derivatives/freesurfer/sub-01/label/lh.ba4a_exvivo.thresh.label (\u001b[1;35mfile\u001b[0m)\n",
      "\u001b[1;1mget\u001b[0m(\u001b[1;32mok\u001b[0m): /data/ds000114/derivatives/freesurfer/sub-01/label/lh.ba4p_exvivo.thresh.label (\u001b[1;35mfile\u001b[0m)\n",
      "\u001b[1;1mget\u001b[0m(\u001b[1;32mok\u001b[0m): /data/ds000114/derivatives/freesurfer/sub-01/label/lh.ba6_exvivo.label (\u001b[1;35mfile\u001b[0m)\n",
      "\u001b[1;1mget\u001b[0m(\u001b[1;32mok\u001b[0m): /data/ds000114/derivatives/freesurfer/sub-01/label/lh.ba6_exvivo.thresh.label (\u001b[1;35mfile\u001b[0m)\n",
      "\u001b[1;1mget\u001b[0m(\u001b[1;32mok\u001b[0m): /data/ds000114/derivatives/freesurfer/sub-01/label/lh.ba_exvivo.annot (\u001b[1;35mfile\u001b[0m)\n",
      "\u001b[1;1mget\u001b[0m(\u001b[1;32mok\u001b[0m): /data/ds000114/derivatives/freesurfer/sub-01/label/lh.ba4p_exvivo.label (\u001b[1;35mfile\u001b[0m)\n",
      "\u001b[1;1mget\u001b[0m(\u001b[1;32mok\u001b[0m): /data/ds000114/derivatives/freesurfer/sub-01/label/lh.ba_exvivo.thresh.annot (\u001b[1;35mfile\u001b[0m)\n",
      "\u001b[1;1mget\u001b[0m(\u001b[1;32mok\u001b[0m): /data/ds000114/derivatives/freesurfer/sub-01/label/lh.entorhinal_exvivo.label (\u001b[1;35mfile\u001b[0m)\n",
      "\u001b[1;1mget\u001b[0m(\u001b[1;32mok\u001b[0m): /data/ds000114/derivatives/freesurfer/sub-01/label/lh.cortex.label (\u001b[1;35mfile\u001b[0m)\n",
      "\u001b[1;1mget\u001b[0m(\u001b[1;32mok\u001b[0m): /data/ds000114/derivatives/freesurfer/sub-01/label/lh.entorhinal_exvivo.thresh.label (\u001b[1;35mfile\u001b[0m)\n",
      "\u001b[1;1mget\u001b[0m(\u001b[1;32mok\u001b[0m): /data/ds000114/derivatives/freesurfer/sub-01/label/lh.mt_exvivo.thresh.label (\u001b[1;35mfile\u001b[0m)\n",
      "\u001b[1;1mget\u001b[0m(\u001b[1;32mok\u001b[0m): /data/ds000114/derivatives/freesurfer/sub-01/label/lh.mt_exvivo.label (\u001b[1;35mfile\u001b[0m)\n",
      "\u001b[1;1mget\u001b[0m(\u001b[1;32mok\u001b[0m): /data/ds000114/derivatives/freesurfer/sub-01/label/lh.perirhinal_exvivo.thresh.label (\u001b[1;35mfile\u001b[0m)\n",
      "\u001b[1;1mget\u001b[0m(\u001b[1;32mok\u001b[0m): /data/ds000114/derivatives/freesurfer/sub-01/label/lh.v1_exvivo.thresh.label (\u001b[1;35mfile\u001b[0m)\n",
      "\u001b[1;1mget\u001b[0m(\u001b[1;32mok\u001b[0m): /data/ds000114/derivatives/freesurfer/sub-01/label/lh.v1_exvivo.label (\u001b[1;35mfile\u001b[0m)\n",
      "\u001b[1;1mget\u001b[0m(\u001b[1;32mok\u001b[0m): /data/ds000114/derivatives/freesurfer/sub-01/label/lh.v2_exvivo.label (\u001b[1;35mfile\u001b[0m)\n",
      "\u001b[1;1mget\u001b[0m(\u001b[1;32mok\u001b[0m): /data/ds000114/derivatives/freesurfer/sub-01/label/lh.perirhinal_exvivo.label (\u001b[1;35mfile\u001b[0m)\n",
      "\u001b[1;1mget\u001b[0m(\u001b[1;32mok\u001b[0m): /data/ds000114/derivatives/freesurfer/sub-01/label/lh.v2_exvivo.thresh.label (\u001b[1;35mfile\u001b[0m)\n",
      "\u001b[1;1mget\u001b[0m(\u001b[1;32mok\u001b[0m): /data/ds000114/derivatives/freesurfer/sub-01/label/rh.aparc.a2009s.annot (\u001b[1;35mfile\u001b[0m)\n",
      "\u001b[1;1mget\u001b[0m(\u001b[1;32mok\u001b[0m): /data/ds000114/derivatives/freesurfer/sub-01/label/rh.aparc.annot (\u001b[1;35mfile\u001b[0m)\n",
      "\u001b[1;1mget\u001b[0m(\u001b[1;32mok\u001b[0m): /data/ds000114/derivatives/freesurfer/sub-01/label/rh.aparc.dktatlas.annot (\u001b[1;35mfile\u001b[0m)\n",
      "\u001b[1;1mget\u001b[0m(\u001b[1;32mok\u001b[0m): /data/ds000114/derivatives/freesurfer/sub-01/label/rh.ba1_exvivo.label (\u001b[1;35mfile\u001b[0m)\n",
      "\u001b[1;1mget\u001b[0m(\u001b[1;32mok\u001b[0m): /data/ds000114/derivatives/freesurfer/sub-01/label/rh.ba1_exvivo.thresh.label (\u001b[1;35mfile\u001b[0m)\n",
      "\u001b[1;1mget\u001b[0m(\u001b[1;32mok\u001b[0m): /data/ds000114/derivatives/freesurfer/sub-01/label/rh.ba2_exvivo.thresh.label (\u001b[1;35mfile\u001b[0m)\n",
      "\u001b[1;1mget\u001b[0m(\u001b[1;32mok\u001b[0m): /data/ds000114/derivatives/freesurfer/sub-01/label/rh.ba2_exvivo.label (\u001b[1;35mfile\u001b[0m)\n",
      "\u001b[1;1mget\u001b[0m(\u001b[1;32mok\u001b[0m): /data/ds000114/derivatives/freesurfer/sub-01/label/rh.ba3a_exvivo.label (\u001b[1;35mfile\u001b[0m)\n",
      "\u001b[1;1mget\u001b[0m(\u001b[1;32mok\u001b[0m): /data/ds000114/derivatives/freesurfer/sub-01/label/rh.ba3a_exvivo.thresh.label (\u001b[1;35mfile\u001b[0m)\n",
      "\u001b[1;1mget\u001b[0m(\u001b[1;32mok\u001b[0m): /data/ds000114/derivatives/freesurfer/sub-01/label/rh.ba3b_exvivo.thresh.label (\u001b[1;35mfile\u001b[0m)\n",
      "\u001b[1;1mget\u001b[0m(\u001b[1;32mok\u001b[0m): /data/ds000114/derivatives/freesurfer/sub-01/label/rh.ba44_exvivo.label (\u001b[1;35mfile\u001b[0m)\n",
      "\u001b[1;1mget\u001b[0m(\u001b[1;32mok\u001b[0m): /data/ds000114/derivatives/freesurfer/sub-01/label/rh.ba3b_exvivo.label (\u001b[1;35mfile\u001b[0m)\n",
      "\u001b[1;1mget\u001b[0m(\u001b[1;32mok\u001b[0m): /data/ds000114/derivatives/freesurfer/sub-01/label/rh.ba44_exvivo.thresh.label (\u001b[1;35mfile\u001b[0m)\n",
      "\u001b[1;1mget\u001b[0m(\u001b[1;32mok\u001b[0m): /data/ds000114/derivatives/freesurfer/sub-01/label/rh.ba45_exvivo.thresh.label (\u001b[1;35mfile\u001b[0m)\n",
      "\u001b[1;1mget\u001b[0m(\u001b[1;32mok\u001b[0m): /data/ds000114/derivatives/freesurfer/sub-01/label/rh.ba4a_exvivo.label (\u001b[1;35mfile\u001b[0m)\n",
      "\u001b[1;1mget\u001b[0m(\u001b[1;32mok\u001b[0m): /data/ds000114/derivatives/freesurfer/sub-01/label/rh.ba45_exvivo.label (\u001b[1;35mfile\u001b[0m)\n",
      "\u001b[1;1mget\u001b[0m(\u001b[1;32mok\u001b[0m): /data/ds000114/derivatives/freesurfer/sub-01/label/rh.ba4a_exvivo.thresh.label (\u001b[1;35mfile\u001b[0m)\n",
      "\u001b[1;1mget\u001b[0m(\u001b[1;32mok\u001b[0m): /data/ds000114/derivatives/freesurfer/sub-01/label/rh.ba4p_exvivo.label (\u001b[1;35mfile\u001b[0m)\n",
      "\u001b[1;1mget\u001b[0m(\u001b[1;32mok\u001b[0m): /data/ds000114/derivatives/freesurfer/sub-01/label/rh.ba4p_exvivo.thresh.label (\u001b[1;35mfile\u001b[0m)\n",
      "\u001b[1;1mget\u001b[0m(\u001b[1;32mok\u001b[0m): /data/ds000114/derivatives/freesurfer/sub-01/label/rh.ba6_exvivo.label (\u001b[1;35mfile\u001b[0m)\n",
      "\u001b[1;1mget\u001b[0m(\u001b[1;32mok\u001b[0m): /data/ds000114/derivatives/freesurfer/sub-01/label/rh.ba6_exvivo.thresh.label (\u001b[1;35mfile\u001b[0m)\n",
      "\u001b[1;1mget\u001b[0m(\u001b[1;32mok\u001b[0m): /data/ds000114/derivatives/freesurfer/sub-01/label/rh.ba_exvivo.annot (\u001b[1;35mfile\u001b[0m)\n",
      "\u001b[1;1mget\u001b[0m(\u001b[1;32mok\u001b[0m): /data/ds000114/derivatives/freesurfer/sub-01/label/rh.ba_exvivo.thresh.annot (\u001b[1;35mfile\u001b[0m)\n",
      "\u001b[1;1mget\u001b[0m(\u001b[1;32mok\u001b[0m): /data/ds000114/derivatives/freesurfer/sub-01/label/rh.entorhinal_exvivo.label (\u001b[1;35mfile\u001b[0m)\n",
      "\u001b[1;1mget\u001b[0m(\u001b[1;32mok\u001b[0m): /data/ds000114/derivatives/freesurfer/sub-01/label/rh.entorhinal_exvivo.thresh.label (\u001b[1;35mfile\u001b[0m)\n",
      "\u001b[1;1mget\u001b[0m(\u001b[1;32mok\u001b[0m): /data/ds000114/derivatives/freesurfer/sub-01/label/rh.cortex.label (\u001b[1;35mfile\u001b[0m)\n",
      "\u001b[1;1mget\u001b[0m(\u001b[1;32mok\u001b[0m): /data/ds000114/derivatives/freesurfer/sub-01/label/rh.mt_exvivo.label (\u001b[1;35mfile\u001b[0m)\n",
      "\u001b[1;1mget\u001b[0m(\u001b[1;32mok\u001b[0m): /data/ds000114/derivatives/freesurfer/sub-01/label/rh.perirhinal_exvivo.label (\u001b[1;35mfile\u001b[0m)\n",
      "\u001b[1;1mget\u001b[0m(\u001b[1;32mok\u001b[0m): /data/ds000114/derivatives/freesurfer/sub-01/label/rh.perirhinal_exvivo.thresh.label (\u001b[1;35mfile\u001b[0m)\n",
      "\u001b[1;1mget\u001b[0m(\u001b[1;32mok\u001b[0m): /data/ds000114/derivatives/freesurfer/sub-01/label/rh.v1_exvivo.label (\u001b[1;35mfile\u001b[0m)\n",
      "\u001b[1;1mget\u001b[0m(\u001b[1;32mok\u001b[0m): /data/ds000114/derivatives/freesurfer/sub-01/label/rh.v1_exvivo.thresh.label (\u001b[1;35mfile\u001b[0m)\n",
      "\u001b[1;1mget\u001b[0m(\u001b[1;32mok\u001b[0m): /data/ds000114/derivatives/freesurfer/sub-01/label/rh.mt_exvivo.thresh.label (\u001b[1;35mfile\u001b[0m)\n",
      "\u001b[1;1mget\u001b[0m(\u001b[1;32mok\u001b[0m): /data/ds000114/derivatives/freesurfer/sub-01/label/rh.v2_exvivo.label (\u001b[1;35mfile\u001b[0m)\n",
      "\u001b[1;1mget\u001b[0m(\u001b[1;32mok\u001b[0m): /data/ds000114/derivatives/freesurfer/sub-01/label/rh.v2_exvivo.thresh.label (\u001b[1;35mfile\u001b[0m)\n",
      "\u001b[1;1mget\u001b[0m(\u001b[1;32mok\u001b[0m): /data/ds000114/derivatives/freesurfer/sub-01/mri/aparc+aseg.mgz (\u001b[1;35mfile\u001b[0m)\n",
      "\u001b[1;1mget\u001b[0m(\u001b[1;32mok\u001b[0m): /data/ds000114/derivatives/freesurfer/sub-01/mri/aparc.a2009s+aseg.mgz (\u001b[1;35mfile\u001b[0m)\n",
      "\u001b[1;1mget\u001b[0m(\u001b[1;32mok\u001b[0m): /data/ds000114/derivatives/freesurfer/sub-01/mri/aparc.dktatlas+aseg.mgz (\u001b[1;35mfile\u001b[0m)\n",
      "\u001b[1;1mget\u001b[0m(\u001b[1;32mok\u001b[0m): /data/ds000114/derivatives/freesurfer/sub-01/mri/aseg.auto.mgz (\u001b[1;35mfile\u001b[0m)\n",
      "\u001b[1;1mget\u001b[0m(\u001b[1;32mok\u001b[0m): /data/ds000114/derivatives/freesurfer/sub-01/mri/aseg.auto_noccseg.label_intensities.txt (\u001b[1;35mfile\u001b[0m)\n",
      "\u001b[1;1mget\u001b[0m(\u001b[1;32mok\u001b[0m): /data/ds000114/derivatives/freesurfer/sub-01/mri/aseg.auto_noccseg.mgz (\u001b[1;35mfile\u001b[0m)\n",
      "\u001b[1;1mget\u001b[0m(\u001b[1;32mok\u001b[0m): /data/ds000114/derivatives/freesurfer/sub-01/mri/aseg.mgz (\u001b[1;35mfile\u001b[0m)\n",
      "\u001b[1;1mget\u001b[0m(\u001b[1;32mok\u001b[0m): /data/ds000114/derivatives/freesurfer/sub-01/mri/aseg.presurf.hypos.mgz (\u001b[1;35mfile\u001b[0m)\n",
      "\u001b[1;1mget\u001b[0m(\u001b[1;32mok\u001b[0m): /data/ds000114/derivatives/freesurfer/sub-01/mri/aseg.presurf.mgz (\u001b[1;35mfile\u001b[0m)\n",
      "\u001b[1;1mget\u001b[0m(\u001b[1;32mok\u001b[0m): /data/ds000114/derivatives/freesurfer/sub-01/mri/brain.finalsurfs.mgz (\u001b[1;35mfile\u001b[0m)\n",
      "\u001b[1;1mget\u001b[0m(\u001b[1;32mok\u001b[0m): /data/ds000114/derivatives/freesurfer/sub-01/mri/brainmask.auto.mgz (\u001b[1;35mfile\u001b[0m)\n",
      "\u001b[1;1mget\u001b[0m(\u001b[1;32mok\u001b[0m): /data/ds000114/derivatives/freesurfer/sub-01/mri/brain.mgz (\u001b[1;35mfile\u001b[0m)\n",
      "\u001b[1;1mget\u001b[0m(\u001b[1;32mok\u001b[0m): /data/ds000114/derivatives/freesurfer/sub-01/mri/brainmask.mgz (\u001b[1;35mfile\u001b[0m)\n",
      "\u001b[1;1mget\u001b[0m(\u001b[1;32mok\u001b[0m): /data/ds000114/derivatives/freesurfer/sub-01/mri/lh.ribbon.mgz (\u001b[1;35mfile\u001b[0m)\n",
      "\u001b[1;1mget\u001b[0m(\u001b[1;32mok\u001b[0m): /data/ds000114/derivatives/freesurfer/sub-01/mri/filled.mgz (\u001b[1;35mfile\u001b[0m)\n",
      "\u001b[1;1mget\u001b[0m(\u001b[1;32mok\u001b[0m): /data/ds000114/derivatives/freesurfer/sub-01/mri/mri_nu_correct.mni.log.bak (\u001b[1;35mfile\u001b[0m)\n",
      "\u001b[1;1mget\u001b[0m(\u001b[1;32mok\u001b[0m): /data/ds000114/derivatives/freesurfer/sub-01/mri/mri_nu_correct.mni.log (\u001b[1;35mfile\u001b[0m)\n",
      "\u001b[1;1mget\u001b[0m(\u001b[1;32mok\u001b[0m): /data/ds000114/derivatives/freesurfer/sub-01/mri/ctrl_pts.mgz (\u001b[1;35mfile\u001b[0m)\n",
      "\u001b[1;1mget\u001b[0m(\u001b[1;32mok\u001b[0m): /data/ds000114/derivatives/freesurfer/sub-01/mri/nu.mgz (\u001b[1;35mfile\u001b[0m)\n",
      "\u001b[1;1mget\u001b[0m(\u001b[1;32mok\u001b[0m): /data/ds000114/derivatives/freesurfer/sub-01/mri/orig.mgz (\u001b[1;35mfile\u001b[0m)\n",
      "\u001b[1;1mget\u001b[0m(\u001b[1;32mok\u001b[0m): /data/ds000114/derivatives/freesurfer/sub-01/mri/rh.ribbon.mgz (\u001b[1;35mfile\u001b[0m)\n",
      "\u001b[1;1mget\u001b[0m(\u001b[1;32mok\u001b[0m): /data/ds000114/derivatives/freesurfer/sub-01/mri/ribbon.mgz (\u001b[1;35mfile\u001b[0m)\n",
      "\u001b[1;1mget\u001b[0m(\u001b[1;32mok\u001b[0m): /data/ds000114/derivatives/freesurfer/sub-01/mri/orig/001.mgz (\u001b[1;35mfile\u001b[0m)\n",
      "\u001b[1;1mget\u001b[0m(\u001b[1;32mok\u001b[0m): /data/ds000114/derivatives/freesurfer/sub-01/mri/segment.dat (\u001b[1;35mfile\u001b[0m)\n",
      "\u001b[1;1mget\u001b[0m(\u001b[1;32mok\u001b[0m): /data/ds000114/derivatives/freesurfer/sub-01/mri/talairach.label_intensities.txt (\u001b[1;35mfile\u001b[0m)\n",
      "\u001b[1;1mget\u001b[0m(\u001b[1;32mok\u001b[0m): /data/ds000114/derivatives/freesurfer/sub-01/mri/talairach.log (\u001b[1;35mfile\u001b[0m)\n",
      "\u001b[1;1mget\u001b[0m(\u001b[1;32mok\u001b[0m): /data/ds000114/derivatives/freesurfer/sub-01/mri/transforms/cc_up.lta (\u001b[1;35mfile\u001b[0m)\n",
      "\u001b[1;1mget\u001b[0m(\u001b[1;32mok\u001b[0m): /data/ds000114/derivatives/freesurfer/sub-01/mri/transforms/talairach.auto.xfm (\u001b[1;35mfile\u001b[0m)\n",
      "\u001b[1;1mget\u001b[0m(\u001b[1;32mok\u001b[0m): /data/ds000114/derivatives/freesurfer/sub-01/mri/transforms/talairach.auto.xfm.lta (\u001b[1;35mfile\u001b[0m)\n",
      "\u001b[1;1mget\u001b[0m(\u001b[1;32mok\u001b[0m): /data/ds000114/derivatives/freesurfer/sub-01/mri/t1.mgz (\u001b[1;35mfile\u001b[0m)\n",
      "\u001b[1;1mget\u001b[0m(\u001b[1;32mok\u001b[0m): /data/ds000114/derivatives/freesurfer/sub-01/mri/transforms/talairach.lta (\u001b[1;35mfile\u001b[0m)\n",
      "\u001b[1;1mget\u001b[0m(\u001b[1;32mok\u001b[0m): /data/ds000114/derivatives/freesurfer/sub-01/mri/transforms/talairach.xfm (\u001b[1;35mfile\u001b[0m)\n",
      "\u001b[1;1mget\u001b[0m(\u001b[1;32mok\u001b[0m): /data/ds000114/derivatives/freesurfer/sub-01/mri/transforms/talairach_avi.log (\u001b[1;35mfile\u001b[0m)\n",
      "\u001b[1;1mget\u001b[0m(\u001b[1;32mok\u001b[0m): /data/ds000114/derivatives/freesurfer/sub-01/mri/transforms/talairach_avi_qa.log (\u001b[1;35mfile\u001b[0m)\n",
      "\u001b[1;1mget\u001b[0m(\u001b[1;32mok\u001b[0m): /data/ds000114/derivatives/freesurfer/sub-01/mri/transforms/talsrcimg_to_711-2c_as_mni_average_305_t4_vox2vox.txt (\u001b[1;35mfile\u001b[0m)\n",
      "\u001b[1;1mget\u001b[0m(\u001b[1;32mok\u001b[0m): /data/ds000114/derivatives/freesurfer/sub-01/mri/transforms/talairach.m3z (\u001b[1;35mfile\u001b[0m)\n",
      "\u001b[1;1mget\u001b[0m(\u001b[1;32mok\u001b[0m): /data/ds000114/derivatives/freesurfer/sub-01/mri/wm.mgz (\u001b[1;35mfile\u001b[0m)\n",
      "\u001b[1;1mget\u001b[0m(\u001b[1;32mok\u001b[0m): /data/ds000114/derivatives/freesurfer/sub-01/mri/wm.asegedit.mgz (\u001b[1;35mfile\u001b[0m)\n",
      "\u001b[1;1mget\u001b[0m(\u001b[1;32mok\u001b[0m): /data/ds000114/derivatives/freesurfer/sub-01/mri/wm.seg.mgz (\u001b[1;35mfile\u001b[0m)\n",
      "\u001b[1;1mget\u001b[0m(\u001b[1;32mok\u001b[0m): /data/ds000114/derivatives/freesurfer/sub-01/mri/wmparc.mgz (\u001b[1;35mfile\u001b[0m)\n",
      "\u001b[1;1mget\u001b[0m(\u001b[1;32mok\u001b[0m): /data/ds000114/derivatives/freesurfer/sub-01/scripts/build-stamp.txt (\u001b[1;35mfile\u001b[0m)\n",
      "\u001b[1;1mget\u001b[0m(\u001b[1;32mok\u001b[0m): /data/ds000114/derivatives/freesurfer/sub-01/scripts/pctsurfcon.log (\u001b[1;35mfile\u001b[0m)\n",
      "\u001b[1;1mget\u001b[0m(\u001b[1;32mok\u001b[0m): /data/ds000114/derivatives/freesurfer/sub-01/scripts/patchdir.txt (\u001b[1;35mfile\u001b[0m)\n",
      "\u001b[1;1mget\u001b[0m(\u001b[1;32mok\u001b[0m): /data/ds000114/derivatives/freesurfer/sub-01/scripts/pctsurfcon.log.old (\u001b[1;35mfile\u001b[0m)\n",
      "\u001b[1;1mget\u001b[0m(\u001b[1;32mok\u001b[0m): /data/ds000114/derivatives/freesurfer/sub-01/scripts/ponscc.cut.log (\u001b[1;35mfile\u001b[0m)\n",
      "\u001b[1;1mget\u001b[0m(\u001b[1;32mok\u001b[0m): /data/ds000114/derivatives/freesurfer/sub-01/scripts/recon-all-lh.cmd (\u001b[1;35mfile\u001b[0m)\n",
      "\u001b[1;1mget\u001b[0m(\u001b[1;32mok\u001b[0m): /data/ds000114/derivatives/freesurfer/sub-01/scripts/recon-all-lh.log (\u001b[1;35mfile\u001b[0m)\n",
      "\u001b[1;1mget\u001b[0m(\u001b[1;32mok\u001b[0m): /data/ds000114/derivatives/freesurfer/sub-01/scripts/recon-all-rh.cmd (\u001b[1;35mfile\u001b[0m)\n",
      "\u001b[1;1mget\u001b[0m(\u001b[1;32mok\u001b[0m): /data/ds000114/derivatives/freesurfer/sub-01/scripts/recon-all-rh.log (\u001b[1;35mfile\u001b[0m)\n",
      "\u001b[1;1mget\u001b[0m(\u001b[1;32mok\u001b[0m): /data/ds000114/derivatives/freesurfer/sub-01/scripts/recon-all-status-lh.log (\u001b[1;35mfile\u001b[0m)\n",
      "\u001b[1;1mget\u001b[0m(\u001b[1;32mok\u001b[0m): /data/ds000114/derivatives/freesurfer/sub-01/scripts/recon-all-status-rh.log (\u001b[1;35mfile\u001b[0m)\n",
      "\u001b[1;1mget\u001b[0m(\u001b[1;32mok\u001b[0m): /data/ds000114/derivatives/freesurfer/sub-01/scripts/recon-all-status.log (\u001b[1;35mfile\u001b[0m)\n",
      "\u001b[1;1mget\u001b[0m(\u001b[1;32mok\u001b[0m): /data/ds000114/derivatives/freesurfer/sub-01/scripts/recon-all.cmd (\u001b[1;35mfile\u001b[0m)\n",
      "\u001b[1;1mget\u001b[0m(\u001b[1;32mok\u001b[0m): /data/ds000114/derivatives/freesurfer/sub-01/scripts/recon-all.done (\u001b[1;35mfile\u001b[0m)\n",
      "\u001b[1;1mget\u001b[0m(\u001b[1;32mok\u001b[0m): /data/ds000114/derivatives/freesurfer/sub-01/scripts/recon-all.env (\u001b[1;35mfile\u001b[0m)\n",
      "\u001b[1;1mget\u001b[0m(\u001b[1;32mok\u001b[0m): /data/ds000114/derivatives/freesurfer/sub-01/scripts/recon-all.env.bak (\u001b[1;35mfile\u001b[0m)\n",
      "\u001b[1;1mget\u001b[0m(\u001b[1;32mok\u001b[0m): /data/ds000114/derivatives/freesurfer/sub-01/scripts/recon-all.local-copy (\u001b[1;35mfile\u001b[0m)\n",
      "\u001b[1;1mget\u001b[0m(\u001b[1;32mok\u001b[0m): /data/ds000114/derivatives/freesurfer/sub-01/scripts/recon-all.log (\u001b[1;35mfile\u001b[0m)\n",
      "\u001b[1;1mget\u001b[0m(\u001b[1;32mok\u001b[0m): /data/ds000114/derivatives/freesurfer/sub-01/stats/aseg.stats (\u001b[1;35mfile\u001b[0m)\n",
      "\u001b[1;1mget\u001b[0m(\u001b[1;32mok\u001b[0m): /data/ds000114/derivatives/freesurfer/sub-01/stats/lh.aparc.a2009s.stats (\u001b[1;35mfile\u001b[0m)\n",
      "\u001b[1;1mget\u001b[0m(\u001b[1;32mok\u001b[0m): /data/ds000114/derivatives/freesurfer/sub-01/stats/lh.aparc.dktatlas.stats (\u001b[1;35mfile\u001b[0m)\n",
      "\u001b[1;1mget\u001b[0m(\u001b[1;32mok\u001b[0m): /data/ds000114/derivatives/freesurfer/sub-01/stats/lh.aparc.pial.stats (\u001b[1;35mfile\u001b[0m)\n",
      "\u001b[1;1mget\u001b[0m(\u001b[1;32mok\u001b[0m): /data/ds000114/derivatives/freesurfer/sub-01/stats/lh.aparc.stats (\u001b[1;35mfile\u001b[0m)\n",
      "\u001b[1;1mget\u001b[0m(\u001b[1;32mok\u001b[0m): /data/ds000114/derivatives/freesurfer/sub-01/stats/lh.ba_exvivo.stats (\u001b[1;35mfile\u001b[0m)\n",
      "\u001b[1;1mget\u001b[0m(\u001b[1;32mok\u001b[0m): /data/ds000114/derivatives/freesurfer/sub-01/stats/lh.ba_exvivo.thresh.stats (\u001b[1;35mfile\u001b[0m)\n",
      "\u001b[1;1mget\u001b[0m(\u001b[1;32mok\u001b[0m): /data/ds000114/derivatives/freesurfer/sub-01/stats/lh.w-g.pct.stats (\u001b[1;35mfile\u001b[0m)\n",
      "\u001b[1;1mget\u001b[0m(\u001b[1;32mok\u001b[0m): /data/ds000114/derivatives/freesurfer/sub-01/stats/lh.curv.stats (\u001b[1;35mfile\u001b[0m)\n",
      "\u001b[1;1mget\u001b[0m(\u001b[1;32mok\u001b[0m): /data/ds000114/derivatives/freesurfer/sub-01/stats/rh.aparc.dktatlas.stats (\u001b[1;35mfile\u001b[0m)\n",
      "\u001b[1;1mget\u001b[0m(\u001b[1;32mok\u001b[0m): /data/ds000114/derivatives/freesurfer/sub-01/stats/rh.aparc.a2009s.stats (\u001b[1;35mfile\u001b[0m)\n",
      "\u001b[1;1mget\u001b[0m(\u001b[1;32mok\u001b[0m): /data/ds000114/derivatives/freesurfer/sub-01/stats/rh.aparc.pial.stats (\u001b[1;35mfile\u001b[0m)\n",
      "\u001b[1;1mget\u001b[0m(\u001b[1;32mok\u001b[0m): /data/ds000114/derivatives/freesurfer/sub-01/stats/rh.aparc.stats (\u001b[1;35mfile\u001b[0m)\n",
      "\u001b[1;1mget\u001b[0m(\u001b[1;32mok\u001b[0m): /data/ds000114/derivatives/freesurfer/sub-01/stats/rh.ba_exvivo.stats (\u001b[1;35mfile\u001b[0m)\n",
      "\u001b[1;1mget\u001b[0m(\u001b[1;32mok\u001b[0m): /data/ds000114/derivatives/freesurfer/sub-01/stats/rh.ba_exvivo.thresh.stats (\u001b[1;35mfile\u001b[0m)\n",
      "\u001b[1;1mget\u001b[0m(\u001b[1;32mok\u001b[0m): /data/ds000114/derivatives/freesurfer/sub-01/stats/rh.w-g.pct.stats (\u001b[1;35mfile\u001b[0m)\n",
      "\u001b[1;1mget\u001b[0m(\u001b[1;32mok\u001b[0m): /data/ds000114/derivatives/freesurfer/sub-01/stats/rh.curv.stats (\u001b[1;35mfile\u001b[0m)\n",
      "\u001b[1;1mget\u001b[0m(\u001b[1;32mok\u001b[0m): /data/ds000114/derivatives/freesurfer/sub-01/stats/wmparc.stats (\u001b[1;35mfile\u001b[0m)\n",
      "\u001b[1;1mget\u001b[0m(\u001b[1;32mok\u001b[0m): /data/ds000114/derivatives/freesurfer/sub-01/surf/lh.area (\u001b[1;35mfile\u001b[0m)\n",
      "\u001b[1;1mget\u001b[0m(\u001b[1;32mok\u001b[0m): /data/ds000114/derivatives/freesurfer/sub-01/surf/lh.area.mid (\u001b[1;35mfile\u001b[0m)\n",
      "\u001b[1;1mget\u001b[0m(\u001b[1;32mok\u001b[0m): /data/ds000114/derivatives/freesurfer/sub-01/surf/lh.area.pial (\u001b[1;35mfile\u001b[0m)\n",
      "\u001b[1;1mget\u001b[0m(\u001b[1;32mok\u001b[0m): /data/ds000114/derivatives/freesurfer/sub-01/surf/lh.avg_curv (\u001b[1;35mfile\u001b[0m)\n",
      "\u001b[1;1mget\u001b[0m(\u001b[1;32mok\u001b[0m): /data/ds000114/derivatives/freesurfer/sub-01/surf/lh.curv (\u001b[1;35mfile\u001b[0m)\n",
      "\u001b[1;1mget\u001b[0m(\u001b[1;32mok\u001b[0m): /data/ds000114/derivatives/freesurfer/sub-01/surf/lh.curv.pial (\u001b[1;35mfile\u001b[0m)\n",
      "\u001b[1;1mget\u001b[0m(\u001b[1;32mok\u001b[0m): /data/ds000114/derivatives/freesurfer/sub-01/surf/lh.defect_borders (\u001b[1;35mfile\u001b[0m)\n",
      "\u001b[1;1mget\u001b[0m(\u001b[1;32mok\u001b[0m): /data/ds000114/derivatives/freesurfer/sub-01/surf/lh.defect_chull (\u001b[1;35mfile\u001b[0m)\n",
      "\u001b[1;1mget\u001b[0m(\u001b[1;32mok\u001b[0m): /data/ds000114/derivatives/freesurfer/sub-01/surf/lh.defect_labels (\u001b[1;35mfile\u001b[0m)\n",
      "\u001b[1;1mget\u001b[0m(\u001b[1;32mok\u001b[0m): /data/ds000114/derivatives/freesurfer/sub-01/surf/lh.inflated (\u001b[1;35mfile\u001b[0m)\n",
      "\u001b[1;1mget\u001b[0m(\u001b[1;32mok\u001b[0m): /data/ds000114/derivatives/freesurfer/sub-01/surf/lh.inflated.h (\u001b[1;35mfile\u001b[0m)\n",
      "\u001b[1;1mget\u001b[0m(\u001b[1;32mok\u001b[0m): /data/ds000114/derivatives/freesurfer/sub-01/surf/lh.inflated.k (\u001b[1;35mfile\u001b[0m)\n",
      "\u001b[1;1mget\u001b[0m(\u001b[1;32mok\u001b[0m): /data/ds000114/derivatives/freesurfer/sub-01/surf/lh.jacobian_white (\u001b[1;35mfile\u001b[0m)\n",
      "\u001b[1;1mget\u001b[0m(\u001b[1;32mok\u001b[0m): /data/ds000114/derivatives/freesurfer/sub-01/surf/lh.inflated.nofix (\u001b[1;35mfile\u001b[0m)\n",
      "\u001b[1;1mget\u001b[0m(\u001b[1;32mok\u001b[0m): /data/ds000114/derivatives/freesurfer/sub-01/surf/lh.midthickness (\u001b[1;35mfile\u001b[0m)\n",
      "\u001b[1;1mget\u001b[0m(\u001b[1;32mok\u001b[0m): /data/ds000114/derivatives/freesurfer/sub-01/surf/lh.orig (\u001b[1;35mfile\u001b[0m)\n",
      "\u001b[1;1mget\u001b[0m(\u001b[1;32mok\u001b[0m): /data/ds000114/derivatives/freesurfer/sub-01/surf/lh.orig.nofix (\u001b[1;35mfile\u001b[0m)\n",
      "\u001b[1;1mget\u001b[0m(\u001b[1;32mok\u001b[0m): /data/ds000114/derivatives/freesurfer/sub-01/surf/lh.pial (\u001b[1;35mfile\u001b[0m)\n",
      "\u001b[1;1mget\u001b[0m(\u001b[1;32mok\u001b[0m): /data/ds000114/derivatives/freesurfer/sub-01/surf/lh.qsphere.nofix (\u001b[1;35mfile\u001b[0m)\n",
      "\u001b[1;1mget\u001b[0m(\u001b[1;32mok\u001b[0m): /data/ds000114/derivatives/freesurfer/sub-01/surf/lh.smoothwm (\u001b[1;35mfile\u001b[0m)\n",
      "\u001b[1;1mget\u001b[0m(\u001b[1;32mok\u001b[0m): /data/ds000114/derivatives/freesurfer/sub-01/surf/lh.smoothwm.be.crv (\u001b[1;35mfile\u001b[0m)\n",
      "\u001b[1;1mget\u001b[0m(\u001b[1;32mok\u001b[0m): /data/ds000114/derivatives/freesurfer/sub-01/surf/lh.smoothwm.c.crv (\u001b[1;35mfile\u001b[0m)\n",
      "\u001b[1;1mget\u001b[0m(\u001b[1;32mok\u001b[0m): /data/ds000114/derivatives/freesurfer/sub-01/surf/lh.smoothwm.fi.crv (\u001b[1;35mfile\u001b[0m)\n",
      "\u001b[1;1mget\u001b[0m(\u001b[1;32mok\u001b[0m): /data/ds000114/derivatives/freesurfer/sub-01/surf/lh.smoothwm.h.crv (\u001b[1;35mfile\u001b[0m)\n",
      "\u001b[1;1mget\u001b[0m(\u001b[1;32mok\u001b[0m): /data/ds000114/derivatives/freesurfer/sub-01/surf/lh.smoothwm.k.crv (\u001b[1;35mfile\u001b[0m)\n",
      "\u001b[1;1mget\u001b[0m(\u001b[1;32mok\u001b[0m): /data/ds000114/derivatives/freesurfer/sub-01/surf/lh.smoothwm.k1.crv (\u001b[1;35mfile\u001b[0m)\n",
      "\u001b[1;1mget\u001b[0m(\u001b[1;32mok\u001b[0m): /data/ds000114/derivatives/freesurfer/sub-01/surf/lh.smoothwm.k2.crv (\u001b[1;35mfile\u001b[0m)\n",
      "\u001b[1;1mget\u001b[0m(\u001b[1;32mok\u001b[0m): /data/ds000114/derivatives/freesurfer/sub-01/surf/lh.smoothwm.s.crv (\u001b[1;35mfile\u001b[0m)\n",
      "\u001b[1;1mget\u001b[0m(\u001b[1;32mok\u001b[0m): /data/ds000114/derivatives/freesurfer/sub-01/surf/lh.smoothwm.nofix (\u001b[1;35mfile\u001b[0m)\n",
      "\u001b[1;1mget\u001b[0m(\u001b[1;32mok\u001b[0m): /data/ds000114/derivatives/freesurfer/sub-01/surf/lh.sphere (\u001b[1;35mfile\u001b[0m)\n",
      "\u001b[1;1mget\u001b[0m(\u001b[1;32mok\u001b[0m): /data/ds000114/derivatives/freesurfer/sub-01/surf/lh.sphere.reg (\u001b[1;35mfile\u001b[0m)\n",
      "\u001b[1;1mget\u001b[0m(\u001b[1;32mok\u001b[0m): /data/ds000114/derivatives/freesurfer/sub-01/surf/lh.thickness (\u001b[1;35mfile\u001b[0m)\n",
      "\u001b[1;1mget\u001b[0m(\u001b[1;32mok\u001b[0m): /data/ds000114/derivatives/freesurfer/sub-01/surf/lh.sulc (\u001b[1;35mfile\u001b[0m)\n",
      "\u001b[1;1mget\u001b[0m(\u001b[1;32mok\u001b[0m): /data/ds000114/derivatives/freesurfer/sub-01/surf/lh.volume (\u001b[1;35mfile\u001b[0m)\n",
      "\u001b[1;1mget\u001b[0m(\u001b[1;32mok\u001b[0m): /data/ds000114/derivatives/freesurfer/sub-01/surf/lh.w-g.pct.mgh (\u001b[1;35mfile\u001b[0m)\n",
      "\u001b[1;1mget\u001b[0m(\u001b[1;32mok\u001b[0m): /data/ds000114/derivatives/freesurfer/sub-01/surf/lh.white.h (\u001b[1;35mfile\u001b[0m)\n",
      "\u001b[1;1mget\u001b[0m(\u001b[1;32mok\u001b[0m): /data/ds000114/derivatives/freesurfer/sub-01/surf/lh.white (\u001b[1;35mfile\u001b[0m)\n",
      "\u001b[1;1mget\u001b[0m(\u001b[1;32mok\u001b[0m): /data/ds000114/derivatives/freesurfer/sub-01/surf/lh.white.k (\u001b[1;35mfile\u001b[0m)\n",
      "\u001b[1;1mget\u001b[0m(\u001b[1;32mok\u001b[0m): /data/ds000114/derivatives/freesurfer/sub-01/surf/lh.white.preaparc (\u001b[1;35mfile\u001b[0m)\n",
      "\u001b[1;1mget\u001b[0m(\u001b[1;32mok\u001b[0m): /data/ds000114/derivatives/freesurfer/sub-01/surf/rh.area (\u001b[1;35mfile\u001b[0m)\n",
      "\u001b[1;1mget\u001b[0m(\u001b[1;32mok\u001b[0m): /data/ds000114/derivatives/freesurfer/sub-01/surf/rh.area.mid (\u001b[1;35mfile\u001b[0m)\n",
      "\u001b[1;1mget\u001b[0m(\u001b[1;32mok\u001b[0m): /data/ds000114/derivatives/freesurfer/sub-01/surf/rh.area.pial (\u001b[1;35mfile\u001b[0m)\n",
      "\u001b[1;1mget\u001b[0m(\u001b[1;32mok\u001b[0m): /data/ds000114/derivatives/freesurfer/sub-01/surf/rh.avg_curv (\u001b[1;35mfile\u001b[0m)\n",
      "\u001b[1;1mget\u001b[0m(\u001b[1;32mok\u001b[0m): /data/ds000114/derivatives/freesurfer/sub-01/surf/rh.curv (\u001b[1;35mfile\u001b[0m)\n",
      "\u001b[1;1mget\u001b[0m(\u001b[1;32mok\u001b[0m): /data/ds000114/derivatives/freesurfer/sub-01/surf/rh.curv.pial (\u001b[1;35mfile\u001b[0m)\n",
      "\u001b[1;1mget\u001b[0m(\u001b[1;32mok\u001b[0m): /data/ds000114/derivatives/freesurfer/sub-01/surf/rh.defect_borders (\u001b[1;35mfile\u001b[0m)\n",
      "\u001b[1;1mget\u001b[0m(\u001b[1;32mok\u001b[0m): /data/ds000114/derivatives/freesurfer/sub-01/surf/rh.defect_chull (\u001b[1;35mfile\u001b[0m)\n",
      "\u001b[1;1mget\u001b[0m(\u001b[1;32mok\u001b[0m): /data/ds000114/derivatives/freesurfer/sub-01/surf/rh.defect_labels (\u001b[1;35mfile\u001b[0m)\n",
      "\u001b[1;1mget\u001b[0m(\u001b[1;32mok\u001b[0m): /data/ds000114/derivatives/freesurfer/sub-01/surf/rh.inflated (\u001b[1;35mfile\u001b[0m)\n",
      "\u001b[1;1mget\u001b[0m(\u001b[1;32mok\u001b[0m): /data/ds000114/derivatives/freesurfer/sub-01/surf/rh.inflated.h (\u001b[1;35mfile\u001b[0m)\n",
      "\u001b[1;1mget\u001b[0m(\u001b[1;32mok\u001b[0m): /data/ds000114/derivatives/freesurfer/sub-01/surf/rh.inflated.k (\u001b[1;35mfile\u001b[0m)\n",
      "\u001b[1;1mget\u001b[0m(\u001b[1;32mok\u001b[0m): /data/ds000114/derivatives/freesurfer/sub-01/surf/rh.inflated.nofix (\u001b[1;35mfile\u001b[0m)\n",
      "\u001b[1;1mget\u001b[0m(\u001b[1;32mok\u001b[0m): /data/ds000114/derivatives/freesurfer/sub-01/surf/rh.jacobian_white (\u001b[1;35mfile\u001b[0m)\n",
      "\u001b[1;1mget\u001b[0m(\u001b[1;32mok\u001b[0m): /data/ds000114/derivatives/freesurfer/sub-01/surf/rh.midthickness (\u001b[1;35mfile\u001b[0m)\n",
      "\u001b[1;1mget\u001b[0m(\u001b[1;32mok\u001b[0m): /data/ds000114/derivatives/freesurfer/sub-01/surf/rh.orig (\u001b[1;35mfile\u001b[0m)\n",
      "\u001b[1;1mget\u001b[0m(\u001b[1;32mok\u001b[0m): /data/ds000114/derivatives/freesurfer/sub-01/surf/rh.orig.nofix (\u001b[1;35mfile\u001b[0m)\n",
      "\u001b[1;1mget\u001b[0m(\u001b[1;32mok\u001b[0m): /data/ds000114/derivatives/freesurfer/sub-01/surf/rh.pial (\u001b[1;35mfile\u001b[0m)\n",
      "\u001b[1;1mget\u001b[0m(\u001b[1;32mok\u001b[0m): /data/ds000114/derivatives/freesurfer/sub-01/surf/rh.smoothwm (\u001b[1;35mfile\u001b[0m)\n",
      "\u001b[1;1mget\u001b[0m(\u001b[1;32mok\u001b[0m): /data/ds000114/derivatives/freesurfer/sub-01/surf/rh.qsphere.nofix (\u001b[1;35mfile\u001b[0m)\n",
      "\u001b[1;1mget\u001b[0m(\u001b[1;32mok\u001b[0m): /data/ds000114/derivatives/freesurfer/sub-01/surf/rh.smoothwm.c.crv (\u001b[1;35mfile\u001b[0m)\n",
      "\u001b[1;1mget\u001b[0m(\u001b[1;32mok\u001b[0m): /data/ds000114/derivatives/freesurfer/sub-01/surf/rh.smoothwm.be.crv (\u001b[1;35mfile\u001b[0m)\n",
      "\u001b[1;1mget\u001b[0m(\u001b[1;32mok\u001b[0m): /data/ds000114/derivatives/freesurfer/sub-01/surf/rh.smoothwm.h.crv (\u001b[1;35mfile\u001b[0m)\n",
      "\u001b[1;1mget\u001b[0m(\u001b[1;32mok\u001b[0m): /data/ds000114/derivatives/freesurfer/sub-01/surf/rh.smoothwm.fi.crv (\u001b[1;35mfile\u001b[0m)\n",
      "\u001b[1;1mget\u001b[0m(\u001b[1;32mok\u001b[0m): /data/ds000114/derivatives/freesurfer/sub-01/surf/rh.smoothwm.k.crv (\u001b[1;35mfile\u001b[0m)\n",
      "\u001b[1;1mget\u001b[0m(\u001b[1;32mok\u001b[0m): /data/ds000114/derivatives/freesurfer/sub-01/surf/rh.smoothwm.k1.crv (\u001b[1;35mfile\u001b[0m)\n",
      "\u001b[1;1mget\u001b[0m(\u001b[1;32mok\u001b[0m): /data/ds000114/derivatives/freesurfer/sub-01/surf/rh.smoothwm.k2.crv (\u001b[1;35mfile\u001b[0m)\n",
      "\u001b[1;1mget\u001b[0m(\u001b[1;32mok\u001b[0m): /data/ds000114/derivatives/freesurfer/sub-01/surf/rh.smoothwm.nofix (\u001b[1;35mfile\u001b[0m)\n",
      "\u001b[1;1mget\u001b[0m(\u001b[1;32mok\u001b[0m): /data/ds000114/derivatives/freesurfer/sub-01/surf/rh.smoothwm.s.crv (\u001b[1;35mfile\u001b[0m)\n",
      "\u001b[1;1mget\u001b[0m(\u001b[1;32mok\u001b[0m): /data/ds000114/derivatives/freesurfer/sub-01/surf/rh.sphere (\u001b[1;35mfile\u001b[0m)\n",
      "\u001b[1;1mget\u001b[0m(\u001b[1;32mok\u001b[0m): /data/ds000114/derivatives/freesurfer/sub-01/surf/rh.sphere.reg (\u001b[1;35mfile\u001b[0m)\n",
      "\u001b[1;1mget\u001b[0m(\u001b[1;32mok\u001b[0m): /data/ds000114/derivatives/freesurfer/sub-01/surf/rh.sulc (\u001b[1;35mfile\u001b[0m)\n",
      "\u001b[1;1mget\u001b[0m(\u001b[1;32mok\u001b[0m): /data/ds000114/derivatives/freesurfer/sub-01/surf/rh.thickness (\u001b[1;35mfile\u001b[0m)\n",
      "\u001b[1;1mget\u001b[0m(\u001b[1;32mok\u001b[0m): /data/ds000114/derivatives/freesurfer/sub-01/surf/rh.w-g.pct.mgh (\u001b[1;35mfile\u001b[0m)\n",
      "\u001b[1;1mget\u001b[0m(\u001b[1;32mok\u001b[0m): /data/ds000114/derivatives/freesurfer/sub-01/surf/rh.volume (\u001b[1;35mfile\u001b[0m)\n",
      "\u001b[1;1mget\u001b[0m(\u001b[1;32mok\u001b[0m): /data/ds000114/derivatives/freesurfer/sub-01/surf/rh.white.h (\u001b[1;35mfile\u001b[0m)\n",
      "\u001b[1;1mget\u001b[0m(\u001b[1;32mok\u001b[0m): /data/ds000114/derivatives/freesurfer/sub-01/surf/rh.white (\u001b[1;35mfile\u001b[0m)\n",
      "\u001b[1;1mget\u001b[0m(\u001b[1;32mok\u001b[0m): /data/ds000114/derivatives/freesurfer/sub-01/surf/rh.white.k (\u001b[1;35mfile\u001b[0m)\n",
      "\u001b[1;1mget\u001b[0m(\u001b[1;32mok\u001b[0m): /data/ds000114/derivatives/freesurfer/sub-01/surf/rh.white.preaparc (\u001b[1;35mfile\u001b[0m)\n",
      "\u001b[1;1mget\u001b[0m(\u001b[1;32mok\u001b[0m): /data/ds000114/derivatives/freesurfer/sub-01/touch/aparc.a2009s2aseg.touch (\u001b[1;35mfile\u001b[0m)\n",
      "\u001b[1;1mget\u001b[0m(\u001b[1;32mok\u001b[0m): /data/ds000114/derivatives/freesurfer/sub-01/touch/aparc.dktatlas2aseg.touch (\u001b[1;35mfile\u001b[0m)\n",
      "\u001b[1;1mget\u001b[0m(\u001b[1;32mok\u001b[0m): /data/ds000114/derivatives/freesurfer/sub-01/touch/apas2aseg.touch (\u001b[1;35mfile\u001b[0m)\n",
      "\u001b[1;1mget\u001b[0m(\u001b[1;32mok\u001b[0m): /data/ds000114/derivatives/freesurfer/sub-01/touch/asegmerge.touch (\u001b[1;35mfile\u001b[0m)\n",
      "\u001b[1;1mget\u001b[0m(\u001b[1;32mok\u001b[0m): /data/ds000114/derivatives/freesurfer/sub-01/touch/ca_label.touch (\u001b[1;35mfile\u001b[0m)\n",
      "\u001b[1;1mget\u001b[0m(\u001b[1;32mok\u001b[0m): /data/ds000114/derivatives/freesurfer/sub-01/touch/ca_normalize.touch (\u001b[1;35mfile\u001b[0m)\n",
      "\u001b[1;1mget\u001b[0m(\u001b[1;32mok\u001b[0m): /data/ds000114/derivatives/freesurfer/sub-01/touch/ca_register.touch (\u001b[1;35mfile\u001b[0m)\n",
      "\u001b[1;1mget\u001b[0m(\u001b[1;32mok\u001b[0m): /data/ds000114/derivatives/freesurfer/sub-01/touch/conform.touch (\u001b[1;35mfile\u001b[0m)\n",
      "\u001b[1;1mget\u001b[0m(\u001b[1;32mok\u001b[0m): /data/ds000114/derivatives/freesurfer/sub-01/touch/cortical_ribbon.touch (\u001b[1;35mfile\u001b[0m)\n",
      "\u001b[1;1mget\u001b[0m(\u001b[1;32mok\u001b[0m): /data/ds000114/derivatives/freesurfer/sub-01/touch/em_register.touch (\u001b[1;35mfile\u001b[0m)\n",
      "\u001b[1;1mget\u001b[0m(\u001b[1;32mok\u001b[0m): /data/ds000114/derivatives/freesurfer/sub-01/touch/fill.touch (\u001b[1;35mfile\u001b[0m)\n",
      "\u001b[1;1mget\u001b[0m(\u001b[1;32mok\u001b[0m): /data/ds000114/derivatives/freesurfer/sub-01/touch/inorm1.touch (\u001b[1;35mfile\u001b[0m)\n",
      "\u001b[1;1mget\u001b[0m(\u001b[1;32mok\u001b[0m): /data/ds000114/derivatives/freesurfer/sub-01/touch/inorm2.touch (\u001b[1;35mfile\u001b[0m)\n",
      "\u001b[1;1mget\u001b[0m(\u001b[1;32mok\u001b[0m): /data/ds000114/derivatives/freesurfer/sub-01/touch/lh.aparc.touch (\u001b[1;35mfile\u001b[0m)\n",
      "\u001b[1;1mget\u001b[0m(\u001b[1;32mok\u001b[0m): /data/ds000114/derivatives/freesurfer/sub-01/touch/lh.aparc2.touch (\u001b[1;35mfile\u001b[0m)\n",
      "\u001b[1;1mget\u001b[0m(\u001b[1;32mok\u001b[0m): /data/ds000114/derivatives/freesurfer/sub-01/touch/lh.aparcstats2.touch (\u001b[1;35mfile\u001b[0m)\n",
      "\u001b[1;1mget\u001b[0m(\u001b[1;32mok\u001b[0m): /data/ds000114/derivatives/freesurfer/sub-01/touch/lh.aparcstats.touch (\u001b[1;35mfile\u001b[0m)\n",
      "\u001b[1;1mget\u001b[0m(\u001b[1;32mok\u001b[0m): /data/ds000114/derivatives/freesurfer/sub-01/touch/lh.aparcstats3.touch (\u001b[1;35mfile\u001b[0m)\n",
      "\u001b[1;1mget\u001b[0m(\u001b[1;32mok\u001b[0m): /data/ds000114/derivatives/freesurfer/sub-01/touch/lh.avgcurv.touch (\u001b[1;35mfile\u001b[0m)\n",
      "\u001b[1;1mget\u001b[0m(\u001b[1;32mok\u001b[0m): /data/ds000114/derivatives/freesurfer/sub-01/touch/lh.curvstats.touch (\u001b[1;35mfile\u001b[0m)\n",
      "\u001b[1;1mget\u001b[0m(\u001b[1;32mok\u001b[0m): /data/ds000114/derivatives/freesurfer/sub-01/touch/lh.final_surfaces.touch (\u001b[1;35mfile\u001b[0m)\n",
      "\u001b[1;1mget\u001b[0m(\u001b[1;32mok\u001b[0m): /data/ds000114/derivatives/freesurfer/sub-01/touch/lh.inflate.h.k.touch (\u001b[1;35mfile\u001b[0m)\n",
      "\u001b[1;1mget\u001b[0m(\u001b[1;32mok\u001b[0m): /data/ds000114/derivatives/freesurfer/sub-01/touch/lh.inflate1.touch (\u001b[1;35mfile\u001b[0m)\n",
      "\u001b[1;1mget\u001b[0m(\u001b[1;32mok\u001b[0m): /data/ds000114/derivatives/freesurfer/sub-01/touch/lh.inflate2.touch (\u001b[1;35mfile\u001b[0m)\n",
      "\u001b[1;1mget\u001b[0m(\u001b[1;32mok\u001b[0m): /data/ds000114/derivatives/freesurfer/sub-01/touch/lh.jacobian_white.touch (\u001b[1;35mfile\u001b[0m)\n",
      "\u001b[1;1mget\u001b[0m(\u001b[1;32mok\u001b[0m): /data/ds000114/derivatives/freesurfer/sub-01/touch/lh.pctsurfcon.touch (\u001b[1;35mfile\u001b[0m)\n",
      "\u001b[1;1mget\u001b[0m(\u001b[1;32mok\u001b[0m): /data/ds000114/derivatives/freesurfer/sub-01/touch/lh.qsphere.touch (\u001b[1;35mfile\u001b[0m)\n",
      "\u001b[1;1mget\u001b[0m(\u001b[1;32mok\u001b[0m): /data/ds000114/derivatives/freesurfer/sub-01/touch/lh.smoothwm1.touch (\u001b[1;35mfile\u001b[0m)\n",
      "\u001b[1;1mget\u001b[0m(\u001b[1;32mok\u001b[0m): /data/ds000114/derivatives/freesurfer/sub-01/touch/lh.smoothwm2.touch (\u001b[1;35mfile\u001b[0m)\n",
      "\u001b[1;1mget\u001b[0m(\u001b[1;32mok\u001b[0m): /data/ds000114/derivatives/freesurfer/sub-01/touch/lh.sphmorph.touch (\u001b[1;35mfile\u001b[0m)\n",
      "\u001b[1;1mget\u001b[0m(\u001b[1;32mok\u001b[0m): /data/ds000114/derivatives/freesurfer/sub-01/touch/lh.sphreg.touch (\u001b[1;35mfile\u001b[0m)\n",
      "\u001b[1;1mget\u001b[0m(\u001b[1;32mok\u001b[0m): /data/ds000114/derivatives/freesurfer/sub-01/touch/lh.surfvolume.touch (\u001b[1;35mfile\u001b[0m)\n",
      "\u001b[1;1mget\u001b[0m(\u001b[1;32mok\u001b[0m): /data/ds000114/derivatives/freesurfer/sub-01/touch/lh.tessellate.touch (\u001b[1;35mfile\u001b[0m)\n",
      "\u001b[1;1mget\u001b[0m(\u001b[1;32mok\u001b[0m): /data/ds000114/derivatives/freesurfer/sub-01/touch/lh.topofix.touch (\u001b[1;35mfile\u001b[0m)\n",
      "\u001b[1;1mget\u001b[0m(\u001b[1;32mok\u001b[0m): /data/ds000114/derivatives/freesurfer/sub-01/touch/lh.white.h.k.touch (\u001b[1;35mfile\u001b[0m)\n",
      "\u001b[1;1mget\u001b[0m(\u001b[1;32mok\u001b[0m): /data/ds000114/derivatives/freesurfer/sub-01/touch/lh.white_surface.touch (\u001b[1;35mfile\u001b[0m)\n",
      "\u001b[1;1mget\u001b[0m(\u001b[1;32mok\u001b[0m): /data/ds000114/derivatives/freesurfer/sub-01/touch/nu.touch (\u001b[1;35mfile\u001b[0m)\n",
      "\u001b[1;1mget\u001b[0m(\u001b[1;32mok\u001b[0m): /data/ds000114/derivatives/freesurfer/sub-01/touch/relabelhypos.touch (\u001b[1;35mfile\u001b[0m)\n",
      "\u001b[1;1mget\u001b[0m(\u001b[1;32mok\u001b[0m): /data/ds000114/derivatives/freesurfer/sub-01/touch/rh.aparc.touch (\u001b[1;35mfile\u001b[0m)\n",
      "\u001b[1;1mget\u001b[0m(\u001b[1;32mok\u001b[0m): /data/ds000114/derivatives/freesurfer/sub-01/touch/rh.aparc2.touch (\u001b[1;35mfile\u001b[0m)\n",
      "\u001b[1;1mget\u001b[0m(\u001b[1;32mok\u001b[0m): /data/ds000114/derivatives/freesurfer/sub-01/touch/rh.aparcstats.touch (\u001b[1;35mfile\u001b[0m)\n",
      "\u001b[1;1mget\u001b[0m(\u001b[1;32mok\u001b[0m): /data/ds000114/derivatives/freesurfer/sub-01/touch/rh.aparcstats2.touch (\u001b[1;35mfile\u001b[0m)\n",
      "\u001b[1;1mget\u001b[0m(\u001b[1;32mok\u001b[0m): /data/ds000114/derivatives/freesurfer/sub-01/touch/rh.aparcstats3.touch (\u001b[1;35mfile\u001b[0m)\n",
      "\u001b[1;1mget\u001b[0m(\u001b[1;32mok\u001b[0m): /data/ds000114/derivatives/freesurfer/sub-01/touch/rh.avgcurv.touch (\u001b[1;35mfile\u001b[0m)\n",
      "\u001b[1;1mget\u001b[0m(\u001b[1;32mok\u001b[0m): /data/ds000114/derivatives/freesurfer/sub-01/touch/rh.curvstats.touch (\u001b[1;35mfile\u001b[0m)\n",
      "\u001b[1;1mget\u001b[0m(\u001b[1;32mok\u001b[0m): /data/ds000114/derivatives/freesurfer/sub-01/touch/rh.final_surfaces.touch (\u001b[1;35mfile\u001b[0m)\n",
      "\u001b[1;1mget\u001b[0m(\u001b[1;32mok\u001b[0m): /data/ds000114/derivatives/freesurfer/sub-01/touch/rh.inflate.h.k.touch (\u001b[1;35mfile\u001b[0m)\n",
      "\u001b[1;1mget\u001b[0m(\u001b[1;32mok\u001b[0m): /data/ds000114/derivatives/freesurfer/sub-01/touch/rh.inflate1.touch (\u001b[1;35mfile\u001b[0m)\n",
      "\u001b[1;1mget\u001b[0m(\u001b[1;32mok\u001b[0m): /data/ds000114/derivatives/freesurfer/sub-01/touch/rh.inflate2.touch (\u001b[1;35mfile\u001b[0m)\n",
      "\u001b[1;1mget\u001b[0m(\u001b[1;32mok\u001b[0m): /data/ds000114/derivatives/freesurfer/sub-01/touch/rh.jacobian_white.touch (\u001b[1;35mfile\u001b[0m)\n",
      "\u001b[1;1mget\u001b[0m(\u001b[1;32mok\u001b[0m): /data/ds000114/derivatives/freesurfer/sub-01/touch/rh.pctsurfcon.touch (\u001b[1;35mfile\u001b[0m)\n",
      "\u001b[1;1mget\u001b[0m(\u001b[1;32mok\u001b[0m): /data/ds000114/derivatives/freesurfer/sub-01/touch/rh.qsphere.touch (\u001b[1;35mfile\u001b[0m)\n",
      "\u001b[1;1mget\u001b[0m(\u001b[1;32mok\u001b[0m): /data/ds000114/derivatives/freesurfer/sub-01/touch/rh.smoothwm1.touch (\u001b[1;35mfile\u001b[0m)\n",
      "\u001b[1;1mget\u001b[0m(\u001b[1;32mok\u001b[0m): /data/ds000114/derivatives/freesurfer/sub-01/touch/rh.smoothwm2.touch (\u001b[1;35mfile\u001b[0m)\n",
      "\u001b[1;1mget\u001b[0m(\u001b[1;32mok\u001b[0m): /data/ds000114/derivatives/freesurfer/sub-01/touch/rh.sphmorph.touch (\u001b[1;35mfile\u001b[0m)\n",
      "\u001b[1;1mget\u001b[0m(\u001b[1;32mok\u001b[0m): /data/ds000114/derivatives/freesurfer/sub-01/touch/rh.sphreg.touch (\u001b[1;35mfile\u001b[0m)\n",
      "\u001b[1;1mget\u001b[0m(\u001b[1;32mok\u001b[0m): /data/ds000114/derivatives/freesurfer/sub-01/touch/rh.surfvolume.touch (\u001b[1;35mfile\u001b[0m)\n",
      "\u001b[1;1mget\u001b[0m(\u001b[1;32mok\u001b[0m): /data/ds000114/derivatives/freesurfer/sub-01/touch/rh.tessellate.touch (\u001b[1;35mfile\u001b[0m)\n",
      "\u001b[1;1mget\u001b[0m(\u001b[1;32mok\u001b[0m): /data/ds000114/derivatives/freesurfer/sub-01/touch/rh.topofix.touch (\u001b[1;35mfile\u001b[0m)\n",
      "\u001b[1;1mget\u001b[0m(\u001b[1;32mok\u001b[0m): /data/ds000114/derivatives/freesurfer/sub-01/touch/rh.white.h.k.touch (\u001b[1;35mfile\u001b[0m)\n",
      "\u001b[1;1mget\u001b[0m(\u001b[1;32mok\u001b[0m): /data/ds000114/derivatives/freesurfer/sub-01/touch/rh.white_surface.touch (\u001b[1;35mfile\u001b[0m)\n",
      "\u001b[1;1mget\u001b[0m(\u001b[1;32mok\u001b[0m): /data/ds000114/derivatives/freesurfer/sub-01/touch/rusage.mri_ca_register.dat (\u001b[1;35mfile\u001b[0m)\n",
      "\u001b[1;1mget\u001b[0m(\u001b[1;32mok\u001b[0m): /data/ds000114/derivatives/freesurfer/sub-01/touch/rusage.mri_em_register.dat (\u001b[1;35mfile\u001b[0m)\n",
      "\u001b[1;1mget\u001b[0m(\u001b[1;32mok\u001b[0m): /data/ds000114/derivatives/freesurfer/sub-01/touch/rusage.mris_fix_topology.lh.dat (\u001b[1;35mfile\u001b[0m)\n",
      "\u001b[1;1mget\u001b[0m(\u001b[1;32mok\u001b[0m): /data/ds000114/derivatives/freesurfer/sub-01/touch/rusage.mris_fix_topology.rh.dat (\u001b[1;35mfile\u001b[0m)\n",
      "\u001b[1;1mget\u001b[0m(\u001b[1;32mok\u001b[0m): /data/ds000114/derivatives/freesurfer/sub-01/touch/rusage.mris_inflate.lh.dat (\u001b[1;35mfile\u001b[0m)\n",
      "\u001b[1;1mget\u001b[0m(\u001b[1;32mok\u001b[0m): /data/ds000114/derivatives/freesurfer/sub-01/touch/rusage.mris_inflate.rh.dat (\u001b[1;35mfile\u001b[0m)\n",
      "\u001b[1;1mget\u001b[0m(\u001b[1;32mok\u001b[0m): /data/ds000114/derivatives/freesurfer/sub-01/touch/rusage.mris_register.lh.dat (\u001b[1;35mfile\u001b[0m)\n",
      "\u001b[1;1mget\u001b[0m(\u001b[1;32mok\u001b[0m): /data/ds000114/derivatives/freesurfer/sub-01/touch/rusage.mris_register.rh.dat (\u001b[1;35mfile\u001b[0m)\n",
      "\u001b[1;1mget\u001b[0m(\u001b[1;32mok\u001b[0m): /data/ds000114/derivatives/freesurfer/sub-01/touch/rusage.mris_sphere.lh.dat (\u001b[1;35mfile\u001b[0m)\n",
      "\u001b[1;1mget\u001b[0m(\u001b[1;32mok\u001b[0m): /data/ds000114/derivatives/freesurfer/sub-01/touch/rusage.mris_sphere.rh.dat (\u001b[1;35mfile\u001b[0m)\n",
      "\u001b[1;1mget\u001b[0m(\u001b[1;32mok\u001b[0m): /data/ds000114/derivatives/freesurfer/sub-01/touch/segstats.touch (\u001b[1;35mfile\u001b[0m)\n",
      "\u001b[1;1mget\u001b[0m(\u001b[1;32mok\u001b[0m): /data/ds000114/derivatives/freesurfer/sub-01/touch/talairach.touch (\u001b[1;35mfile\u001b[0m)\n",
      "\u001b[1;1mget\u001b[0m(\u001b[1;32mok\u001b[0m): /data/ds000114/derivatives/freesurfer/sub-01/touch/wmaparc.touch (\u001b[1;35mfile\u001b[0m)\n",
      "\u001b[1;1mget\u001b[0m(\u001b[1;32mok\u001b[0m): /data/ds000114/derivatives/freesurfer/sub-01/touch/wmaparc.stats.touch (\u001b[1;35mfile\u001b[0m)\n",
      "\u001b[1;1mget\u001b[0m(\u001b[1;32mok\u001b[0m): /data/ds000114/derivatives/freesurfer/sub-01/touch/wmsegment.touch (\u001b[1;35mfile\u001b[0m)\n",
      "\u001b[1;1mget\u001b[0m(\u001b[1;32mok\u001b[0m): /data/ds000114/derivatives/freesurfer/sub-01/mri/norm.mgz (\u001b[1;35mfile\u001b[0m)\n",
      "\u001b[1;1mget\u001b[0m(\u001b[1;32mok\u001b[0m): /data/ds000114/derivatives/freesurfer/sub-01/mri/orig_nu.mgz (\u001b[1;35mfile\u001b[0m)\n",
      "\u001b[1;1mget\u001b[0m(\u001b[1;32mok\u001b[0m): /data/ds000114/derivatives/freesurfer/sub-01 (\u001b[1;35mdirectory\u001b[0m)\n"
     ]
    },
    {
     "name": "stdout",
     "output_type": "stream",
     "text": [
      "action summary:\r\n",
      "  get (ok: 304)\r\n"
     ]
    }
   ],
   "source": [
    "!datalad get -r -J4 /data/ds000114/derivatives/freesurfer/sub-01/"
   ]
  },
  {
   "cell_type": "markdown",
   "metadata": {},
   "source": [
    "Now, before you can run `FreeSurferSource`, you first have to specify the path to the FreeSurfer output folder, i.e. you have to specify the SUBJECTS_DIR variable. This can be done as follows:"
   ]
  },
  {
   "cell_type": "code",
   "execution_count": 23,
   "metadata": {
    "collapsed": true
   },
   "outputs": [],
   "source": [
    "from nipype.interfaces.freesurfer import FSCommand\n",
    "from os.path import abspath as opap\n",
    "\n",
    "# Path to your freesurfer output folder\n",
    "fs_dir = opap('/data/ds000114/derivatives/freesurfer/')\n",
    "\n",
    "# Set SUBJECTS_DIR\n",
    "FSCommand.set_default_subjects_dir(fs_dir)"
   ]
  },
  {
   "cell_type": "markdown",
   "metadata": {},
   "source": [
    "To create the `FreeSurferSource` node, do as follows:"
   ]
  },
  {
   "cell_type": "code",
   "execution_count": 24,
   "metadata": {
    "collapsed": true
   },
   "outputs": [],
   "source": [
    "from nipype import Node\n",
    "from nipype.interfaces.io import FreeSurferSource\n",
    "\n",
    "# Create FreeSurferSource node\n",
    "fssource = Node(FreeSurferSource(subjects_dir=fs_dir),\n",
    "                name='fssource')"
   ]
  },
  {
   "cell_type": "markdown",
   "metadata": {},
   "source": [
    "Let's now run it for a specific subject."
   ]
  },
  {
   "cell_type": "code",
   "execution_count": 25,
   "metadata": {},
   "outputs": [
    {
     "name": "stdout",
     "output_type": "stream",
     "text": [
      "171029-05:06:35,808 workflow INFO:\n",
      "\t Executing node fssource in dir: /tmp/tmpv1kzx_fv/fssource\n"
     ]
    }
   ],
   "source": [
    "fssource.inputs.subject_id = 'sub-01'\n",
    "result = fssource.run() "
   ]
  },
  {
   "cell_type": "markdown",
   "metadata": {},
   "source": [
    "Did it work? Let's try to access multiple FreeSurfer outputs:"
   ]
  },
  {
   "cell_type": "code",
   "execution_count": 26,
   "metadata": {},
   "outputs": [
    {
     "name": "stdout",
     "output_type": "stream",
     "text": [
      "aparc_aseg: ['/data/ds000114/derivatives/freesurfer/sub-01/mri/aparc+aseg.mgz', '/data/ds000114/derivatives/freesurfer/sub-01/mri/aparc.a2009s+aseg.mgz', '/data/ds000114/derivatives/freesurfer/sub-01/mri/aparc.dktatlas+aseg.mgz']\n",
      "\n",
      "brainmask: /data/ds000114/derivatives/freesurfer/sub-01/mri/brainmask.mgz\n",
      "\n",
      "inflated: ['/data/ds000114/derivatives/freesurfer/sub-01/surf/lh.inflated', '/data/ds000114/derivatives/freesurfer/sub-01/surf/rh.inflated']\n",
      "\n"
     ]
    }
   ],
   "source": [
    "print('aparc_aseg: %s\\n' % result.outputs.aparc_aseg)\n",
    "print('brainmask: %s\\n' % result.outputs.brainmask)\n",
    "print('inflated: %s\\n' % result.outputs.inflated)"
   ]
  },
  {
   "cell_type": "markdown",
   "metadata": {},
   "source": [
    "It seems to be working as it should. But as you can see, the `inflated` output actually contains the file location for both hemispheres. With `FreeSurferSource` we can also restrict the file selection to a single hemisphere. To do this, we use the `hemi` input filed:"
   ]
  },
  {
   "cell_type": "code",
   "execution_count": 27,
   "metadata": {},
   "outputs": [
    {
     "name": "stdout",
     "output_type": "stream",
     "text": [
      "171029-05:08:41,787 workflow INFO:\n",
      "\t Executing node fssource in dir: /tmp/tmpv1kzx_fv/fssource\n"
     ]
    }
   ],
   "source": [
    "fssource.inputs.hemi = 'lh'\n",
    "result = fssource.run()"
   ]
  },
  {
   "cell_type": "markdown",
   "metadata": {},
   "source": [
    "Let's take a look again at the `inflated` output."
   ]
  },
  {
   "cell_type": "code",
   "execution_count": 28,
   "metadata": {},
   "outputs": [
    {
     "data": {
      "text/plain": [
       "'/data/ds000114/derivatives/freesurfer/sub-01/surf/lh.inflated'"
      ]
     },
     "execution_count": 28,
     "metadata": {},
     "output_type": "execute_result"
    }
   ],
   "source": [
    "result.outputs.inflated"
   ]
  },
  {
   "cell_type": "markdown",
   "metadata": {},
   "source": [
    "Perfect!"
   ]
  }
 ],
 "metadata": {
  "anaconda-cloud": {},
  "kernelspec": {
   "display_name": "Python 3",
   "language": "python",
   "name": "python3"
  },
  "language_info": {
   "codemirror_mode": {
    "name": "ipython",
    "version": 3
   },
   "file_extension": ".py",
   "mimetype": "text/x-python",
   "name": "python",
   "nbconvert_exporter": "python",
   "pygments_lexer": "ipython3",
   "version": "3.6.2"
  }
 },
 "nbformat": 4,
 "nbformat_minor": 2
}
