{
 "cells": [
  {
   "cell_type": "code",
   "execution_count": 26,
   "metadata": {
    "collapsed": true
   },
   "outputs": [],
   "source": [
    "from email.mime.text import MIMEText\n",
    "import base64\n",
    "# import binascii\n",
    "def create_message(sender, to, subject, message_text):\n",
    "  \"\"\"Create a message for an email.\n",
    "\n",
    "  Args:\n",
    "    sender: Email address of the sender.\n",
    "    to: Email address of the receiver.\n",
    "    subject: The subject of the email message.\n",
    "    message_text: The text of the email message.\n",
    "\n",
    "  Returns:\n",
    "    An object containing a base64url encoded email object.\n",
    "  \"\"\"\n",
    "  message = MIMEText(message_text)\n",
    "  message['to'] = to\n",
    "  message['from'] = sender\n",
    "  message['subject'] = subject \n",
    "  # encode turns the str into a byte object using the default utf-8 encoding\n",
    "  bin_message = message.as_string().encode()\n",
    "  return {'raw': base64.urlsafe_b64encode(bin_message)}"
   ]
  },
  {
   "cell_type": "code",
   "execution_count": null,
   "metadata": {
    "collapsed": true
   },
   "outputs": [],
   "source": [
    "d = create_message(\"jlatmann@gmail.com\",\"mannalytics@gmail.com\",\"test subject\",\"test message\")"
   ]
  },
  {
   "cell_type": "code",
   "execution_count": null,
   "metadata": {
    "collapsed": true
   },
   "outputs": [],
   "source": [
    "base64.urlsafe_b64decode(d['raw'])"
   ]
  },
  {
   "cell_type": "code",
   "execution_count": null,
   "metadata": {
    "collapsed": true
   },
   "outputs": [],
   "source": [
    "def send_message(service, user_id, message):\n",
    "  \"\"\"Send an email message.\n",
    "\n",
    "  Args:\n",
    "    service: Authorized Gmail API service instance.\n",
    "    user_id: User's email address. The special value \"me\"\n",
    "    can be used to indicate the authenticated user.\n",
    "    message: Message to be sent.\n",
    "\n",
    "  Returns:\n",
    "    Sent Message.\n",
    "  \"\"\"\n",
    "  try:\n",
    "    message = (service.users().messages().send(userId=user_id, body=message)\n",
    "               .execute())\n",
    "    print ('Message Id: %s' % message['id'])\n",
    "    return message\n",
    "  except (errors.HttpError, error):\n",
    "    print ('An error occurred: %s' % error)"
   ]
  },
  {
   "cell_type": "code",
   "execution_count": 27,
   "metadata": {},
   "outputs": [
    {
     "name": "stdout",
     "output_type": "stream",
     "text": [
      "Congratulations! You've fired the niIsDone event"
     ]
    }
   ],
   "source": [
    "!curl -X POST https://maker.ifttt.com/trigger/niIsDone/with/key/dd2OAjS_ovHueomtzbDHCk"
   ]
  },
  {
   "cell_type": "code",
   "execution_count": null,
   "metadata": {
    "collapsed": true
   },
   "outputs": [],
   "source": [
    "import requests\n",
    "\n",
    "def send_event(api_key, event, value1=None, value2=None, value3=None):\n",
    "    \"\"\"Send an event to the IFTTT maker channel\n",
    "    Parameters:\n",
    "    -----------\n",
    "    api_key : string\n",
    "        Your IFTTT API key\n",
    "    event : string\n",
    "        The name of the IFTTT event to trigger\n",
    "    value1 :\n",
    "        Optional: Extra data sent with the event (default: None)\n",
    "    value2 :\n",
    "        Optional: Extra data sent with the event (default: None)\n",
    "    value3 :\n",
    "        Optional: Extra data sent with the event (default: None)\n",
    "    \"\"\"\n",
    "\n",
    "    url = 'https://maker.ifttt.com/trigger/{e}/with/key/{k}/'.format(e=event,\n",
    "                                                                     k=api_key)\n",
    "    payload = {'value1': value1, 'value2': value2, 'value3': value3}\n",
    "    return requests.post(url, data=payload)"
   ]
  },
  {
   "cell_type": "code",
   "execution_count": null,
   "metadata": {
    "collapsed": true
   },
   "outputs": [],
   "source": [
    "send_event(\"dd2OAjS_ovHueomtzbDHCk\",\"niIsDone\",\"and that's important\",\" to \",\" me \")"
   ]
  },
  {
   "cell_type": "markdown",
   "metadata": {},
   "source": [
    "\\alpha \\beta \\gamma \\delta \\epsilon \\phi \\lambda \\nu \\upsilon \\rho \\zeta \\xi \\tau \\mu \\theta \\varphi \\sigma \\psi \\nabla\n",
    "$$\\underset{\\mathbf{w}}{\\operatorname{argmin}}L(\\mathbf{X}^T\\mathbf{w},\\mathbf{y}),\n",
    "\\alpha \\beta \\gamma \\delta \\epsilon \\phi \\lambda \\nu \\upsilon \\rho \\zeta \\xi \\tau \\mu \\theta \\varphi \\sigma \\psi \\Delta \\nabla$$"
   ]
  },
  {
   "cell_type": "code",
   "execution_count": 45,
   "metadata": {
    "collapsed": true
   },
   "outputs": [
    {
     "data": {
      "text/plain": [
       "'\\\\alpha'"
      ]
     },
     "metadata": {},
     "output_type": "display_data"
    },
    {
     "data": {
      "text/markdown": [
       "$\\alpha$"
      ],
      "text/plain": [
       "<IPython.core.display.Markdown object>"
      ]
     },
     "metadata": {},
     "output_type": "display_data"
    },
    {
     "data": {
      "text/plain": [
       "'\\\\beta'"
      ]
     },
     "metadata": {},
     "output_type": "display_data"
    },
    {
     "data": {
      "text/markdown": [
       "$\\beta$"
      ],
      "text/plain": [
       "<IPython.core.display.Markdown object>"
      ]
     },
     "metadata": {},
     "output_type": "display_data"
    },
    {
     "data": {
      "text/plain": [
       "'\\\\gamma'"
      ]
     },
     "metadata": {},
     "output_type": "display_data"
    },
    {
     "data": {
      "text/markdown": [
       "$\\gamma$"
      ],
      "text/plain": [
       "<IPython.core.display.Markdown object>"
      ]
     },
     "metadata": {},
     "output_type": "display_data"
    },
    {
     "data": {
      "text/plain": [
       "'\\\\delta'"
      ]
     },
     "metadata": {},
     "output_type": "display_data"
    },
    {
     "data": {
      "text/markdown": [
       "$\\delta$"
      ],
      "text/plain": [
       "<IPython.core.display.Markdown object>"
      ]
     },
     "metadata": {},
     "output_type": "display_data"
    },
    {
     "data": {
      "text/plain": [
       "'\\\\epsilon'"
      ]
     },
     "metadata": {},
     "output_type": "display_data"
    },
    {
     "data": {
      "text/markdown": [
       "$\\epsilon$"
      ],
      "text/plain": [
       "<IPython.core.display.Markdown object>"
      ]
     },
     "metadata": {},
     "output_type": "display_data"
    },
    {
     "data": {
      "text/plain": [
       "'\\\\phi'"
      ]
     },
     "metadata": {},
     "output_type": "display_data"
    },
    {
     "data": {
      "text/markdown": [
       "$\\phi$"
      ],
      "text/plain": [
       "<IPython.core.display.Markdown object>"
      ]
     },
     "metadata": {},
     "output_type": "display_data"
    },
    {
     "data": {
      "text/plain": [
       "'\\\\lambda'"
      ]
     },
     "metadata": {},
     "output_type": "display_data"
    },
    {
     "data": {
      "text/markdown": [
       "$\\lambda$"
      ],
      "text/plain": [
       "<IPython.core.display.Markdown object>"
      ]
     },
     "metadata": {},
     "output_type": "display_data"
    },
    {
     "data": {
      "text/plain": [
       "'\\\\nu'"
      ]
     },
     "metadata": {},
     "output_type": "display_data"
    },
    {
     "data": {
      "text/markdown": [
       "$\\nu$"
      ],
      "text/plain": [
       "<IPython.core.display.Markdown object>"
      ]
     },
     "metadata": {},
     "output_type": "display_data"
    },
    {
     "data": {
      "text/plain": [
       "'\\\\upsilon'"
      ]
     },
     "metadata": {},
     "output_type": "display_data"
    },
    {
     "data": {
      "text/markdown": [
       "$\\upsilon$"
      ],
      "text/plain": [
       "<IPython.core.display.Markdown object>"
      ]
     },
     "metadata": {},
     "output_type": "display_data"
    },
    {
     "data": {
      "text/plain": [
       "'\\\\rho'"
      ]
     },
     "metadata": {},
     "output_type": "display_data"
    },
    {
     "data": {
      "text/markdown": [
       "$\\rho$"
      ],
      "text/plain": [
       "<IPython.core.display.Markdown object>"
      ]
     },
     "metadata": {},
     "output_type": "display_data"
    },
    {
     "data": {
      "text/plain": [
       "'\\\\zeta'"
      ]
     },
     "metadata": {},
     "output_type": "display_data"
    },
    {
     "data": {
      "text/markdown": [
       "$\\zeta$"
      ],
      "text/plain": [
       "<IPython.core.display.Markdown object>"
      ]
     },
     "metadata": {},
     "output_type": "display_data"
    },
    {
     "data": {
      "text/plain": [
       "'\\\\xi'"
      ]
     },
     "metadata": {},
     "output_type": "display_data"
    },
    {
     "data": {
      "text/markdown": [
       "$\\xi$"
      ],
      "text/plain": [
       "<IPython.core.display.Markdown object>"
      ]
     },
     "metadata": {},
     "output_type": "display_data"
    },
    {
     "data": {
      "text/plain": [
       "'\\\\tau'"
      ]
     },
     "metadata": {},
     "output_type": "display_data"
    },
    {
     "data": {
      "text/markdown": [
       "$\\tau$"
      ],
      "text/plain": [
       "<IPython.core.display.Markdown object>"
      ]
     },
     "metadata": {},
     "output_type": "display_data"
    },
    {
     "data": {
      "text/plain": [
       "'\\\\mu'"
      ]
     },
     "metadata": {},
     "output_type": "display_data"
    },
    {
     "data": {
      "text/markdown": [
       "$\\mu$"
      ],
      "text/plain": [
       "<IPython.core.display.Markdown object>"
      ]
     },
     "metadata": {},
     "output_type": "display_data"
    },
    {
     "data": {
      "text/plain": [
       "'\\\\theta'"
      ]
     },
     "metadata": {},
     "output_type": "display_data"
    },
    {
     "data": {
      "text/markdown": [
       "$\\theta$"
      ],
      "text/plain": [
       "<IPython.core.display.Markdown object>"
      ]
     },
     "metadata": {},
     "output_type": "display_data"
    },
    {
     "data": {
      "text/plain": [
       "'\\\\varphi'"
      ]
     },
     "metadata": {},
     "output_type": "display_data"
    },
    {
     "data": {
      "text/markdown": [
       "$\\varphi$"
      ],
      "text/plain": [
       "<IPython.core.display.Markdown object>"
      ]
     },
     "metadata": {},
     "output_type": "display_data"
    },
    {
     "data": {
      "text/plain": [
       "'\\\\sigma'"
      ]
     },
     "metadata": {},
     "output_type": "display_data"
    },
    {
     "data": {
      "text/markdown": [
       "$\\sigma$"
      ],
      "text/plain": [
       "<IPython.core.display.Markdown object>"
      ]
     },
     "metadata": {},
     "output_type": "display_data"
    },
    {
     "data": {
      "text/plain": [
       "'\\\\psi'"
      ]
     },
     "metadata": {},
     "output_type": "display_data"
    },
    {
     "data": {
      "text/markdown": [
       "$\\psi$"
      ],
      "text/plain": [
       "<IPython.core.display.Markdown object>"
      ]
     },
     "metadata": {},
     "output_type": "display_data"
    },
    {
     "data": {
      "text/plain": [
       "'\\\\nabla'"
      ]
     },
     "metadata": {},
     "output_type": "display_data"
    },
    {
     "data": {
      "text/markdown": [
       "$\\nabla$"
      ],
      "text/plain": [
       "<IPython.core.display.Markdown object>"
      ]
     },
     "metadata": {},
     "output_type": "display_data"
    }
   ],
   "source": [
    "from IPython.display import display, Markdown\n",
    "for gl in r\"\\alpha \\beta \\gamma \\delta \\epsilon \\phi \\lambda \\nu \\upsilon \\rho \\zeta \\xi \\tau \\mu \\theta \\varphi \\sigma \\psi \\nabla\".split():\n",
    "    display(gl,Markdown(\"$%s$\"%gl))"
   ]
  },
  {
   "cell_type": "code",
   "execution_count": 34,
   "metadata": {},
   "outputs": [
    {
     "name": "stdout",
     "output_type": "stream",
     "text": [
      "<IPython.core.display.HTML object>\n"
     ]
    }
   ],
   "source": [
    "import IPython\n",
    "print(IPython.display.HTML(\"what\"))"
   ]
  },
  {
   "cell_type": "code",
   "execution_count": 2,
   "metadata": {
    "collapsed": true
   },
   "outputs": [],
   "source": [
    "import niwidgets"
   ]
  },
  {
   "cell_type": "code",
   "execution_count": 4,
   "metadata": {
    "collapsed": true
   },
   "outputs": [],
   "source": [
    "import nilearn\n"
   ]
  },
  {
   "cell_type": "code",
   "execution_count": 5,
   "metadata": {},
   "outputs": [
    {
     "name": "stderr",
     "output_type": "stream",
     "text": [
      "[Parallel(n_jobs=1)]: Done   3 out of   3 | elapsed:    0.5s finished\n"
     ]
    },
    {
     "name": "stdout",
     "output_type": "stream",
     "text": [
      "[GroupSparseCovarianceCV.fit] [GroupSparseCovarianceCV] Done refinement  1 out of 4\n"
     ]
    },
    {
     "name": "stderr",
     "output_type": "stream",
     "text": [
      "[Parallel(n_jobs=1)]: Done   3 out of   3 | elapsed:    0.5s finished\n"
     ]
    },
    {
     "name": "stdout",
     "output_type": "stream",
     "text": [
      "[GroupSparseCovarianceCV.fit] [GroupSparseCovarianceCV] Done refinement  2 out of 4\n"
     ]
    },
    {
     "name": "stderr",
     "output_type": "stream",
     "text": [
      "[Parallel(n_jobs=1)]: Done   3 out of   3 | elapsed:    0.5s finished\n"
     ]
    },
    {
     "name": "stdout",
     "output_type": "stream",
     "text": [
      "[GroupSparseCovarianceCV.fit] [GroupSparseCovarianceCV] Done refinement  3 out of 4\n"
     ]
    },
    {
     "name": "stderr",
     "output_type": "stream",
     "text": [
      "[Parallel(n_jobs=1)]: Done   3 out of   3 | elapsed:    0.4s finished\n",
      "/opt/conda/envs/neuro/lib/python3.6/site-packages/nilearn/connectome/group_sparse_cov.py:245: UserWarning: input signals do not all have unit variance. This can lead to numerical instability.\n",
      "  warnings.warn(\"input signals do not all have unit variance. This \"\n"
     ]
    },
    {
     "name": "stdout",
     "output_type": "stream",
     "text": [
      "[GroupSparseCovarianceCV.fit] [GroupSparseCovarianceCV] Done refinement  4 out of 4\n",
      "[GroupSparseCovarianceCV.fit] Final optimization\n"
     ]
    },
    {
     "name": "stderr",
     "output_type": "stream",
     "text": [
      "[Parallel(n_jobs=1)]: Done   3 out of   3 | elapsed:    0.1s finished\n",
      "[Parallel(n_jobs=1)]: Done   3 out of   3 | elapsed:    0.0s finished\n",
      "[Parallel(n_jobs=1)]: Done   3 out of   3 | elapsed:    0.0s finished\n",
      "[Parallel(n_jobs=1)]: Done   3 out of   3 | elapsed:    0.0s finished\n"
     ]
    },
    {
     "name": "stdout",
     "output_type": "stream",
     "text": [
      "[GraphLassoCV] Done refinement  1 out of 4:   0s\n",
      "[GraphLassoCV] Done refinement  2 out of 4:   0s\n",
      "[GraphLassoCV] Done refinement  3 out of 4:   0s\n",
      "[GraphLassoCV] Done refinement  4 out of 4:   0s\n"
     ]
    },
    {
     "name": "stderr",
     "output_type": "stream",
     "text": [
      "[Parallel(n_jobs=1)]: Done   3 out of   3 | elapsed:    0.1s finished\n",
      "[Parallel(n_jobs=1)]: Done   3 out of   3 | elapsed:    0.1s finished\n",
      "[Parallel(n_jobs=1)]: Done   3 out of   3 | elapsed:    0.0s finished\n",
      "[Parallel(n_jobs=1)]: Done   3 out of   3 | elapsed:    0.0s finished\n"
     ]
    },
    {
     "name": "stdout",
     "output_type": "stream",
     "text": [
      "[GraphLassoCV] Done refinement  1 out of 4:   0s\n",
      "[GraphLassoCV] Done refinement  2 out of 4:   0s\n",
      "[GraphLassoCV] Done refinement  3 out of 4:   0s\n",
      "[GraphLassoCV] Done refinement  4 out of 4:   0s\n"
     ]
    },
    {
     "name": "stderr",
     "output_type": "stream",
     "text": [
      "[Parallel(n_jobs=1)]: Done   3 out of   3 | elapsed:    0.1s finished\n",
      "[Parallel(n_jobs=1)]: Done   3 out of   3 | elapsed:    0.0s finished\n",
      "[Parallel(n_jobs=1)]: Done   3 out of   3 | elapsed:    0.1s finished\n",
      "[Parallel(n_jobs=1)]: Done   3 out of   3 | elapsed:    0.0s finished\n"
     ]
    },
    {
     "name": "stdout",
     "output_type": "stream",
     "text": [
      "[GraphLassoCV] Done refinement  1 out of 4:   0s\n",
      "[GraphLassoCV] Done refinement  2 out of 4:   0s\n",
      "[GraphLassoCV] Done refinement  3 out of 4:   0s\n",
      "[GraphLassoCV] Done refinement  4 out of 4:   0s\n"
     ]
    },
    {
     "name": "stderr",
     "output_type": "stream",
     "text": [
      "[Parallel(n_jobs=1)]: Done   3 out of   3 | elapsed:    0.0s finished\n",
      "[Parallel(n_jobs=1)]: Done   3 out of   3 | elapsed:    0.0s finished\n",
      "[Parallel(n_jobs=1)]: Done   3 out of   3 | elapsed:    0.0s finished\n",
      "[Parallel(n_jobs=1)]: Done   3 out of   3 | elapsed:    0.0s finished\n"
     ]
    },
    {
     "name": "stdout",
     "output_type": "stream",
     "text": [
      "[GraphLassoCV] Done refinement  1 out of 4:   0s\n",
      "[GraphLassoCV] Done refinement  2 out of 4:   0s\n",
      "[GraphLassoCV] Done refinement  3 out of 4:   0s\n",
      "[GraphLassoCV] Done refinement  4 out of 4:   0s\n"
     ]
    },
    {
     "data": {
      "image/png": "[encoded data removed]",
      "text/plain": [
       "<matplotlib.figure.Figure at 0x7febc9e126a0>"
      ]
     },
     "metadata": {},
     "output_type": "display_data"
    }
   ],
   "source": [
    "import matplotlib.pyplot as plt\n",
    "\n",
    "\n",
    "def plot_matrix(m, ylabel=\"\"):\n",
    "    abs_max = abs(m).max()\n",
    "    plt.imshow(m, cmap=plt.cm.RdBu_r, interpolation=\"nearest\",\n",
    "               vmin=-abs_max, vmax=abs_max)\n",
    "\n",
    "\n",
    "# Generate synthetic data\n",
    "from nilearn._utils.testing import generate_group_sparse_gaussian_graphs\n",
    "\n",
    "n_subjects = 20  # number of subjects\n",
    "n_displayed = 3  # number of subjects displayed\n",
    "subjects, precisions, topology = generate_group_sparse_gaussian_graphs(\n",
    "    n_subjects=n_subjects, n_features=10, min_n_samples=30, max_n_samples=50,\n",
    "    density=0.1)\n",
    "\n",
    "fig = plt.figure(figsize=(10, 7))\n",
    "plt.subplots_adjust(hspace=0.4)\n",
    "for n in range(n_displayed):\n",
    "    plt.subplot(n_displayed, 4, 4 * n + 1)\n",
    "    plot_matrix(precisions[n])\n",
    "    if n == 0:\n",
    "        plt.title(\"ground truth\")\n",
    "    plt.ylabel(\"subject %d\" % n)\n",
    "\n",
    "\n",
    "# Run group-sparse covariance on all subjects\n",
    "from nilearn.connectome import GroupSparseCovarianceCV\n",
    "gsc = GroupSparseCovarianceCV(max_iter=50, verbose=1)\n",
    "gsc.fit(subjects)\n",
    "\n",
    "for n in range(n_displayed):\n",
    "    plt.subplot(n_displayed, 4, 4 * n + 2)\n",
    "    plot_matrix(gsc.precisions_[..., n])\n",
    "    if n == 0:\n",
    "        plt.title(\"group-sparse\\n$\\\\alpha=%.2f$\" % gsc.alpha_)\n",
    "\n",
    "\n",
    "# Fit one graph lasso per subject\n",
    "from sklearn.covariance import GraphLassoCV\n",
    "gl = GraphLassoCV(verbose=1)\n",
    "\n",
    "for n, subject in enumerate(subjects[:n_displayed]):\n",
    "    gl.fit(subject)\n",
    "\n",
    "    plt.subplot(n_displayed, 4, 4 * n + 3)\n",
    "    plot_matrix(gl.precision_)\n",
    "    if n == 0:\n",
    "        plt.title(\"graph lasso\")\n",
    "    plt.ylabel(\"$\\\\alpha=%.2f$\" % gl.alpha_)\n",
    "\n",
    "\n",
    "# Fit one graph lasso for all subjects at once\n",
    "import numpy as np\n",
    "gl.fit(np.concatenate(subjects))\n",
    "\n",
    "plt.subplot(n_displayed, 4, 4)\n",
    "plot_matrix(gl.precision_)\n",
    "plt.title(\"graph lasso, all subjects\\n$\\\\alpha=%.2f$\" % gl.alpha_)\n",
    "\n",
    "plt.show()"
   ]
  },
  {
   "cell_type": "code",
   "execution_count": 54,
   "metadata": {
    "collapsed": true
   },
   "outputs": [],
   "source": [
    "# verifying that nose is installed, otherwise not necessary. (not installed with docker image)\n",
    "import nose"
   ]
  },
  {
   "cell_type": "code",
   "execution_count": 2,
   "metadata": {
    "collapsed": true
   },
   "outputs": [],
   "source": [
    "import sys"
   ]
  },
  {
   "cell_type": "code",
   "execution_count": 3,
   "metadata": {},
   "outputs": [
    {
     "data": {
      "text/plain": [
       "['',\n",
       " '/opt/conda/envs/neuro/lib/python36.zip',\n",
       " '/opt/conda/envs/neuro/lib/python3.6',\n",
       " '/opt/conda/envs/neuro/lib/python3.6/lib-dynload',\n",
       " '/opt/conda/envs/neuro/lib/python3.6/site-packages',\n",
       " '/opt/conda/envs/neuro/lib/python3.6/site-packages/cycler-0.10.0-py3.6.egg',\n",
       " '/opt/conda/envs/neuro/lib/python3.6/site-packages/IPython/extensions',\n",
       " '/home/neuro/.ipython']"
      ]
     },
     "execution_count": 3,
     "metadata": {},
     "output_type": "execute_result"
    }
   ],
   "source": [
    "sys.path"
   ]
  },
  {
   "cell_type": "code",
   "execution_count": 81,
   "metadata": {},
   "outputs": [
    {
     "data": {
      "text/plain": [
       "(10, 11, 12, 17)"
      ]
     },
     "execution_count": 81,
     "metadata": {},
     "output_type": "execute_result"
    }
   ],
   "source": [
    "from nilearn._utils.testing import generate_fake_fmri\n",
    "im1,mask1 = generate_fake_fmri()\n",
    "im1.shape, mask1.shape\n",
    "nx, ny, nz, nt = im1.shape\n",
    "nx, ny, nz, nt"
   ]
  },
  {
   "cell_type": "code",
   "execution_count": 88,
   "metadata": {},
   "outputs": [
    {
     "data": {
      "image/png": "[encoded data removed]",
      "text/plain": [
       "<matplotlib.figure.Figure at 0x7febc5957f98>"
      ]
     },
     "metadata": {},
     "output_type": "display_data"
    }
   ],
   "source": [
    "# why does mask vary with time?? it doesn't.\n",
    "fig = plt.figure(figsize=(20, 17))\n",
    "\n",
    "for ts in range(nt):\n",
    "    for zs in range(nz):\n",
    "        plt.subplot(nt, nz, ts*nz + zs + 1)\n",
    "        fig_s = plt.imshow(im1.get_data()[:,:,zs,ts], cmap='Greys_r')\n",
    "        fig_s.axes.set_xticks([])\n",
    "        fig_s.axes.set_yticks([])\n",
    "#     plt.imshow(im1.get_data()[...,i], cmap='Greys_r')\n",
    "#     show()"
   ]
  },
  {
   "cell_type": "code",
   "execution_count": 103,
   "metadata": {},
   "outputs": [
    {
     "data": {
      "text/plain": [
       "(12,)"
      ]
     },
     "execution_count": 103,
     "metadata": {},
     "output_type": "execute_result"
    }
   ],
   "source": [
    "im1.dataobj.mean(axis=(0,1,3)).shape"
   ]
  },
  {
   "cell_type": "code",
   "execution_count": 112,
   "metadata": {},
   "outputs": [
    {
     "data": {
      "text/plain": [
       "array([[   0.,    0.,    0.,    0.,    0.,    0.,    0.,    0.,    0.,\n",
       "           0.,    0.],\n",
       "       [   0.,    0.,    0.,    0.,    0.,    0.,    0.,    0.,    0.,\n",
       "           0.,    0.],\n",
       "       [   0.,    0.,  185.,  168.,  113.,   69.,   96.,    0.,    0.,\n",
       "           0.,    0.],\n",
       "       [   0.,    0.,   89.,   32.,   28.,  120.,  125.,    0.,    0.,\n",
       "           0.,    0.],\n",
       "       [   0.,    0.,  118.,  224.,   72.,  171.,  100.,    0.,    0.,\n",
       "           0.,    0.],\n",
       "       [   0.,    0.,  208.,  231.,  115.,    5.,  249.,    0.,    0.,\n",
       "           0.,    0.],\n",
       "       [   0.,    0.,  175.,  103.,  128.,  222.,   45.,    0.,    0.,\n",
       "           0.,    0.],\n",
       "       [   0.,    0.,    0.,    0.,    0.,    0.,    0.,    0.,    0.,\n",
       "           0.,    0.],\n",
       "       [   0.,    0.,    0.,    0.,    0.,    0.,    0.,    0.,    0.,\n",
       "           0.,    0.],\n",
       "       [   0.,    0.,    0.,    0.,    0.,    0.,    0.,    0.,    0.,\n",
       "           0.,    0.]])"
      ]
     },
     "execution_count": 112,
     "metadata": {},
     "output_type": "execute_result"
    }
   ],
   "source": [
    "im1.dataobj[:,:, 5, 0]"
   ]
  },
  {
   "cell_type": "code",
   "execution_count": 111,
   "metadata": {
    "collapsed": true
   },
   "outputs": [],
   "source": [
    "def normalize_j(a):\n",
    "    m = a.flatten().mean()\n",
    "    return (a - m)/ m"
   ]
  },
  {
   "cell_type": "code",
   "execution_count": 114,
   "metadata": {
    "collapsed": true
   },
   "outputs": [],
   "source": [
    "def demean_over_time(a):\n",
    "    m = a.mean(axis=(0,1,2))\n",
    "    return (a - m)"
   ]
  },
  {
   "cell_type": "code",
   "execution_count": 115,
   "metadata": {},
   "outputs": [
    {
     "data": {
      "text/plain": [
       "14.528921568627451"
      ]
     },
     "execution_count": 115,
     "metadata": {},
     "output_type": "execute_result"
    }
   ],
   "source": [
    "a = im1.dataobj\n",
    "a.mean()"
   ]
  },
  {
   "cell_type": "code",
   "execution_count": 124,
   "metadata": {},
   "outputs": [
    {
     "data": {
      "text/plain": [
       "array([ 2. ,  2.4,  2.8,  3.2,  3.6,  4. ,  4.4,  4.8])"
      ]
     },
     "execution_count": 124,
     "metadata": {},
     "output_type": "execute_result"
    }
   ],
   "source": [
    "np.arange(2, 5, 0.4)"
   ]
  },
  {
   "cell_type": "code",
   "execution_count": 127,
   "metadata": {},
   "outputs": [
    {
     "data": {
      "text/plain": [
       "array([ 2.        ,  2.15789474,  2.31578947,  2.47368421,  2.63157895,\n",
       "        2.78947368,  2.94736842,  3.10526316,  3.26315789,  3.42105263,\n",
       "        3.57894737,  3.73684211,  3.89473684,  4.05263158,  4.21052632,\n",
       "        4.36842105,  4.52631579,  4.68421053,  4.84210526,  5.        ])"
      ]
     },
     "execution_count": 127,
     "metadata": {},
     "output_type": "execute_result"
    }
   ],
   "source": [
    "np.linspace(2, 5, 20)"
   ]
  },
  {
   "cell_type": "code",
   "execution_count": 128,
   "metadata": {},
   "outputs": [
    {
     "data": {
      "text/plain": [
       "array([[[  43.        ,  195.        ,  -86.22222222,   65.77777778],\n",
       "        [  63.        ,   30.        ,  -66.22222222,  -99.22222222],\n",
       "        [ 184.        ,   31.        ,   54.77777778,  -98.22222222]],\n",
       "\n",
       "       [[ 124.        ,  122.        ,   -5.22222222,   -7.22222222],\n",
       "        [ 172.        ,   10.        ,   42.77777778, -119.22222222],\n",
       "        [ 225.        ,  233.        ,   95.77777778,  103.77777778]],\n",
       "\n",
       "       [[  24.        ,  106.        , -105.22222222,  -23.22222222],\n",
       "        [ 175.        ,  193.        ,   45.77777778,   63.77777778],\n",
       "        [ 226.        ,  170.        ,   96.77777778,   40.77777778]]])"
      ]
     },
     "execution_count": 128,
     "metadata": {},
     "output_type": "execute_result"
    }
   ],
   "source": [
    "np.c_[a[2:5,2:5,3:5,0], demean_over_time(a[2:5,2:5,3:5,0])]"
   ]
  },
  {
   "cell_type": "code",
   "execution_count": 129,
   "metadata": {},
   "outputs": [
    {
     "data": {
      "text/plain": [
       "array([[[  43.        ,  195.        ],\n",
       "        [  63.        ,   30.        ],\n",
       "        [ 184.        ,   31.        ]],\n",
       "\n",
       "       [[ 124.        ,  122.        ],\n",
       "        [ 172.        ,   10.        ],\n",
       "        [ 225.        ,  233.        ]],\n",
       "\n",
       "       [[  24.        ,  106.        ],\n",
       "        [ 175.        ,  193.        ],\n",
       "        [ 226.        ,  170.        ]],\n",
       "\n",
       "       [[ -86.22222222,   65.77777778],\n",
       "        [ -66.22222222,  -99.22222222],\n",
       "        [  54.77777778,  -98.22222222]],\n",
       "\n",
       "       [[  -5.22222222,   -7.22222222],\n",
       "        [  42.77777778, -119.22222222],\n",
       "        [  95.77777778,  103.77777778]],\n",
       "\n",
       "       [[-105.22222222,  -23.22222222],\n",
       "        [  45.77777778,   63.77777778],\n",
       "        [  96.77777778,   40.77777778]]])"
      ]
     },
     "execution_count": 129,
     "metadata": {},
     "output_type": "execute_result"
    }
   ],
   "source": [
    "np.r_[a[2:5,2:5,3:5,0], demean_over_time(a[2:5,2:5,3:5,0])]"
   ]
  },
  {
   "cell_type": "code",
   "execution_count": 134,
   "metadata": {},
   "outputs": [
    {
     "data": {
      "text/plain": [
       "array([[ -97.66666667, -131.66666667],\n",
       "       [ 133.33333333,  -22.66666667],\n",
       "       [  37.33333333,   81.33333333]])"
      ]
     },
     "execution_count": 134,
     "metadata": {},
     "output_type": "execute_result"
    }
   ],
   "source": [
    "a_d = demean_over_time(a[2:5,2:5,3:5,0])\n",
    "a_d.sum(axis=1)"
   ]
  },
  {
   "cell_type": "code",
   "execution_count": 116,
   "metadata": {},
   "outputs": [
    {
     "data": {
      "text/plain": [
       "array([[[[-14.77575758, -13.75757576, -15.10075758, ..., -14.18560606,\n",
       "          -15.19621212, -15.47878788],\n",
       "         [-14.77575758, -13.75757576, -15.10075758, ..., -14.18560606,\n",
       "          -15.19621212, -15.47878788],\n",
       "         [-14.77575758, -13.75757576, -15.10075758, ..., -14.18560606,\n",
       "          -15.19621212, -15.47878788],\n",
       "         ..., \n",
       "         [-14.77575758, -13.75757576, -15.10075758, ..., -14.18560606,\n",
       "          -15.19621212, -15.47878788],\n",
       "         [-14.77575758, -13.75757576, -15.10075758, ..., -14.18560606,\n",
       "          -15.19621212, -15.47878788],\n",
       "         [-14.77575758, -13.75757576, -15.10075758, ..., -14.18560606,\n",
       "          -15.19621212, -15.47878788]],\n",
       "\n",
       "        [[-14.77575758, -13.75757576, -15.10075758, ..., -14.18560606,\n",
       "          -15.19621212, -15.47878788],\n",
       "         [-14.77575758, -13.75757576, -15.10075758, ..., -14.18560606,\n",
       "          -15.19621212, -15.47878788],\n",
       "         [-14.77575758, -13.75757576, -15.10075758, ..., -14.18560606,\n",
       "          -15.19621212, -15.47878788],\n",
       "         ..., \n",
       "         [-14.77575758, -13.75757576, -15.10075758, ..., -14.18560606,\n",
       "          -15.19621212, -15.47878788],\n",
       "         [-14.77575758, -13.75757576, -15.10075758, ..., -14.18560606,\n",
       "          -15.19621212, -15.47878788],\n",
       "         [-14.77575758, -13.75757576, -15.10075758, ..., -14.18560606,\n",
       "          -15.19621212, -15.47878788]],\n",
       "\n",
       "        [[-14.77575758, -13.75757576, -15.10075758, ..., -14.18560606,\n",
       "          -15.19621212, -15.47878788],\n",
       "         [-14.77575758, -13.75757576, -15.10075758, ..., -14.18560606,\n",
       "          -15.19621212, -15.47878788],\n",
       "         [-14.77575758, -13.75757576, -15.10075758, ..., -14.18560606,\n",
       "          -15.19621212, -15.47878788],\n",
       "         ..., \n",
       "         [-14.77575758, -13.75757576, -15.10075758, ..., -14.18560606,\n",
       "          -15.19621212, -15.47878788],\n",
       "         [-14.77575758, -13.75757576, -15.10075758, ..., -14.18560606,\n",
       "          -15.19621212, -15.47878788],\n",
       "         [-14.77575758, -13.75757576, -15.10075758, ..., -14.18560606,\n",
       "          -15.19621212, -15.47878788]],\n",
       "\n",
       "        ..., \n",
       "        [[-14.77575758, -13.75757576, -15.10075758, ..., -14.18560606,\n",
       "          -15.19621212, -15.47878788],\n",
       "         [-14.77575758, -13.75757576, -15.10075758, ..., -14.18560606,\n",
       "          -15.19621212, -15.47878788],\n",
       "         [-14.77575758, -13.75757576, -15.10075758, ..., -14.18560606,\n",
       "          -15.19621212, -15.47878788],\n",
       "         ..., \n",
       "         [-14.77575758, -13.75757576, -15.10075758, ..., -14.18560606,\n",
       "          -15.19621212, -15.47878788],\n",
       "         [-14.77575758, -13.75757576, -15.10075758, ..., -14.18560606,\n",
       "          -15.19621212, -15.47878788],\n",
       "         [-14.77575758, -13.75757576, -15.10075758, ..., -14.18560606,\n",
       "          -15.19621212, -15.47878788]],\n",
       "\n",
       "        [[-14.77575758, -13.75757576, -15.10075758, ..., -14.18560606,\n",
       "          -15.19621212, -15.47878788],\n",
       "         [-14.77575758, -13.75757576, -15.10075758, ..., -14.18560606,\n",
       "          -15.19621212, -15.47878788],\n",
       "         [-14.77575758, -13.75757576, -15.10075758, ..., -14.18560606,\n",
       "          -15.19621212, -15.47878788],\n",
       "         ..., \n",
       "         [-14.77575758, -13.75757576, -15.10075758, ..., -14.18560606,\n",
       "          -15.19621212, -15.47878788],\n",
       "         [-14.77575758, -13.75757576, -15.10075758, ..., -14.18560606,\n",
       "          -15.19621212, -15.47878788],\n",
       "         [-14.77575758, -13.75757576, -15.10075758, ..., -14.18560606,\n",
       "          -15.19621212, -15.47878788]],\n",
       "\n",
       "        [[-14.77575758, -13.75757576, -15.10075758, ..., -14.18560606,\n",
       "          -15.19621212, -15.47878788],\n",
       "         [-14.77575758, -13.75757576, -15.10075758, ..., -14.18560606,\n",
       "          -15.19621212, -15.47878788],\n",
       "         [-14.77575758, -13.75757576, -15.10075758, ..., -14.18560606,\n",
       "          -15.19621212, -15.47878788],\n",
       "         ..., \n",
       "         [-14.77575758, -13.75757576, -15.10075758, ..., -14.18560606,\n",
       "          -15.19621212, -15.47878788],\n",
       "         [-14.77575758, -13.75757576, -15.10075758, ..., -14.18560606,\n",
       "          -15.19621212, -15.47878788],\n",
       "         [-14.77575758, -13.75757576, -15.10075758, ..., -14.18560606,\n",
       "          -15.19621212, -15.47878788]]],\n",
       "\n",
       "\n",
       "       [[[-14.77575758, -13.75757576, -15.10075758, ..., -14.18560606,\n",
       "          -15.19621212, -15.47878788],\n",
       "         [-14.77575758, -13.75757576, -15.10075758, ..., -14.18560606,\n",
       "          -15.19621212, -15.47878788],\n",
       "         [-14.77575758, -13.75757576, -15.10075758, ..., -14.18560606,\n",
       "          -15.19621212, -15.47878788],\n",
       "         ..., \n",
       "         [-14.77575758, -13.75757576, -15.10075758, ..., -14.18560606,\n",
       "          -15.19621212, -15.47878788],\n",
       "         [-14.77575758, -13.75757576, -15.10075758, ..., -14.18560606,\n",
       "          -15.19621212, -15.47878788],\n",
       "         [-14.77575758, -13.75757576, -15.10075758, ..., -14.18560606,\n",
       "          -15.19621212, -15.47878788]],\n",
       "\n",
       "        [[-14.77575758, -13.75757576, -15.10075758, ..., -14.18560606,\n",
       "          -15.19621212, -15.47878788],\n",
       "         [-14.77575758, -13.75757576, -15.10075758, ..., -14.18560606,\n",
       "          -15.19621212, -15.47878788],\n",
       "         [-14.77575758, -13.75757576, -15.10075758, ..., -14.18560606,\n",
       "          -15.19621212, -15.47878788],\n",
       "         ..., \n",
       "         [-14.77575758, -13.75757576, -15.10075758, ..., -14.18560606,\n",
       "          -15.19621212, -15.47878788],\n",
       "         [-14.77575758, -13.75757576, -15.10075758, ..., -14.18560606,\n",
       "          -15.19621212, -15.47878788],\n",
       "         [-14.77575758, -13.75757576, -15.10075758, ..., -14.18560606,\n",
       "          -15.19621212, -15.47878788]],\n",
       "\n",
       "        [[-14.77575758, -13.75757576, -15.10075758, ..., -14.18560606,\n",
       "          -15.19621212, -15.47878788],\n",
       "         [-14.77575758, -13.75757576, -15.10075758, ..., -14.18560606,\n",
       "          -15.19621212, -15.47878788],\n",
       "         [-14.77575758, -13.75757576, -15.10075758, ..., -14.18560606,\n",
       "          -15.19621212, -15.47878788],\n",
       "         ..., \n",
       "         [-14.77575758, -13.75757576, -15.10075758, ..., -14.18560606,\n",
       "          -15.19621212, -15.47878788],\n",
       "         [-14.77575758, -13.75757576, -15.10075758, ..., -14.18560606,\n",
       "          -15.19621212, -15.47878788],\n",
       "         [-14.77575758, -13.75757576, -15.10075758, ..., -14.18560606,\n",
       "          -15.19621212, -15.47878788]],\n",
       "\n",
       "        ..., \n",
       "        [[-14.77575758, -13.75757576, -15.10075758, ..., -14.18560606,\n",
       "          -15.19621212, -15.47878788],\n",
       "         [-14.77575758, -13.75757576, -15.10075758, ..., -14.18560606,\n",
       "          -15.19621212, -15.47878788],\n",
       "         [-14.77575758, -13.75757576, -15.10075758, ..., -14.18560606,\n",
       "          -15.19621212, -15.47878788],\n",
       "         ..., \n",
       "         [-14.77575758, -13.75757576, -15.10075758, ..., -14.18560606,\n",
       "          -15.19621212, -15.47878788],\n",
       "         [-14.77575758, -13.75757576, -15.10075758, ..., -14.18560606,\n",
       "          -15.19621212, -15.47878788],\n",
       "         [-14.77575758, -13.75757576, -15.10075758, ..., -14.18560606,\n",
       "          -15.19621212, -15.47878788]],\n",
       "\n",
       "        [[-14.77575758, -13.75757576, -15.10075758, ..., -14.18560606,\n",
       "          -15.19621212, -15.47878788],\n",
       "         [-14.77575758, -13.75757576, -15.10075758, ..., -14.18560606,\n",
       "          -15.19621212, -15.47878788],\n",
       "         [-14.77575758, -13.75757576, -15.10075758, ..., -14.18560606,\n",
       "          -15.19621212, -15.47878788],\n",
       "         ..., \n",
       "         [-14.77575758, -13.75757576, -15.10075758, ..., -14.18560606,\n",
       "          -15.19621212, -15.47878788],\n",
       "         [-14.77575758, -13.75757576, -15.10075758, ..., -14.18560606,\n",
       "          -15.19621212, -15.47878788],\n",
       "         [-14.77575758, -13.75757576, -15.10075758, ..., -14.18560606,\n",
       "          -15.19621212, -15.47878788]],\n",
       "\n",
       "        [[-14.77575758, -13.75757576, -15.10075758, ..., -14.18560606,\n",
       "          -15.19621212, -15.47878788],\n",
       "         [-14.77575758, -13.75757576, -15.10075758, ..., -14.18560606,\n",
       "          -15.19621212, -15.47878788],\n",
       "         [-14.77575758, -13.75757576, -15.10075758, ..., -14.18560606,\n",
       "          -15.19621212, -15.47878788],\n",
       "         ..., \n",
       "         [-14.77575758, -13.75757576, -15.10075758, ..., -14.18560606,\n",
       "          -15.19621212, -15.47878788],\n",
       "         [-14.77575758, -13.75757576, -15.10075758, ..., -14.18560606,\n",
       "          -15.19621212, -15.47878788],\n",
       "         [-14.77575758, -13.75757576, -15.10075758, ..., -14.18560606,\n",
       "          -15.19621212, -15.47878788]]],\n",
       "\n",
       "\n",
       "       [[[-14.77575758, -13.75757576, -15.10075758, ..., -14.18560606,\n",
       "          -15.19621212, -15.47878788],\n",
       "         [-14.77575758, -13.75757576, -15.10075758, ..., -14.18560606,\n",
       "          -15.19621212, -15.47878788],\n",
       "         [-14.77575758, -13.75757576, -15.10075758, ..., -14.18560606,\n",
       "          -15.19621212, -15.47878788],\n",
       "         ..., \n",
       "         [-14.77575758, -13.75757576, -15.10075758, ..., -14.18560606,\n",
       "          -15.19621212, -15.47878788],\n",
       "         [-14.77575758, -13.75757576, -15.10075758, ..., -14.18560606,\n",
       "          -15.19621212, -15.47878788],\n",
       "         [-14.77575758, -13.75757576, -15.10075758, ..., -14.18560606,\n",
       "          -15.19621212, -15.47878788]],\n",
       "\n",
       "        [[-14.77575758, -13.75757576, -15.10075758, ..., -14.18560606,\n",
       "          -15.19621212, -15.47878788],\n",
       "         [-14.77575758, -13.75757576, -15.10075758, ..., -14.18560606,\n",
       "          -15.19621212, -15.47878788],\n",
       "         [-14.77575758, -13.75757576, -15.10075758, ..., -14.18560606,\n",
       "          -15.19621212, -15.47878788],\n",
       "         ..., \n",
       "         [-14.77575758, -13.75757576, -15.10075758, ..., -14.18560606,\n",
       "          -15.19621212, -15.47878788],\n",
       "         [-14.77575758, -13.75757576, -15.10075758, ..., -14.18560606,\n",
       "          -15.19621212, -15.47878788],\n",
       "         [-14.77575758, -13.75757576, -15.10075758, ..., -14.18560606,\n",
       "          -15.19621212, -15.47878788]],\n",
       "\n",
       "        [[-14.77575758, -13.75757576, -15.10075758, ..., -14.18560606,\n",
       "          -15.19621212, -15.47878788],\n",
       "         [-14.77575758, -13.75757576, -15.10075758, ..., -14.18560606,\n",
       "          -15.19621212, -15.47878788],\n",
       "         [-14.77575758, -13.75757576, -15.10075758, ..., -14.18560606,\n",
       "          -15.19621212, -15.47878788],\n",
       "         ..., \n",
       "         [-14.77575758, -13.75757576, -15.10075758, ..., -14.18560606,\n",
       "          -15.19621212, -15.47878788],\n",
       "         [-14.77575758, -13.75757576, -15.10075758, ..., -14.18560606,\n",
       "          -15.19621212, -15.47878788],\n",
       "         [-14.77575758, -13.75757576, -15.10075758, ..., -14.18560606,\n",
       "          -15.19621212, -15.47878788]],\n",
       "\n",
       "        ..., \n",
       "        [[-14.77575758, -13.75757576, -15.10075758, ..., -14.18560606,\n",
       "          -15.19621212, -15.47878788],\n",
       "         [-14.77575758, -13.75757576, -15.10075758, ..., -14.18560606,\n",
       "          -15.19621212, -15.47878788],\n",
       "         [-14.77575758, -13.75757576, -15.10075758, ..., -14.18560606,\n",
       "          -15.19621212, -15.47878788],\n",
       "         ..., \n",
       "         [-14.77575758, -13.75757576, -15.10075758, ..., -14.18560606,\n",
       "          -15.19621212, -15.47878788],\n",
       "         [-14.77575758, -13.75757576, -15.10075758, ..., -14.18560606,\n",
       "          -15.19621212, -15.47878788],\n",
       "         [-14.77575758, -13.75757576, -15.10075758, ..., -14.18560606,\n",
       "          -15.19621212, -15.47878788]],\n",
       "\n",
       "        [[-14.77575758, -13.75757576, -15.10075758, ..., -14.18560606,\n",
       "          -15.19621212, -15.47878788],\n",
       "         [-14.77575758, -13.75757576, -15.10075758, ..., -14.18560606,\n",
       "          -15.19621212, -15.47878788],\n",
       "         [-14.77575758, -13.75757576, -15.10075758, ..., -14.18560606,\n",
       "          -15.19621212, -15.47878788],\n",
       "         ..., \n",
       "         [-14.77575758, -13.75757576, -15.10075758, ..., -14.18560606,\n",
       "          -15.19621212, -15.47878788],\n",
       "         [-14.77575758, -13.75757576, -15.10075758, ..., -14.18560606,\n",
       "          -15.19621212, -15.47878788],\n",
       "         [-14.77575758, -13.75757576, -15.10075758, ..., -14.18560606,\n",
       "          -15.19621212, -15.47878788]],\n",
       "\n",
       "        [[-14.77575758, -13.75757576, -15.10075758, ..., -14.18560606,\n",
       "          -15.19621212, -15.47878788],\n",
       "         [-14.77575758, -13.75757576, -15.10075758, ..., -14.18560606,\n",
       "          -15.19621212, -15.47878788],\n",
       "         [-14.77575758, -13.75757576, -15.10075758, ..., -14.18560606,\n",
       "          -15.19621212, -15.47878788],\n",
       "         ..., \n",
       "         [-14.77575758, -13.75757576, -15.10075758, ..., -14.18560606,\n",
       "          -15.19621212, -15.47878788],\n",
       "         [-14.77575758, -13.75757576, -15.10075758, ..., -14.18560606,\n",
       "          -15.19621212, -15.47878788],\n",
       "         [-14.77575758, -13.75757576, -15.10075758, ..., -14.18560606,\n",
       "          -15.19621212, -15.47878788]]],\n",
       "\n",
       "\n",
       "       ..., \n",
       "       [[[-14.77575758, -13.75757576, -15.10075758, ..., -14.18560606,\n",
       "          -15.19621212, -15.47878788],\n",
       "         [-14.77575758, -13.75757576, -15.10075758, ..., -14.18560606,\n",
       "          -15.19621212, -15.47878788],\n",
       "         [-14.77575758, -13.75757576, -15.10075758, ..., -14.18560606,\n",
       "          -15.19621212, -15.47878788],\n",
       "         ..., \n",
       "         [-14.77575758, -13.75757576, -15.10075758, ..., -14.18560606,\n",
       "          -15.19621212, -15.47878788],\n",
       "         [-14.77575758, -13.75757576, -15.10075758, ..., -14.18560606,\n",
       "          -15.19621212, -15.47878788],\n",
       "         [-14.77575758, -13.75757576, -15.10075758, ..., -14.18560606,\n",
       "          -15.19621212, -15.47878788]],\n",
       "\n",
       "        [[-14.77575758, -13.75757576, -15.10075758, ..., -14.18560606,\n",
       "          -15.19621212, -15.47878788],\n",
       "         [-14.77575758, -13.75757576, -15.10075758, ..., -14.18560606,\n",
       "          -15.19621212, -15.47878788],\n",
       "         [-14.77575758, -13.75757576, -15.10075758, ..., -14.18560606,\n",
       "          -15.19621212, -15.47878788],\n",
       "         ..., \n",
       "         [-14.77575758, -13.75757576, -15.10075758, ..., -14.18560606,\n",
       "          -15.19621212, -15.47878788],\n",
       "         [-14.77575758, -13.75757576, -15.10075758, ..., -14.18560606,\n",
       "          -15.19621212, -15.47878788],\n",
       "         [-14.77575758, -13.75757576, -15.10075758, ..., -14.18560606,\n",
       "          -15.19621212, -15.47878788]],\n",
       "\n",
       "        [[-14.77575758, -13.75757576, -15.10075758, ..., -14.18560606,\n",
       "          -15.19621212, -15.47878788],\n",
       "         [-14.77575758, -13.75757576, -15.10075758, ..., -14.18560606,\n",
       "          -15.19621212, -15.47878788],\n",
       "         [-14.77575758, -13.75757576, -15.10075758, ..., -14.18560606,\n",
       "          -15.19621212, -15.47878788],\n",
       "         ..., \n",
       "         [-14.77575758, -13.75757576, -15.10075758, ..., -14.18560606,\n",
       "          -15.19621212, -15.47878788],\n",
       "         [-14.77575758, -13.75757576, -15.10075758, ..., -14.18560606,\n",
       "          -15.19621212, -15.47878788],\n",
       "         [-14.77575758, -13.75757576, -15.10075758, ..., -14.18560606,\n",
       "          -15.19621212, -15.47878788]],\n",
       "\n",
       "        ..., \n",
       "        [[-14.77575758, -13.75757576, -15.10075758, ..., -14.18560606,\n",
       "          -15.19621212, -15.47878788],\n",
       "         [-14.77575758, -13.75757576, -15.10075758, ..., -14.18560606,\n",
       "          -15.19621212, -15.47878788],\n",
       "         [-14.77575758, -13.75757576, -15.10075758, ..., -14.18560606,\n",
       "          -15.19621212, -15.47878788],\n",
       "         ..., \n",
       "         [-14.77575758, -13.75757576, -15.10075758, ..., -14.18560606,\n",
       "          -15.19621212, -15.47878788],\n",
       "         [-14.77575758, -13.75757576, -15.10075758, ..., -14.18560606,\n",
       "          -15.19621212, -15.47878788],\n",
       "         [-14.77575758, -13.75757576, -15.10075758, ..., -14.18560606,\n",
       "          -15.19621212, -15.47878788]],\n",
       "\n",
       "        [[-14.77575758, -13.75757576, -15.10075758, ..., -14.18560606,\n",
       "          -15.19621212, -15.47878788],\n",
       "         [-14.77575758, -13.75757576, -15.10075758, ..., -14.18560606,\n",
       "          -15.19621212, -15.47878788],\n",
       "         [-14.77575758, -13.75757576, -15.10075758, ..., -14.18560606,\n",
       "          -15.19621212, -15.47878788],\n",
       "         ..., \n",
       "         [-14.77575758, -13.75757576, -15.10075758, ..., -14.18560606,\n",
       "          -15.19621212, -15.47878788],\n",
       "         [-14.77575758, -13.75757576, -15.10075758, ..., -14.18560606,\n",
       "          -15.19621212, -15.47878788],\n",
       "         [-14.77575758, -13.75757576, -15.10075758, ..., -14.18560606,\n",
       "          -15.19621212, -15.47878788]],\n",
       "\n",
       "        [[-14.77575758, -13.75757576, -15.10075758, ..., -14.18560606,\n",
       "          -15.19621212, -15.47878788],\n",
       "         [-14.77575758, -13.75757576, -15.10075758, ..., -14.18560606,\n",
       "          -15.19621212, -15.47878788],\n",
       "         [-14.77575758, -13.75757576, -15.10075758, ..., -14.18560606,\n",
       "          -15.19621212, -15.47878788],\n",
       "         ..., \n",
       "         [-14.77575758, -13.75757576, -15.10075758, ..., -14.18560606,\n",
       "          -15.19621212, -15.47878788],\n",
       "         [-14.77575758, -13.75757576, -15.10075758, ..., -14.18560606,\n",
       "          -15.19621212, -15.47878788],\n",
       "         [-14.77575758, -13.75757576, -15.10075758, ..., -14.18560606,\n",
       "          -15.19621212, -15.47878788]]],\n",
       "\n",
       "\n",
       "       [[[-14.77575758, -13.75757576, -15.10075758, ..., -14.18560606,\n",
       "          -15.19621212, -15.47878788],\n",
       "         [-14.77575758, -13.75757576, -15.10075758, ..., -14.18560606,\n",
       "          -15.19621212, -15.47878788],\n",
       "         [-14.77575758, -13.75757576, -15.10075758, ..., -14.18560606,\n",
       "          -15.19621212, -15.47878788],\n",
       "         ..., \n",
       "         [-14.77575758, -13.75757576, -15.10075758, ..., -14.18560606,\n",
       "          -15.19621212, -15.47878788],\n",
       "         [-14.77575758, -13.75757576, -15.10075758, ..., -14.18560606,\n",
       "          -15.19621212, -15.47878788],\n",
       "         [-14.77575758, -13.75757576, -15.10075758, ..., -14.18560606,\n",
       "          -15.19621212, -15.47878788]],\n",
       "\n",
       "        [[-14.77575758, -13.75757576, -15.10075758, ..., -14.18560606,\n",
       "          -15.19621212, -15.47878788],\n",
       "         [-14.77575758, -13.75757576, -15.10075758, ..., -14.18560606,\n",
       "          -15.19621212, -15.47878788],\n",
       "         [-14.77575758, -13.75757576, -15.10075758, ..., -14.18560606,\n",
       "          -15.19621212, -15.47878788],\n",
       "         ..., \n",
       "         [-14.77575758, -13.75757576, -15.10075758, ..., -14.18560606,\n",
       "          -15.19621212, -15.47878788],\n",
       "         [-14.77575758, -13.75757576, -15.10075758, ..., -14.18560606,\n",
       "          -15.19621212, -15.47878788],\n",
       "         [-14.77575758, -13.75757576, -15.10075758, ..., -14.18560606,\n",
       "          -15.19621212, -15.47878788]],\n",
       "\n",
       "        [[-14.77575758, -13.75757576, -15.10075758, ..., -14.18560606,\n",
       "          -15.19621212, -15.47878788],\n",
       "         [-14.77575758, -13.75757576, -15.10075758, ..., -14.18560606,\n",
       "          -15.19621212, -15.47878788],\n",
       "         [-14.77575758, -13.75757576, -15.10075758, ..., -14.18560606,\n",
       "          -15.19621212, -15.47878788],\n",
       "         ..., \n",
       "         [-14.77575758, -13.75757576, -15.10075758, ..., -14.18560606,\n",
       "          -15.19621212, -15.47878788],\n",
       "         [-14.77575758, -13.75757576, -15.10075758, ..., -14.18560606,\n",
       "          -15.19621212, -15.47878788],\n",
       "         [-14.77575758, -13.75757576, -15.10075758, ..., -14.18560606,\n",
       "          -15.19621212, -15.47878788]],\n",
       "\n",
       "        ..., \n",
       "        [[-14.77575758, -13.75757576, -15.10075758, ..., -14.18560606,\n",
       "          -15.19621212, -15.47878788],\n",
       "         [-14.77575758, -13.75757576, -15.10075758, ..., -14.18560606,\n",
       "          -15.19621212, -15.47878788],\n",
       "         [-14.77575758, -13.75757576, -15.10075758, ..., -14.18560606,\n",
       "          -15.19621212, -15.47878788],\n",
       "         ..., \n",
       "         [-14.77575758, -13.75757576, -15.10075758, ..., -14.18560606,\n",
       "          -15.19621212, -15.47878788],\n",
       "         [-14.77575758, -13.75757576, -15.10075758, ..., -14.18560606,\n",
       "          -15.19621212, -15.47878788],\n",
       "         [-14.77575758, -13.75757576, -15.10075758, ..., -14.18560606,\n",
       "          -15.19621212, -15.47878788]],\n",
       "\n",
       "        [[-14.77575758, -13.75757576, -15.10075758, ..., -14.18560606,\n",
       "          -15.19621212, -15.47878788],\n",
       "         [-14.77575758, -13.75757576, -15.10075758, ..., -14.18560606,\n",
       "          -15.19621212, -15.47878788],\n",
       "         [-14.77575758, -13.75757576, -15.10075758, ..., -14.18560606,\n",
       "          -15.19621212, -15.47878788],\n",
       "         ..., \n",
       "         [-14.77575758, -13.75757576, -15.10075758, ..., -14.18560606,\n",
       "          -15.19621212, -15.47878788],\n",
       "         [-14.77575758, -13.75757576, -15.10075758, ..., -14.18560606,\n",
       "          -15.19621212, -15.47878788],\n",
       "         [-14.77575758, -13.75757576, -15.10075758, ..., -14.18560606,\n",
       "          -15.19621212, -15.47878788]],\n",
       "\n",
       "        [[-14.77575758, -13.75757576, -15.10075758, ..., -14.18560606,\n",
       "          -15.19621212, -15.47878788],\n",
       "         [-14.77575758, -13.75757576, -15.10075758, ..., -14.18560606,\n",
       "          -15.19621212, -15.47878788],\n",
       "         [-14.77575758, -13.75757576, -15.10075758, ..., -14.18560606,\n",
       "          -15.19621212, -15.47878788],\n",
       "         ..., \n",
       "         [-14.77575758, -13.75757576, -15.10075758, ..., -14.18560606,\n",
       "          -15.19621212, -15.47878788],\n",
       "         [-14.77575758, -13.75757576, -15.10075758, ..., -14.18560606,\n",
       "          -15.19621212, -15.47878788],\n",
       "         [-14.77575758, -13.75757576, -15.10075758, ..., -14.18560606,\n",
       "          -15.19621212, -15.47878788]]],\n",
       "\n",
       "\n",
       "       [[[-14.77575758, -13.75757576, -15.10075758, ..., -14.18560606,\n",
       "          -15.19621212, -15.47878788],\n",
       "         [-14.77575758, -13.75757576, -15.10075758, ..., -14.18560606,\n",
       "          -15.19621212, -15.47878788],\n",
       "         [-14.77575758, -13.75757576, -15.10075758, ..., -14.18560606,\n",
       "          -15.19621212, -15.47878788],\n",
       "         ..., \n",
       "         [-14.77575758, -13.75757576, -15.10075758, ..., -14.18560606,\n",
       "          -15.19621212, -15.47878788],\n",
       "         [-14.77575758, -13.75757576, -15.10075758, ..., -14.18560606,\n",
       "          -15.19621212, -15.47878788],\n",
       "         [-14.77575758, -13.75757576, -15.10075758, ..., -14.18560606,\n",
       "          -15.19621212, -15.47878788]],\n",
       "\n",
       "        [[-14.77575758, -13.75757576, -15.10075758, ..., -14.18560606,\n",
       "          -15.19621212, -15.47878788],\n",
       "         [-14.77575758, -13.75757576, -15.10075758, ..., -14.18560606,\n",
       "          -15.19621212, -15.47878788],\n",
       "         [-14.77575758, -13.75757576, -15.10075758, ..., -14.18560606,\n",
       "          -15.19621212, -15.47878788],\n",
       "         ..., \n",
       "         [-14.77575758, -13.75757576, -15.10075758, ..., -14.18560606,\n",
       "          -15.19621212, -15.47878788],\n",
       "         [-14.77575758, -13.75757576, -15.10075758, ..., -14.18560606,\n",
       "          -15.19621212, -15.47878788],\n",
       "         [-14.77575758, -13.75757576, -15.10075758, ..., -14.18560606,\n",
       "          -15.19621212, -15.47878788]],\n",
       "\n",
       "        [[-14.77575758, -13.75757576, -15.10075758, ..., -14.18560606,\n",
       "          -15.19621212, -15.47878788],\n",
       "         [-14.77575758, -13.75757576, -15.10075758, ..., -14.18560606,\n",
       "          -15.19621212, -15.47878788],\n",
       "         [-14.77575758, -13.75757576, -15.10075758, ..., -14.18560606,\n",
       "          -15.19621212, -15.47878788],\n",
       "         ..., \n",
       "         [-14.77575758, -13.75757576, -15.10075758, ..., -14.18560606,\n",
       "          -15.19621212, -15.47878788],\n",
       "         [-14.77575758, -13.75757576, -15.10075758, ..., -14.18560606,\n",
       "          -15.19621212, -15.47878788],\n",
       "         [-14.77575758, -13.75757576, -15.10075758, ..., -14.18560606,\n",
       "          -15.19621212, -15.47878788]],\n",
       "\n",
       "        ..., \n",
       "        [[-14.77575758, -13.75757576, -15.10075758, ..., -14.18560606,\n",
       "          -15.19621212, -15.47878788],\n",
       "         [-14.77575758, -13.75757576, -15.10075758, ..., -14.18560606,\n",
       "          -15.19621212, -15.47878788],\n",
       "         [-14.77575758, -13.75757576, -15.10075758, ..., -14.18560606,\n",
       "          -15.19621212, -15.47878788],\n",
       "         ..., \n",
       "         [-14.77575758, -13.75757576, -15.10075758, ..., -14.18560606,\n",
       "          -15.19621212, -15.47878788],\n",
       "         [-14.77575758, -13.75757576, -15.10075758, ..., -14.18560606,\n",
       "          -15.19621212, -15.47878788],\n",
       "         [-14.77575758, -13.75757576, -15.10075758, ..., -14.18560606,\n",
       "          -15.19621212, -15.47878788]],\n",
       "\n",
       "        [[-14.77575758, -13.75757576, -15.10075758, ..., -14.18560606,\n",
       "          -15.19621212, -15.47878788],\n",
       "         [-14.77575758, -13.75757576, -15.10075758, ..., -14.18560606,\n",
       "          -15.19621212, -15.47878788],\n",
       "         [-14.77575758, -13.75757576, -15.10075758, ..., -14.18560606,\n",
       "          -15.19621212, -15.47878788],\n",
       "         ..., \n",
       "         [-14.77575758, -13.75757576, -15.10075758, ..., -14.18560606,\n",
       "          -15.19621212, -15.47878788],\n",
       "         [-14.77575758, -13.75757576, -15.10075758, ..., -14.18560606,\n",
       "          -15.19621212, -15.47878788],\n",
       "         [-14.77575758, -13.75757576, -15.10075758, ..., -14.18560606,\n",
       "          -15.19621212, -15.47878788]],\n",
       "\n",
       "        [[-14.77575758, -13.75757576, -15.10075758, ..., -14.18560606,\n",
       "          -15.19621212, -15.47878788],\n",
       "         [-14.77575758, -13.75757576, -15.10075758, ..., -14.18560606,\n",
       "          -15.19621212, -15.47878788],\n",
       "         [-14.77575758, -13.75757576, -15.10075758, ..., -14.18560606,\n",
       "          -15.19621212, -15.47878788],\n",
       "         ..., \n",
       "         [-14.77575758, -13.75757576, -15.10075758, ..., -14.18560606,\n",
       "          -15.19621212, -15.47878788],\n",
       "         [-14.77575758, -13.75757576, -15.10075758, ..., -14.18560606,\n",
       "          -15.19621212, -15.47878788],\n",
       "         [-14.77575758, -13.75757576, -15.10075758, ..., -14.18560606,\n",
       "          -15.19621212, -15.47878788]]]])"
      ]
     },
     "execution_count": 116,
     "metadata": {},
     "output_type": "execute_result"
    }
   ],
   "source": [
    "demean_over_time(a)"
   ]
  },
  {
   "cell_type": "code",
   "execution_count": null,
   "metadata": {
    "collapsed": true
   },
   "outputs": [],
   "source": [
    "plt.imshow(normalize(im1.dataobj)[])"
   ]
  },
  {
   "cell_type": "code",
   "execution_count": null,
   "metadata": {
    "collapsed": true
   },
   "outputs": [],
   "source": [
    "plot( im1. normalize_j( im1.dataobj )[])"
   ]
  },
  {
   "cell_type": "code",
   "execution_count": 110,
   "metadata": {},
   "outputs": [
    {
     "data": {
      "text/plain": [
       "[<matplotlib.lines.Line2D at 0x7febc1811668>]"
      ]
     },
     "execution_count": 110,
     "metadata": {},
     "output_type": "execute_result"
    },
    {
     "data": {
      "image/png": "[encoded data removed]",
      "text/plain": [
       "<matplotlib.figure.Figure at 0x7febc3c26978>"
      ]
     },
     "metadata": {},
     "output_type": "display_data"
    }
   ],
   "source": [
    "# average of total volume over time\n",
    "volume_mean = im1.dataobj.flatten().mean()\n",
    "plot((im1.dataobj.mean(axis=(0,1,2)) - volume_mean )/ volume_mean)"
   ]
  },
  {
   "cell_type": "code",
   "execution_count": 105,
   "metadata": {},
   "outputs": [
    {
     "data": {
      "text/plain": [
       "[<matplotlib.lines.Line2D at 0x7febbfa0a828>]"
      ]
     },
     "execution_count": 105,
     "metadata": {},
     "output_type": "execute_result"
    },
    {
     "data": {
      "image/png": "[encoded data removed]",
      "text/plain": [
       "<matplotlib.figure.Figure at 0x7febc090dc50>"
      ]
     },
     "metadata": {},
     "output_type": "display_data"
    }
   ],
   "source": [
    "# average of total volume over time\n",
    "plot(im1.dataobj.mean(axis=(0,1,3)))"
   ]
  },
  {
   "cell_type": "code",
   "execution_count": null,
   "metadata": {
    "collapsed": true
   },
   "outputs": [],
   "source": [
    "plot(im1.dataobj[:])"
   ]
  },
  {
   "cell_type": "code",
   "execution_count": 91,
   "metadata": {
    "collapsed": true
   },
   "outputs": [
    {
     "ename": "ValueError",
     "evalue": "x and y can be no greater than 2-D, but have shapes (10,) and (10, 11, 12, 17)",
     "output_type": "error",
     "traceback": [
      "\u001b[0;31m---------------------------------------------------------------------------\u001b[0m",
      "\u001b[0;31mValueError\u001b[0m                                Traceback (most recent call last)",
      "\u001b[0;32m<ipython-input-91-e0d7ebdf868e>\u001b[0m in \u001b[0;36m<module>\u001b[0;34m()\u001b[0m\n\u001b[0;32m----> 1\u001b[0;31m \u001b[0mplot\u001b[0m\u001b[0;34m(\u001b[0m\u001b[0mim1\u001b[0m\u001b[0;34m.\u001b[0m\u001b[0mget_data\u001b[0m\u001b[0;34m(\u001b[0m\u001b[0;34m)\u001b[0m\u001b[0;34m[\u001b[0m\u001b[0;34m:\u001b[0m\u001b[0;34m,\u001b[0m\u001b[0;34m...\u001b[0m\u001b[0;34m]\u001b[0m\u001b[0;34m)\u001b[0m\u001b[0;34m\u001b[0m\u001b[0m\n\u001b[0m",
      "\u001b[0;32m/opt/conda/envs/neuro/lib/python3.6/site-packages/matplotlib/pyplot.py\u001b[0m in \u001b[0;36mplot\u001b[0;34m(*args, **kwargs)\u001b[0m\n\u001b[1;32m   3315\u001b[0m                       mplDeprecation)\n\u001b[1;32m   3316\u001b[0m     \u001b[0;32mtry\u001b[0m\u001b[0;34m:\u001b[0m\u001b[0;34m\u001b[0m\u001b[0m\n\u001b[0;32m-> 3317\u001b[0;31m         \u001b[0mret\u001b[0m \u001b[0;34m=\u001b[0m \u001b[0max\u001b[0m\u001b[0;34m.\u001b[0m\u001b[0mplot\u001b[0m\u001b[0;34m(\u001b[0m\u001b[0;34m*\u001b[0m\u001b[0margs\u001b[0m\u001b[0;34m,\u001b[0m \u001b[0;34m**\u001b[0m\u001b[0mkwargs\u001b[0m\u001b[0;34m)\u001b[0m\u001b[0;34m\u001b[0m\u001b[0m\n\u001b[0m\u001b[1;32m   3318\u001b[0m     \u001b[0;32mfinally\u001b[0m\u001b[0;34m:\u001b[0m\u001b[0;34m\u001b[0m\u001b[0m\n\u001b[1;32m   3319\u001b[0m         \u001b[0max\u001b[0m\u001b[0;34m.\u001b[0m\u001b[0m_hold\u001b[0m \u001b[0;34m=\u001b[0m \u001b[0mwashold\u001b[0m\u001b[0;34m\u001b[0m\u001b[0m\n",
      "\u001b[0;32m/opt/conda/envs/neuro/lib/python3.6/site-packages/matplotlib/__init__.py\u001b[0m in \u001b[0;36minner\u001b[0;34m(ax, *args, **kwargs)\u001b[0m\n\u001b[1;32m   1896\u001b[0m                     warnings.warn(msg % (label_namer, func.__name__),\n\u001b[1;32m   1897\u001b[0m                                   RuntimeWarning, stacklevel=2)\n\u001b[0;32m-> 1898\u001b[0;31m             \u001b[0;32mreturn\u001b[0m \u001b[0mfunc\u001b[0m\u001b[0;34m(\u001b[0m\u001b[0max\u001b[0m\u001b[0;34m,\u001b[0m \u001b[0;34m*\u001b[0m\u001b[0margs\u001b[0m\u001b[0;34m,\u001b[0m \u001b[0;34m**\u001b[0m\u001b[0mkwargs\u001b[0m\u001b[0;34m)\u001b[0m\u001b[0;34m\u001b[0m\u001b[0m\n\u001b[0m\u001b[1;32m   1899\u001b[0m         \u001b[0mpre_doc\u001b[0m \u001b[0;34m=\u001b[0m \u001b[0minner\u001b[0m\u001b[0;34m.\u001b[0m\u001b[0m__doc__\u001b[0m\u001b[0;34m\u001b[0m\u001b[0m\n\u001b[1;32m   1900\u001b[0m         \u001b[0;32mif\u001b[0m \u001b[0mpre_doc\u001b[0m \u001b[0;32mis\u001b[0m \u001b[0;32mNone\u001b[0m\u001b[0;34m:\u001b[0m\u001b[0;34m\u001b[0m\u001b[0m\n",
      "\u001b[0;32m/opt/conda/envs/neuro/lib/python3.6/site-packages/matplotlib/axes/_axes.py\u001b[0m in \u001b[0;36mplot\u001b[0;34m(self, *args, **kwargs)\u001b[0m\n\u001b[1;32m   1404\u001b[0m         \u001b[0mkwargs\u001b[0m \u001b[0;34m=\u001b[0m \u001b[0mcbook\u001b[0m\u001b[0;34m.\u001b[0m\u001b[0mnormalize_kwargs\u001b[0m\u001b[0;34m(\u001b[0m\u001b[0mkwargs\u001b[0m\u001b[0;34m,\u001b[0m \u001b[0m_alias_map\u001b[0m\u001b[0;34m)\u001b[0m\u001b[0;34m\u001b[0m\u001b[0m\n\u001b[1;32m   1405\u001b[0m \u001b[0;34m\u001b[0m\u001b[0m\n\u001b[0;32m-> 1406\u001b[0;31m         \u001b[0;32mfor\u001b[0m \u001b[0mline\u001b[0m \u001b[0;32min\u001b[0m \u001b[0mself\u001b[0m\u001b[0;34m.\u001b[0m\u001b[0m_get_lines\u001b[0m\u001b[0;34m(\u001b[0m\u001b[0;34m*\u001b[0m\u001b[0margs\u001b[0m\u001b[0;34m,\u001b[0m \u001b[0;34m**\u001b[0m\u001b[0mkwargs\u001b[0m\u001b[0;34m)\u001b[0m\u001b[0;34m:\u001b[0m\u001b[0;34m\u001b[0m\u001b[0m\n\u001b[0m\u001b[1;32m   1407\u001b[0m             \u001b[0mself\u001b[0m\u001b[0;34m.\u001b[0m\u001b[0madd_line\u001b[0m\u001b[0;34m(\u001b[0m\u001b[0mline\u001b[0m\u001b[0;34m)\u001b[0m\u001b[0;34m\u001b[0m\u001b[0m\n\u001b[1;32m   1408\u001b[0m             \u001b[0mlines\u001b[0m\u001b[0;34m.\u001b[0m\u001b[0mappend\u001b[0m\u001b[0;34m(\u001b[0m\u001b[0mline\u001b[0m\u001b[0;34m)\u001b[0m\u001b[0;34m\u001b[0m\u001b[0m\n",
      "\u001b[0;32m/opt/conda/envs/neuro/lib/python3.6/site-packages/matplotlib/axes/_base.py\u001b[0m in \u001b[0;36m_grab_next_args\u001b[0;34m(self, *args, **kwargs)\u001b[0m\n\u001b[1;32m    405\u001b[0m                 \u001b[0;32mreturn\u001b[0m\u001b[0;34m\u001b[0m\u001b[0m\n\u001b[1;32m    406\u001b[0m             \u001b[0;32mif\u001b[0m \u001b[0mlen\u001b[0m\u001b[0;34m(\u001b[0m\u001b[0mremaining\u001b[0m\u001b[0;34m)\u001b[0m \u001b[0;34m<=\u001b[0m \u001b[0;36m3\u001b[0m\u001b[0;34m:\u001b[0m\u001b[0;34m\u001b[0m\u001b[0m\n\u001b[0;32m--> 407\u001b[0;31m                 \u001b[0;32mfor\u001b[0m \u001b[0mseg\u001b[0m \u001b[0;32min\u001b[0m \u001b[0mself\u001b[0m\u001b[0;34m.\u001b[0m\u001b[0m_plot_args\u001b[0m\u001b[0;34m(\u001b[0m\u001b[0mremaining\u001b[0m\u001b[0;34m,\u001b[0m \u001b[0mkwargs\u001b[0m\u001b[0;34m)\u001b[0m\u001b[0;34m:\u001b[0m\u001b[0;34m\u001b[0m\u001b[0m\n\u001b[0m\u001b[1;32m    408\u001b[0m                     \u001b[0;32myield\u001b[0m \u001b[0mseg\u001b[0m\u001b[0;34m\u001b[0m\u001b[0m\n\u001b[1;32m    409\u001b[0m                 \u001b[0;32mreturn\u001b[0m\u001b[0;34m\u001b[0m\u001b[0m\n",
      "\u001b[0;32m/opt/conda/envs/neuro/lib/python3.6/site-packages/matplotlib/axes/_base.py\u001b[0m in \u001b[0;36m_plot_args\u001b[0;34m(self, tup, kwargs)\u001b[0m\n\u001b[1;32m    383\u001b[0m             \u001b[0mx\u001b[0m\u001b[0;34m,\u001b[0m \u001b[0my\u001b[0m \u001b[0;34m=\u001b[0m \u001b[0mindex_of\u001b[0m\u001b[0;34m(\u001b[0m\u001b[0mtup\u001b[0m\u001b[0;34m[\u001b[0m\u001b[0;34m-\u001b[0m\u001b[0;36m1\u001b[0m\u001b[0;34m]\u001b[0m\u001b[0;34m)\u001b[0m\u001b[0;34m\u001b[0m\u001b[0m\n\u001b[1;32m    384\u001b[0m \u001b[0;34m\u001b[0m\u001b[0m\n\u001b[0;32m--> 385\u001b[0;31m         \u001b[0mx\u001b[0m\u001b[0;34m,\u001b[0m \u001b[0my\u001b[0m \u001b[0;34m=\u001b[0m \u001b[0mself\u001b[0m\u001b[0;34m.\u001b[0m\u001b[0m_xy_from_xy\u001b[0m\u001b[0;34m(\u001b[0m\u001b[0mx\u001b[0m\u001b[0;34m,\u001b[0m \u001b[0my\u001b[0m\u001b[0;34m)\u001b[0m\u001b[0;34m\u001b[0m\u001b[0m\n\u001b[0m\u001b[1;32m    386\u001b[0m \u001b[0;34m\u001b[0m\u001b[0m\n\u001b[1;32m    387\u001b[0m         \u001b[0;32mif\u001b[0m \u001b[0mself\u001b[0m\u001b[0;34m.\u001b[0m\u001b[0mcommand\u001b[0m \u001b[0;34m==\u001b[0m \u001b[0;34m'plot'\u001b[0m\u001b[0;34m:\u001b[0m\u001b[0;34m\u001b[0m\u001b[0m\n",
      "\u001b[0;32m/opt/conda/envs/neuro/lib/python3.6/site-packages/matplotlib/axes/_base.py\u001b[0m in \u001b[0;36m_xy_from_xy\u001b[0;34m(self, x, y)\u001b[0m\n\u001b[1;32m    245\u001b[0m         \u001b[0;32mif\u001b[0m \u001b[0mx\u001b[0m\u001b[0;34m.\u001b[0m\u001b[0mndim\u001b[0m \u001b[0;34m>\u001b[0m \u001b[0;36m2\u001b[0m \u001b[0;32mor\u001b[0m \u001b[0my\u001b[0m\u001b[0;34m.\u001b[0m\u001b[0mndim\u001b[0m \u001b[0;34m>\u001b[0m \u001b[0;36m2\u001b[0m\u001b[0;34m:\u001b[0m\u001b[0;34m\u001b[0m\u001b[0m\n\u001b[1;32m    246\u001b[0m             raise ValueError(\"x and y can be no greater than 2-D, but have \"\n\u001b[0;32m--> 247\u001b[0;31m                              \"shapes {} and {}\".format(x.shape, y.shape))\n\u001b[0m\u001b[1;32m    248\u001b[0m \u001b[0;34m\u001b[0m\u001b[0m\n\u001b[1;32m    249\u001b[0m         \u001b[0;32mif\u001b[0m \u001b[0mx\u001b[0m\u001b[0;34m.\u001b[0m\u001b[0mndim\u001b[0m \u001b[0;34m==\u001b[0m \u001b[0;36m1\u001b[0m\u001b[0;34m:\u001b[0m\u001b[0;34m\u001b[0m\u001b[0m\n",
      "\u001b[0;31mValueError\u001b[0m: x and y can be no greater than 2-D, but have shapes (10,) and (10, 11, 12, 17)"
     ]
    },
    {
     "data": {
      "image/png": "[encoded data removed]",
      "text/plain": [
       "<matplotlib.figure.Figure at 0x7febc2873cc0>"
      ]
     },
     "metadata": {},
     "output_type": "display_data"
    }
   ],
   "source": [
    "plot(im1.get_data()[:,...])"
   ]
  },
  {
   "cell_type": "code",
   "execution_count": 48,
   "metadata": {},
   "outputs": [
    {
     "data": {
      "text/plain": [
       "<nibabel.nifti1.Nifti1Image at 0x7febed272908>"
      ]
     },
     "execution_count": 48,
     "metadata": {},
     "output_type": "execute_result"
    }
   ],
   "source": [
    "i1"
   ]
  },
  {
   "cell_type": "code",
   "execution_count": 49,
   "metadata": {
    "collapsed": true
   },
   "outputs": [],
   "source": [
    "import nibabel as nib"
   ]
  },
  {
   "cell_type": "code",
   "execution_count": 50,
   "metadata": {
    "collapsed": true
   },
   "outputs": [],
   "source": [
    "import pylab as plt"
   ]
  },
  {
   "cell_type": "code",
   "execution_count": 51,
   "metadata": {},
   "outputs": [],
   "source": [
    "# get 5th volume\n",
    "t1 = i1.get_data()[:,:,:,5]"
   ]
  },
  {
   "cell_type": "code",
   "execution_count": 52,
   "metadata": {},
   "outputs": [
    {
     "name": "stdout",
     "output_type": "stream",
     "text": [
      "Populating the interactive namespace from numpy and matplotlib\n"
     ]
    },
    {
     "name": "stderr",
     "output_type": "stream",
     "text": [
      "/opt/conda/envs/neuro/lib/python3.6/site-packages/IPython/core/magics/pylab.py:160: UserWarning: pylab import has clobbered these variables: ['plt']\n",
      "`%matplotlib` prevents importing * from pylab and numpy\n",
      "  \"\\n`%matplotlib` prevents importing * from pylab and numpy\"\n"
     ]
    }
   ],
   "source": [
    "%pylab inline"
   ]
  },
  {
   "cell_type": "code",
   "execution_count": 66,
   "metadata": {},
   "outputs": [
    {
     "data": {
      "image/png": "[encoded data removed]",
      "text/plain": [
       "<matplotlib.figure.Figure at 0x7febc784f400>"
      ]
     },
     "metadata": {},
     "output_type": "display_data"
    }
   ],
   "source": [
    "data = i1.get_data()\n",
    "fig = plt.imshow(data[:,:,data.shape[2] // 2, 10].T, cmap='Greys_r')\n",
    "fig.axes.set_xticks([])\n",
    "_ = fig.axes.set_yticks([])"
   ]
  },
  {
   "cell_type": "code",
   "execution_count": 67,
   "metadata": {},
   "outputs": [
    {
     "data": {
      "text/plain": [
       "array([[   0.,    0.,    0.,    0.,    0.,    0.,    0.,    0.,    0.,\n",
       "           0.],\n",
       "       [   0.,    0.,    0.,    0.,    0.,    0.,    0.,    0.,    0.,\n",
       "           0.],\n",
       "       [   0.,    0.,  169.,  242.,  250.,   43.,  161.,    0.,    0.,\n",
       "           0.],\n",
       "       [   0.,    0.,  240.,  114.,   48.,   26.,  159.,    0.,    0.,\n",
       "           0.],\n",
       "       [   0.,    0.,  171.,   61.,   58.,  146.,  157.,    0.,    0.,\n",
       "           0.],\n",
       "       [   0.,    0.,   88.,  140.,  159.,  162.,   96.,    0.,    0.,\n",
       "           0.],\n",
       "       [   0.,    0.,  225.,   36.,  155.,  107.,   69.,    0.,    0.,\n",
       "           0.],\n",
       "       [   0.,    0.,    0.,    0.,    0.,    0.,    0.,    0.,    0.,\n",
       "           0.],\n",
       "       [   0.,    0.,    0.,    0.,    0.,    0.,    0.,    0.,    0.,\n",
       "           0.],\n",
       "       [   0.,    0.,    0.,    0.,    0.,    0.,    0.,    0.,    0.,\n",
       "           0.],\n",
       "       [   0.,    0.,    0.,    0.,    0.,    0.,    0.,    0.,    0.,\n",
       "           0.]])"
      ]
     },
     "execution_count": 67,
     "metadata": {},
     "output_type": "execute_result"
    }
   ],
   "source": [
    "data[:,:,data.shape[2] // 2, 10].T"
   ]
  },
  {
   "cell_type": "code",
   "execution_count": 135,
   "metadata": {
    "collapsed": true
   },
   "outputs": [],
   "source": [
    "s = \"\"\"leah.antoniuk@gmail.com\tLeah\n",
    "\t\n",
    "daskalch@ualberta.ca\tJanice\n",
    "\tWietske\n",
    "Gilchrist.sd@gmail.com\tSarah\n",
    "pkgivens@shaw.ca\tKristina\n",
    "harksendeb@gmail.com\tDebbie\n",
    "\t\n",
    "\t\n",
    "nkermoal@ualberta.ca\tNathalie\n",
    "andrewandrhea@gmail.com\tRhea\n",
    "nina.lothian@mail.mcgill.ca\tNina\n",
    "\t\n",
    "\t\n",
    "Laurel.m@telus.net\tLaurel\n",
    "\t\n",
    "\t\n",
    "2run4@telus.net\tKaren\n",
    "Cjteskey2000@yahoo.com\tCarla\n",
    "carlenetownell@yahoo.ca\tCarlene\n",
    "tracy.utting@gmail.com\tTracy\n",
    "\t\n",
    "\t\n",
    "rcamicio@ualberta.ca\tRichard\n",
    "\t\n",
    "\t\n",
    "madavy@gmail.com\tMitch\n",
    "\t\n",
    "\t\n",
    "jlatmann@gmail.com\tJoseph\n",
    "jlatmann@gmail.com\tAnand\n",
    "reichertpfd@gmail.com\tJared\n",
    "ejreichert@hotmail.com\tErrol\n",
    "\t\n",
    "\t\n",
    "jtownell@gmail.com\tJustin\n",
    "lieserl.woods@gmail.com\tLieserl\n",
    "\t\n",
    "\t\n",
    "\t\n",
    "\t\n",
    "\t\n",
    "\t\n",
    "\t\n",
    "\t\n",
    "\t\n",
    "\t\n",
    "\t\n",
    "christine.brown@ualberta.ca\tChristine\n",
    "\t\n",
    "Kstix@telus.net\tStix\n",
    "\t\n",
    "\t\n",
    "joelleprince1@gmail.com\tJoelle\n",
    "yvonnesanche@gmail.com\tYvonne\n",
    "\t\n",
    "\t\n",
    "0\t0\n",
    "\t\n",
    "\t\n",
    "\t\n",
    "\t\n",
    "\t\n",
    "\t\n",
    "\t\n",
    "\t\n",
    "\t\n",
    "\t\n",
    "\t\n",
    "\t\n",
    "\t\n",
    "\t\n",
    "\t\n",
    "\t\n",
    "brent.robert.miller@gmail.com\tBrent\n",
    "\t\n",
    "\t\n",
    "jay1scott@shaw.ca\tJason\n",
    "\t\n",
    "asutton@ualberta.ca\tAaron\n",
    "\t\n",
    "vadymtymashov@gmail.com\tVadym\n",
    "ray_v8@hotmail.com\tRaymond\n",
    "jrwest1@telus.net\tAndrew\n",
    "\t\n",
    "\t\n",
    "\t\n",
    "\t\n",
    "\t\n",
    "\t\n",
    "\t\n",
    "\t\n",
    "\t\n",
    "\t\n",
    "\t\n",
    "\t\n",
    "\t\n",
    "\t\n",
    "serguei.roupassov@gmail.com\tAnton\n",
    "\t\n",
    "\t\n",
    "\t\n",
    "\t\n",
    "\t\n",
    "\t\n",
    "\t\n",
    "\t\n",
    "\t\n",
    "\t\n",
    "\t\n",
    "\t\n",
    "\t\n",
    "\t\n",
    "\t\n",
    "\t\n",
    "\t\n",
    "\t\n",
    "\t\n",
    "\t\n",
    "\t\n",
    "\t\n",
    "\t\n",
    "\t\n",
    "\t\n",
    "\t\n",
    "\t\n",
    "\t\n",
    "\t\n",
    "\t\n",
    "\t\n",
    "\t\n",
    "sarahkmtipples@gmail.com\tSarah\"\"\""
   ]
  },
  {
   "cell_type": "code",
   "execution_count": 139,
   "metadata": {},
   "outputs": [
    {
     "name": "stdout",
     "output_type": "stream",
     "text": [
      "leah.antoniuk@gmail.com,Leah\n",
      "daskalch@ualberta.ca,Janice\n",
      ",Wietske\n",
      "Gilchrist.sd@gmail.com,Sarah\n",
      "pkgivens@shaw.ca,Kristina\n",
      "harksendeb@gmail.com,Debbie\n",
      "nkermoal@ualberta.ca,Nathalie\n",
      "andrewandrhea@gmail.com,Rhea\n",
      "nina.lothian@mail.mcgill.ca,Nina\n",
      "Laurel.m@telus.net,Laurel\n",
      "2run4@telus.net,Karen\n",
      "Cjteskey2000@yahoo.com,Carla\n",
      "carlenetownell@yahoo.ca,Carlene\n",
      "tracy.utting@gmail.com,Tracy\n",
      "rcamicio@ualberta.ca,Richard\n",
      "madavy@gmail.com,Mitch\n",
      "jlatmann@gmail.com,Joseph\n",
      "jlatmann@gmail.com,Anand\n",
      "reichertpfd@gmail.com,Jared\n",
      "ejreichert@hotmail.com,Errol\n",
      "jtownell@gmail.com,Justin\n",
      "lieserl.woods@gmail.com,Lieserl\n",
      "christine.brown@ualberta.ca,Christine\n",
      "Kstix@telus.net,Stix\n",
      "joelleprince1@gmail.com,Joelle\n",
      "yvonnesanche@gmail.com,Yvonne\n",
      "0,0\n",
      "brent.robert.miller@gmail.com,Brent\n",
      "jay1scott@shaw.ca,Jason\n",
      "asutton@ualberta.ca,Aaron\n",
      "vadymtymashov@gmail.com,Vadym\n",
      "ray_v8@hotmail.com,Raymond\n",
      "jrwest1@telus.net,Andrew\n",
      "serguei.roupassov@gmail.com,Anton\n",
      "sarahkmtipples@gmail.com,Sarah\n"
     ]
    }
   ],
   "source": [
    "print(s.replace(\"\\t\\n\",'').replace(\"\\t\",','))"
   ]
  },
  {
   "cell_type": "code",
   "execution_count": null,
   "metadata": {
    "collapsed": true
   },
   "outputs": [],
   "source": []
  }
 ],
 "metadata": {
  "kernelspec": {
   "display_name": "Python 3",
   "language": "python",
   "name": "python3"
  },
  "language_info": {
   "codemirror_mode": {
    "name": "ipython",
    "version": 3
   },
   "file_extension": ".py",
   "mimetype": "text/x-python",
   "name": "python",
   "nbconvert_exporter": "python",
   "pygments_lexer": "ipython3",
   "version": "3.6.2"
  }
 },
 "nbformat": 4,
 "nbformat_minor": 2
}
